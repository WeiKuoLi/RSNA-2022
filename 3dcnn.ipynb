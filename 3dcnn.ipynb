{
 "cells": [
  {
   "cell_type": "markdown",
   "id": "28663bf5",
   "metadata": {
    "papermill": {
     "duration": 0.009739,
     "end_time": "2022-09-22T14:16:17.790904",
     "exception": false,
     "start_time": "2022-09-22T14:16:17.781165",
     "status": "completed"
    },
    "tags": []
   },
   "source": [
    "# A MINIMUM NOTE BOOK FOR 3D CNN"
   ]
  },
  {
   "cell_type": "markdown",
   "id": "3f766646",
   "metadata": {
    "execution": {
     "iopub.execute_input": "2022-09-08T10:30:53.35868Z",
     "iopub.status.busy": "2022-09-08T10:30:53.357779Z",
     "iopub.status.idle": "2022-09-08T10:30:53.381486Z",
     "shell.execute_reply": "2022-09-08T10:30:53.380449Z",
     "shell.execute_reply.started": "2022-09-08T10:30:53.358571Z"
    },
    "papermill": {
     "duration": 0.008045,
     "end_time": "2022-09-22T14:16:17.807626",
     "exception": false,
     "start_time": "2022-09-22T14:16:17.799581",
     "status": "completed"
    },
    "tags": []
   },
   "source": [
    "### 1. Install this packages for correctly reading images (credit : [this notebook of @samuelcortinhas](https://www.kaggle.com/code/samuelcortinhas/rsna-fracture-detection-in-depth-eda))\n",
    "## BUT BEFORE YOU HAVE TO ADD pydicom utility : Add Data menu --> search for Pydicom Utility --> add the data"
   ]
  },
  {
   "cell_type": "code",
   "execution_count": 1,
   "id": "8d41b6da",
   "metadata": {
    "execution": {
     "iopub.execute_input": "2022-09-22T14:16:17.826825Z",
     "iopub.status.busy": "2022-09-22T14:16:17.825950Z",
     "iopub.status.idle": "2022-09-22T14:16:29.138246Z",
     "shell.execute_reply": "2022-09-22T14:16:29.137058Z"
    },
    "papermill": {
     "duration": 11.324771,
     "end_time": "2022-09-22T14:16:29.140702",
     "exception": false,
     "start_time": "2022-09-22T14:16:17.815931",
     "status": "completed"
    },
    "tags": []
   },
   "outputs": [
    {
     "name": "stdout",
     "output_type": "stream",
     "text": [
      "\u001b[33mWARNING: Running pip as the 'root' user can result in broken permissions and conflicting behaviour with the system package manager. It is recommended to use a virtual environment instead: https://pip.pypa.io/warnings/venv\u001b[0m\u001b[33m\r\n",
      "\u001b[0m"
     ]
    }
   ],
   "source": [
    "!pip install -qU '../input/for-pydicom/python_gdcm-3.0.14-cp37-cp37m-manylinux_2_17_x86_64.manylinux2014_x86_64.whl' --find-links frozen_packages --no-index\n"
   ]
  },
  {
   "cell_type": "code",
   "execution_count": 2,
   "id": "7e8a6f7d",
   "metadata": {
    "execution": {
     "iopub.execute_input": "2022-09-22T14:16:29.162255Z",
     "iopub.status.busy": "2022-09-22T14:16:29.161943Z",
     "iopub.status.idle": "2022-09-22T14:16:38.419266Z",
     "shell.execute_reply": "2022-09-22T14:16:38.418112Z"
    },
    "papermill": {
     "duration": 9.272404,
     "end_time": "2022-09-22T14:16:38.421802",
     "exception": false,
     "start_time": "2022-09-22T14:16:29.149398",
     "status": "completed"
    },
    "tags": []
   },
   "outputs": [
    {
     "name": "stdout",
     "output_type": "stream",
     "text": [
      "\u001b[33mWARNING: Running pip as the 'root' user can result in broken permissions and conflicting behaviour with the system package manager. It is recommended to use a virtual environment instead: https://pip.pypa.io/warnings/venv\u001b[0m\u001b[33m\r\n",
      "\u001b[0m"
     ]
    }
   ],
   "source": [
    "!pip install -qU '../input/for-pydicom/pylibjpeg-1.4.0-py3-none-any.whl' --find-links frozen_packages --no-index"
   ]
  },
  {
   "cell_type": "code",
   "execution_count": 3,
   "id": "6e8cbc0d",
   "metadata": {
    "execution": {
     "iopub.execute_input": "2022-09-22T14:16:38.442321Z",
     "iopub.status.busy": "2022-09-22T14:16:38.441949Z",
     "iopub.status.idle": "2022-09-22T14:16:39.396194Z",
     "shell.execute_reply": "2022-09-22T14:16:39.395007Z"
    },
    "papermill": {
     "duration": 0.966259,
     "end_time": "2022-09-22T14:16:39.398612",
     "exception": false,
     "start_time": "2022-09-22T14:16:38.432353",
     "status": "completed"
    },
    "tags": []
   },
   "outputs": [
    {
     "name": "stdout",
     "output_type": "stream",
     "text": [
      "StudyInstanceUID,patient_overall,C1,C2,C3,C4,C5,C6,C7\r\n",
      "1.2.826.0.1.3680043.6200,1,1,1,0,0,0,0,0\r\n",
      "1.2.826.0.1.3680043.27262,1,0,1,0,0,0,0,0\r\n",
      "1.2.826.0.1.3680043.21561,1,0,1,0,0,0,0,0\r\n",
      "1.2.826.0.1.3680043.12351,0,0,0,0,0,0,0,0\r\n",
      "1.2.826.0.1.3680043.1363,1,0,0,0,0,1,0,0\r\n",
      "1.2.826.0.1.3680043.4859,1,0,0,0,0,0,1,0\r\n",
      "1.2.826.0.1.3680043.18659,1,0,0,0,1,0,0,1\r\n",
      "1.2.826.0.1.3680043.17364,0,0,0,0,0,0,0,0\r\n",
      "1.2.826.0.1.3680043.849,0,0,0,0,0,0,0,0\r\n"
     ]
    }
   ],
   "source": [
    "!head ../input/rsna*/train.csv\n",
    "\n"
   ]
  },
  {
   "cell_type": "markdown",
   "id": "30066f8b",
   "metadata": {
    "execution": {
     "iopub.execute_input": "2022-09-08T10:37:36.908029Z",
     "iopub.status.busy": "2022-09-08T10:37:36.90759Z",
     "iopub.status.idle": "2022-09-08T10:37:36.913197Z",
     "shell.execute_reply": "2022-09-08T10:37:36.912168Z",
     "shell.execute_reply.started": "2022-09-08T10:37:36.907986Z"
    },
    "papermill": {
     "duration": 0.008286,
     "end_time": "2022-09-22T14:16:39.415898",
     "exception": false,
     "start_time": "2022-09-22T14:16:39.407612",
     "status": "completed"
    },
    "tags": []
   },
   "source": [
    "### 2. Import the necessary packages"
   ]
  },
  {
   "cell_type": "code",
   "execution_count": 4,
   "id": "2c136849",
   "metadata": {
    "execution": {
     "iopub.execute_input": "2022-09-22T14:16:39.434400Z",
     "iopub.status.busy": "2022-09-22T14:16:39.434059Z",
     "iopub.status.idle": "2022-09-22T14:16:40.762679Z",
     "shell.execute_reply": "2022-09-22T14:16:40.761699Z"
    },
    "papermill": {
     "duration": 1.340926,
     "end_time": "2022-09-22T14:16:40.765281",
     "exception": false,
     "start_time": "2022-09-22T14:16:39.424355",
     "status": "completed"
    },
    "tags": []
   },
   "outputs": [],
   "source": [
    "import numpy as np\n",
    "import pandas as pd\n",
    "import os\n",
    "import matplotlib.pyplot as plt\n",
    "import matplotlib.patches as patches\n",
    "import seaborn as sns\n",
    "sns.set(style='darkgrid', font_scale=1.6)\n",
    "import cv2\n",
    "from os import listdir\n",
    "import re\n",
    "import gc\n",
    "import pydicom\n",
    "from pydicom.pixel_data_handlers.util import apply_voi_lut\n",
    "from tqdm import tqdm\n",
    "import nibabel as nib\n",
    "import random"
   ]
  },
  {
   "cell_type": "markdown",
   "id": "1e0467eb",
   "metadata": {
    "papermill": {
     "duration": 0.008292,
     "end_time": "2022-09-22T14:16:40.782345",
     "exception": false,
     "start_time": "2022-09-22T14:16:40.774053",
     "status": "completed"
    },
    "tags": []
   },
   "source": [
    "### 3. Explore the csv files : train.csv and train_bounding_boxes"
   ]
  },
  {
   "cell_type": "markdown",
   "id": "705a6416",
   "metadata": {
    "papermill": {
     "duration": 0.00809,
     "end_time": "2022-09-22T14:16:40.798803",
     "exception": false,
     "start_time": "2022-09-22T14:16:40.790713",
     "status": "completed"
    },
    "tags": []
   },
   "source": [
    "#### Read train.csv"
   ]
  },
  {
   "cell_type": "code",
   "execution_count": 5,
   "id": "95abb26b",
   "metadata": {
    "execution": {
     "iopub.execute_input": "2022-09-22T14:16:40.818154Z",
     "iopub.status.busy": "2022-09-22T14:16:40.817173Z",
     "iopub.status.idle": "2022-09-22T14:16:40.870558Z",
     "shell.execute_reply": "2022-09-22T14:16:40.867119Z"
    },
    "papermill": {
     "duration": 0.065822,
     "end_time": "2022-09-22T14:16:40.873140",
     "exception": false,
     "start_time": "2022-09-22T14:16:40.807318",
     "status": "completed"
    },
    "tags": []
   },
   "outputs": [
    {
     "name": "stdout",
     "output_type": "stream",
     "text": [
      "<class 'pandas.core.frame.DataFrame'>\n",
      "RangeIndex: 2019 entries, 0 to 2018\n",
      "Data columns (total 9 columns):\n",
      " #   Column            Non-Null Count  Dtype \n",
      "---  ------            --------------  ----- \n",
      " 0   StudyInstanceUID  2019 non-null   object\n",
      " 1   patient_overall   2019 non-null   int64 \n",
      " 2   C1                2019 non-null   int64 \n",
      " 3   C2                2019 non-null   int64 \n",
      " 4   C3                2019 non-null   int64 \n",
      " 5   C4                2019 non-null   int64 \n",
      " 6   C5                2019 non-null   int64 \n",
      " 7   C6                2019 non-null   int64 \n",
      " 8   C7                2019 non-null   int64 \n",
      "dtypes: int64(8), object(1)\n",
      "memory usage: 142.1+ KB\n",
      "None\n"
     ]
    },
    {
     "data": {
      "text/html": [
       "<div>\n",
       "<style scoped>\n",
       "    .dataframe tbody tr th:only-of-type {\n",
       "        vertical-align: middle;\n",
       "    }\n",
       "\n",
       "    .dataframe tbody tr th {\n",
       "        vertical-align: top;\n",
       "    }\n",
       "\n",
       "    .dataframe thead th {\n",
       "        text-align: right;\n",
       "    }\n",
       "</style>\n",
       "<table border=\"1\" class=\"dataframe\">\n",
       "  <thead>\n",
       "    <tr style=\"text-align: right;\">\n",
       "      <th></th>\n",
       "      <th>StudyInstanceUID</th>\n",
       "      <th>patient_overall</th>\n",
       "      <th>C1</th>\n",
       "      <th>C2</th>\n",
       "      <th>C3</th>\n",
       "      <th>C4</th>\n",
       "      <th>C5</th>\n",
       "      <th>C6</th>\n",
       "      <th>C7</th>\n",
       "    </tr>\n",
       "  </thead>\n",
       "  <tbody>\n",
       "    <tr>\n",
       "      <th>0</th>\n",
       "      <td>1.2.826.0.1.3680043.6200</td>\n",
       "      <td>1</td>\n",
       "      <td>1</td>\n",
       "      <td>1</td>\n",
       "      <td>0</td>\n",
       "      <td>0</td>\n",
       "      <td>0</td>\n",
       "      <td>0</td>\n",
       "      <td>0</td>\n",
       "    </tr>\n",
       "    <tr>\n",
       "      <th>1</th>\n",
       "      <td>1.2.826.0.1.3680043.27262</td>\n",
       "      <td>1</td>\n",
       "      <td>0</td>\n",
       "      <td>1</td>\n",
       "      <td>0</td>\n",
       "      <td>0</td>\n",
       "      <td>0</td>\n",
       "      <td>0</td>\n",
       "      <td>0</td>\n",
       "    </tr>\n",
       "    <tr>\n",
       "      <th>2</th>\n",
       "      <td>1.2.826.0.1.3680043.21561</td>\n",
       "      <td>1</td>\n",
       "      <td>0</td>\n",
       "      <td>1</td>\n",
       "      <td>0</td>\n",
       "      <td>0</td>\n",
       "      <td>0</td>\n",
       "      <td>0</td>\n",
       "      <td>0</td>\n",
       "    </tr>\n",
       "    <tr>\n",
       "      <th>3</th>\n",
       "      <td>1.2.826.0.1.3680043.12351</td>\n",
       "      <td>0</td>\n",
       "      <td>0</td>\n",
       "      <td>0</td>\n",
       "      <td>0</td>\n",
       "      <td>0</td>\n",
       "      <td>0</td>\n",
       "      <td>0</td>\n",
       "      <td>0</td>\n",
       "    </tr>\n",
       "    <tr>\n",
       "      <th>4</th>\n",
       "      <td>1.2.826.0.1.3680043.1363</td>\n",
       "      <td>1</td>\n",
       "      <td>0</td>\n",
       "      <td>0</td>\n",
       "      <td>0</td>\n",
       "      <td>0</td>\n",
       "      <td>1</td>\n",
       "      <td>0</td>\n",
       "      <td>0</td>\n",
       "    </tr>\n",
       "    <tr>\n",
       "      <th>5</th>\n",
       "      <td>1.2.826.0.1.3680043.4859</td>\n",
       "      <td>1</td>\n",
       "      <td>0</td>\n",
       "      <td>0</td>\n",
       "      <td>0</td>\n",
       "      <td>0</td>\n",
       "      <td>0</td>\n",
       "      <td>1</td>\n",
       "      <td>0</td>\n",
       "    </tr>\n",
       "    <tr>\n",
       "      <th>6</th>\n",
       "      <td>1.2.826.0.1.3680043.18659</td>\n",
       "      <td>1</td>\n",
       "      <td>0</td>\n",
       "      <td>0</td>\n",
       "      <td>0</td>\n",
       "      <td>1</td>\n",
       "      <td>0</td>\n",
       "      <td>0</td>\n",
       "      <td>1</td>\n",
       "    </tr>\n",
       "    <tr>\n",
       "      <th>7</th>\n",
       "      <td>1.2.826.0.1.3680043.17364</td>\n",
       "      <td>0</td>\n",
       "      <td>0</td>\n",
       "      <td>0</td>\n",
       "      <td>0</td>\n",
       "      <td>0</td>\n",
       "      <td>0</td>\n",
       "      <td>0</td>\n",
       "      <td>0</td>\n",
       "    </tr>\n",
       "    <tr>\n",
       "      <th>8</th>\n",
       "      <td>1.2.826.0.1.3680043.849</td>\n",
       "      <td>0</td>\n",
       "      <td>0</td>\n",
       "      <td>0</td>\n",
       "      <td>0</td>\n",
       "      <td>0</td>\n",
       "      <td>0</td>\n",
       "      <td>0</td>\n",
       "      <td>0</td>\n",
       "    </tr>\n",
       "    <tr>\n",
       "      <th>9</th>\n",
       "      <td>1.2.826.0.1.3680043.24045</td>\n",
       "      <td>1</td>\n",
       "      <td>0</td>\n",
       "      <td>0</td>\n",
       "      <td>0</td>\n",
       "      <td>0</td>\n",
       "      <td>0</td>\n",
       "      <td>0</td>\n",
       "      <td>1</td>\n",
       "    </tr>\n",
       "  </tbody>\n",
       "</table>\n",
       "</div>"
      ],
      "text/plain": [
       "            StudyInstanceUID  patient_overall  C1  C2  C3  C4  C5  C6  C7\n",
       "0   1.2.826.0.1.3680043.6200                1   1   1   0   0   0   0   0\n",
       "1  1.2.826.0.1.3680043.27262                1   0   1   0   0   0   0   0\n",
       "2  1.2.826.0.1.3680043.21561                1   0   1   0   0   0   0   0\n",
       "3  1.2.826.0.1.3680043.12351                0   0   0   0   0   0   0   0\n",
       "4   1.2.826.0.1.3680043.1363                1   0   0   0   0   1   0   0\n",
       "5   1.2.826.0.1.3680043.4859                1   0   0   0   0   0   1   0\n",
       "6  1.2.826.0.1.3680043.18659                1   0   0   0   1   0   0   1\n",
       "7  1.2.826.0.1.3680043.17364                0   0   0   0   0   0   0   0\n",
       "8    1.2.826.0.1.3680043.849                0   0   0   0   0   0   0   0\n",
       "9  1.2.826.0.1.3680043.24045                1   0   0   0   0   0   0   1"
      ]
     },
     "execution_count": 5,
     "metadata": {},
     "output_type": "execute_result"
    }
   ],
   "source": [
    "train = pd.read_csv('../input/rsna-2022-cervical-spine-fracture-detection/train.csv')\n",
    "print(train.info())\n",
    "train.head(10)"
   ]
  },
  {
   "cell_type": "markdown",
   "id": "0a8eb9ea",
   "metadata": {
    "papermill": {
     "duration": 0.00841,
     "end_time": "2022-09-22T14:16:40.891219",
     "exception": false,
     "start_time": "2022-09-22T14:16:40.882809",
     "status": "completed"
    },
    "tags": []
   },
   "source": [
    "#### Let's create a function that returns a list of the fractured bones of a given id. We may need it later"
   ]
  },
  {
   "cell_type": "code",
   "execution_count": 6,
   "id": "ca136c32",
   "metadata": {
    "execution": {
     "iopub.execute_input": "2022-09-22T14:16:40.910600Z",
     "iopub.status.busy": "2022-09-22T14:16:40.909866Z",
     "iopub.status.idle": "2022-09-22T14:16:40.915658Z",
     "shell.execute_reply": "2022-09-22T14:16:40.914674Z"
    },
    "papermill": {
     "duration": 0.017626,
     "end_time": "2022-09-22T14:16:40.917580",
     "exception": false,
     "start_time": "2022-09-22T14:16:40.899954",
     "status": "completed"
    },
    "tags": []
   },
   "outputs": [],
   "source": [
    "def get_fractured_bones(patient_id):\n",
    "    fractured_bones = []\n",
    "    temp = train.loc[train.StudyInstanceUID == patient_id,['C1','C2', 'C3', 'C4', 'C5', 'C6', 'C7']]\n",
    "    temp = list(temp.values[0]) # there is one row per id\n",
    "    for i in range(len(temp)):\n",
    "        if temp[i] == 1:\n",
    "            fractured_bones.append('C' + str(i+1))\n",
    "    return fractured_bones"
   ]
  },
  {
   "cell_type": "code",
   "execution_count": 7,
   "id": "76e01b47",
   "metadata": {
    "execution": {
     "iopub.execute_input": "2022-09-22T14:16:40.936764Z",
     "iopub.status.busy": "2022-09-22T14:16:40.935889Z",
     "iopub.status.idle": "2022-09-22T14:16:40.943570Z",
     "shell.execute_reply": "2022-09-22T14:16:40.942604Z"
    },
    "papermill": {
     "duration": 0.019095,
     "end_time": "2022-09-22T14:16:40.945529",
     "exception": false,
     "start_time": "2022-09-22T14:16:40.926434",
     "status": "completed"
    },
    "tags": []
   },
   "outputs": [
    {
     "data": {
      "text/plain": [
       "['C1', 'C2']"
      ]
     },
     "execution_count": 7,
     "metadata": {},
     "output_type": "execute_result"
    }
   ],
   "source": [
    "# Test the function\n",
    "get_fractured_bones('1.2.826.0.1.3680043.6200')\n",
    "\n"
   ]
  },
  {
   "cell_type": "code",
   "execution_count": 8,
   "id": "2e534223",
   "metadata": {
    "execution": {
     "iopub.execute_input": "2022-09-22T14:16:40.964592Z",
     "iopub.status.busy": "2022-09-22T14:16:40.963792Z",
     "iopub.status.idle": "2022-09-22T14:16:40.968188Z",
     "shell.execute_reply": "2022-09-22T14:16:40.967386Z"
    },
    "papermill": {
     "duration": 0.015814,
     "end_time": "2022-09-22T14:16:40.970057",
     "exception": false,
     "start_time": "2022-09-22T14:16:40.954243",
     "status": "completed"
    },
    "tags": []
   },
   "outputs": [],
   "source": [
    "# path of train images\n",
    "path_ti = '/kaggle/input/rsna-2022-cervical-spine-fracture-detection/train_images'\n"
   ]
  },
  {
   "cell_type": "code",
   "execution_count": 9,
   "id": "8c708f45",
   "metadata": {
    "execution": {
     "iopub.execute_input": "2022-09-22T14:16:40.989193Z",
     "iopub.status.busy": "2022-09-22T14:16:40.988348Z",
     "iopub.status.idle": "2022-09-22T14:16:40.993229Z",
     "shell.execute_reply": "2022-09-22T14:16:40.992350Z"
    },
    "papermill": {
     "duration": 0.016398,
     "end_time": "2022-09-22T14:16:40.995159",
     "exception": false,
     "start_time": "2022-09-22T14:16:40.978761",
     "status": "completed"
    },
    "tags": []
   },
   "outputs": [],
   "source": [
    "cols = ['patient_overall', 'C1', 'C2', 'C3', 'C4', 'C5', 'C6', 'C7'] # for labels"
   ]
  },
  {
   "cell_type": "markdown",
   "id": "e8995632",
   "metadata": {
    "papermill": {
     "duration": 0.008426,
     "end_time": "2022-09-22T14:16:41.012225",
     "exception": false,
     "start_time": "2022-09-22T14:16:41.003799",
     "status": "completed"
    },
    "tags": []
   },
   "source": [
    "# The 3D CNN Model (a simple one !)"
   ]
  },
  {
   "cell_type": "code",
   "execution_count": 10,
   "id": "96ff4a55",
   "metadata": {
    "execution": {
     "iopub.execute_input": "2022-09-22T14:16:41.031155Z",
     "iopub.status.busy": "2022-09-22T14:16:41.030609Z",
     "iopub.status.idle": "2022-09-22T14:16:46.281601Z",
     "shell.execute_reply": "2022-09-22T14:16:46.280601Z"
    },
    "papermill": {
     "duration": 5.26304,
     "end_time": "2022-09-22T14:16:46.283953",
     "exception": false,
     "start_time": "2022-09-22T14:16:41.020913",
     "status": "completed"
    },
    "tags": []
   },
   "outputs": [],
   "source": [
    "# import libraries\n",
    "from tensorflow.keras import layers\n",
    "from tensorflow.keras import Model\n",
    "from tensorflow.keras.optimizers import RMSprop\n",
    "import tensorflow as tf\n",
    "from tensorflow import keras"
   ]
  },
  {
   "cell_type": "code",
   "execution_count": 11,
   "id": "522f9a4f",
   "metadata": {
    "execution": {
     "iopub.execute_input": "2022-09-22T14:16:46.304239Z",
     "iopub.status.busy": "2022-09-22T14:16:46.302999Z",
     "iopub.status.idle": "2022-09-22T14:16:46.485686Z",
     "shell.execute_reply": "2022-09-22T14:16:46.483434Z"
    },
    "papermill": {
     "duration": 0.194679,
     "end_time": "2022-09-22T14:16:46.487795",
     "exception": false,
     "start_time": "2022-09-22T14:16:46.293116",
     "status": "completed"
    },
    "tags": []
   },
   "outputs": [
    {
     "name": "stderr",
     "output_type": "stream",
     "text": [
      "2022-09-22 14:16:46.376723: I tensorflow/stream_executor/cuda/cuda_gpu_executor.cc:937] successful NUMA node read from SysFS had negative value (-1), but there must be at least one NUMA node, so returning NUMA node zero\n",
      "2022-09-22 14:16:46.478435: I tensorflow/stream_executor/cuda/cuda_gpu_executor.cc:937] successful NUMA node read from SysFS had negative value (-1), but there must be at least one NUMA node, so returning NUMA node zero\n",
      "2022-09-22 14:16:46.479241: I tensorflow/stream_executor/cuda/cuda_gpu_executor.cc:937] successful NUMA node read from SysFS had negative value (-1), but there must be at least one NUMA node, so returning NUMA node zero\n"
     ]
    }
   ],
   "source": [
    "#gpu related\n",
    "#os.environ['TFF_CPP_MIN_LOG_LEVEL']='2'\n",
    "physical_devices = tf.config.list_physical_devices('GPU')\n",
    "tf.config.experimental.set_memory_growth(physical_devices[0], True) "
   ]
  },
  {
   "cell_type": "markdown",
   "id": "68ea39e6",
   "metadata": {
    "papermill": {
     "duration": 0.008657,
     "end_time": "2022-09-22T14:16:46.505556",
     "exception": false,
     "start_time": "2022-09-22T14:16:46.496899",
     "status": "completed"
    },
    "tags": []
   },
   "source": [
    "# Loss function for competition.\n"
   ]
  },
  {
   "cell_type": "code",
   "execution_count": 12,
   "id": "9c84c1c4",
   "metadata": {
    "execution": {
     "iopub.execute_input": "2022-09-22T14:16:46.524914Z",
     "iopub.status.busy": "2022-09-22T14:16:46.523986Z",
     "iopub.status.idle": "2022-09-22T14:16:46.531533Z",
     "shell.execute_reply": "2022-09-22T14:16:46.530685Z"
    },
    "papermill": {
     "duration": 0.019208,
     "end_time": "2022-09-22T14:16:46.533500",
     "exception": false,
     "start_time": "2022-09-22T14:16:46.514292",
     "status": "completed"
    },
    "tags": []
   },
   "outputs": [],
   "source": [
    "def CustomMSE(y_true, y_pred):\n",
    "    neg = tf.constant([[1, 1, 1, 1, 1, 1, 1, 7]],dtype=tf.float32)\n",
    "    pos = neg*2\n",
    "    eps=1E-8 \n",
    "    \n",
    "    #y_true=tf.cast(y_true,tf.float32)\n",
    "    #y_pred=tf.cast( y_pred,tf.float32)\n",
    "    \n",
    "    y_pred=tf.math.maximum(eps,tf.math.minimum(1-eps, y_pred))\n",
    "    \n",
    "   \n",
    "    \n",
    "    L=tf.cast(y_true,tf.float32)*tf.math.log( y_pred)+(1.0-tf.cast(y_true,tf.float32))*tf.math.log(1- y_pred)\n",
    "        \n",
    "        #print(y_true.shape)\n",
    "        #pos=tf.broadcast_to(pos,y_true)\n",
    "        #neg=tf.broadcast_to(neg,y_true)\n",
    "        \n",
    "    w=pos*tf.cast(y_true,tf.float32)+neg*(1-tf.cast(y_true,tf.float32))\n",
    "        #print(tf.reduce_sum(L*w,1))\n",
    "        #print(tf.reduce_sum(w,1))\n",
    "    return -( tf.reduce_sum(L*w,1)/tf.reduce_sum(w,1) ) \n"
   ]
  },
  {
   "cell_type": "markdown",
   "id": "ad952e1c",
   "metadata": {
    "papermill": {
     "duration": 0.008573,
     "end_time": "2022-09-22T14:16:46.550933",
     "exception": false,
     "start_time": "2022-09-22T14:16:46.542360",
     "status": "completed"
    },
    "tags": []
   },
   "source": [
    "https://www.kaggle.com/code/vslaykovsky/train-pytorch-effnetv2-baseline-cv-0-49/notebook\n",
    "\n",
    "loss tensor([[2.3026, 0.1054, 0.1054, 0.1054, 0.1054, 0.1054, 0.1054, 0.1054],\n",
    "        [0.1054, 2.3026, 0.1054, 0.1054, 0.1054, 0.1054, 0.1054, 0.1054]],\n",
    "       device='cuda:0')\n",
    "       \n",
    "all weights tensor([[14.,  2.,  1.,  1.,  1.,  1.,  1.,  1.],\n",
    "        [ 7.,  1.,  1.,  1.,  1.,  1.,  1.,  1.]], device='cuda:0')\n",
    "        \n",
    "weighted loss tensor([[32.2362,  0.2107,  0.1054,  0.1054,  0.1054,  0.1054,  0.1054,  0.1054],\n",
    "        [ 0.7375,  2.3026,  0.1054,  0.1054,  0.1054,  0.1054,  0.1054,  0.1054]],\n",
    "       device='cuda:0')\n",
    "       \n",
    "normalization factors tensor([[22.],\n",
    "        [14.]], device='cuda:0')\n",
    "        \n",
    "normalized loss tensor([[1.4653, 0.0096, 0.0048, 0.0048, 0.0048, 0.0048, 0.0048, 0.0048],\n",
    "        [0.0527, 0.1645, 0.0075, 0.0075, 0.0075, 0.0075, 0.0075, 0.0075]],\n",
    "       device='cuda:0')\n",
    "       \n",
    "summed up over patient_overall-C1-C7 loss tensor([1.5036, 0.2623], device='cuda:0')"
   ]
  },
  {
   "cell_type": "code",
   "execution_count": 13,
   "id": "ea3dad98",
   "metadata": {
    "execution": {
     "iopub.execute_input": "2022-09-22T14:16:46.573557Z",
     "iopub.status.busy": "2022-09-22T14:16:46.573254Z",
     "iopub.status.idle": "2022-09-22T14:16:48.924793Z",
     "shell.execute_reply": "2022-09-22T14:16:48.922796Z"
    },
    "papermill": {
     "duration": 2.368058,
     "end_time": "2022-09-22T14:16:48.927771",
     "exception": false,
     "start_time": "2022-09-22T14:16:46.559713",
     "status": "completed"
    },
    "tags": []
   },
   "outputs": [
    {
     "name": "stderr",
     "output_type": "stream",
     "text": [
      "2022-09-22 14:16:46.577024: I tensorflow/core/platform/cpu_feature_guard.cc:142] This TensorFlow binary is optimized with oneAPI Deep Neural Network Library (oneDNN) to use the following CPU instructions in performance-critical operations:  AVX2 AVX512F FMA\n",
      "To enable them in other operations, rebuild TensorFlow with the appropriate compiler flags.\n",
      "2022-09-22 14:16:46.577517: I tensorflow/stream_executor/cuda/cuda_gpu_executor.cc:937] successful NUMA node read from SysFS had negative value (-1), but there must be at least one NUMA node, so returning NUMA node zero\n",
      "2022-09-22 14:16:46.578394: I tensorflow/stream_executor/cuda/cuda_gpu_executor.cc:937] successful NUMA node read from SysFS had negative value (-1), but there must be at least one NUMA node, so returning NUMA node zero\n",
      "2022-09-22 14:16:46.579123: I tensorflow/stream_executor/cuda/cuda_gpu_executor.cc:937] successful NUMA node read from SysFS had negative value (-1), but there must be at least one NUMA node, so returning NUMA node zero\n",
      "2022-09-22 14:16:48.862592: I tensorflow/stream_executor/cuda/cuda_gpu_executor.cc:937] successful NUMA node read from SysFS had negative value (-1), but there must be at least one NUMA node, so returning NUMA node zero\n",
      "2022-09-22 14:16:48.863508: I tensorflow/stream_executor/cuda/cuda_gpu_executor.cc:937] successful NUMA node read from SysFS had negative value (-1), but there must be at least one NUMA node, so returning NUMA node zero\n",
      "2022-09-22 14:16:48.864213: I tensorflow/stream_executor/cuda/cuda_gpu_executor.cc:937] successful NUMA node read from SysFS had negative value (-1), but there must be at least one NUMA node, so returning NUMA node zero\n",
      "2022-09-22 14:16:48.864839: I tensorflow/core/common_runtime/gpu/gpu_device.cc:1510] Created device /job:localhost/replica:0/task:0/device:GPU:0 with 15401 MB memory:  -> device: 0, name: Tesla P100-PCIE-16GB, pci bus id: 0000:00:04.0, compute capability: 6.0\n"
     ]
    },
    {
     "data": {
      "text/plain": [
       "<tf.Tensor: shape=(2,), dtype=float32, numpy=array([1.5035943, 0.2623051], dtype=float32)>"
      ]
     },
     "execution_count": 13,
     "metadata": {},
     "output_type": "execute_result"
    }
   ],
   "source": [
    "y_test1=[[ 0.9, 0.1, 0.1, 0.1, 0.1, 0.1, 0.1,0.1],\n",
    "        [0.9, 0.1, 0.1, 0.1, 0.1, 0.1, 0.1,0.1] ]\n",
    " \n",
    "y_true1=[\n",
    "        [1., 0., 0., 0., 0., 0., 0., 1.],\n",
    "        [0., 0, 0., 0., 0., 0., 0., 0.]\n",
    "    ]\n",
    "CustomMSE(y_true1,y_test1)"
   ]
  },
  {
   "cell_type": "markdown",
   "id": "774b662a",
   "metadata": {
    "papermill": {
     "duration": 0.008965,
     "end_time": "2022-09-22T14:16:48.947040",
     "exception": false,
     "start_time": "2022-09-22T14:16:48.938075",
     "status": "completed"
    },
    "tags": []
   },
   "source": [
    "Our CustomMSE delivers competition metric! "
   ]
  },
  {
   "cell_type": "code",
   "execution_count": 14,
   "id": "1ca614af",
   "metadata": {
    "execution": {
     "iopub.execute_input": "2022-09-22T14:16:48.966424Z",
     "iopub.status.busy": "2022-09-22T14:16:48.966139Z",
     "iopub.status.idle": "2022-09-22T14:16:48.972499Z",
     "shell.execute_reply": "2022-09-22T14:16:48.971645Z"
    },
    "papermill": {
     "duration": 0.018512,
     "end_time": "2022-09-22T14:16:48.974577",
     "exception": false,
     "start_time": "2022-09-22T14:16:48.956065",
     "status": "completed"
    },
    "tags": []
   },
   "outputs": [],
   "source": [
    "def get_cut(id_files, num=32):  #get appropriate 32 2D cuts for single patient\n",
    "    x = []\n",
    "    x_32 = []\n",
    "    \n",
    "    for nam in id_files:\n",
    "        x.append(int(nam.split('.')[0]))\n",
    "    x.sort()\n",
    "    x_len=len(x)\n",
    "    \n",
    "    # get 32 cut out of all cuts\n",
    "    for i in range(32):\n",
    "        x_32.append(x[ min(x_len-1,i*min(x_len/32,1))])\n",
    "    \n",
    "    return x_32"
   ]
  },
  {
   "cell_type": "code",
   "execution_count": 15,
   "id": "551fbb68",
   "metadata": {
    "execution": {
     "iopub.execute_input": "2022-09-22T14:16:48.994275Z",
     "iopub.status.busy": "2022-09-22T14:16:48.993995Z",
     "iopub.status.idle": "2022-09-22T14:16:52.041096Z",
     "shell.execute_reply": "2022-09-22T14:16:52.040223Z"
    },
    "papermill": {
     "duration": 3.059408,
     "end_time": "2022-09-22T14:16:52.043258",
     "exception": false,
     "start_time": "2022-09-22T14:16:48.983850",
     "status": "completed"
    },
    "tags": []
   },
   "outputs": [
    {
     "data": {
      "text/plain": [
       "TensorShape([6, 32, 64, 64])"
      ]
     },
     "execution_count": 15,
     "metadata": {},
     "output_type": "execute_result"
    }
   ],
   "source": [
    "def get_train_images_3D(train_df, n_ids = 10, n_img = 10, img_size = (64,64)):\n",
    "    \n",
    "    train_images = []\n",
    "    train_labels = []\n",
    "    \n",
    "    # get n_ids ids at random\n",
    "    ids = random.sample(list(train_df['StudyInstanceUID'].values), n_ids)\n",
    "    \n",
    "    \n",
    "    for id_ in ids:\n",
    "        # get labels for tha id_\n",
    "        labels = train_df.loc[train_df['StudyInstanceUID'] == id_, cols].values[0]\n",
    "        # label C1-C7 fracture or not, print(labels)\n",
    "        # file names of that id_\n",
    "        id_files = os.listdir(path_ti + '/' + id_) \n",
    "        cas = []  # a 3D tensor for a patient scan\n",
    "        cuts = get_cut(id_files,32)  # index of 32 cuts\n",
    "        \n",
    "        # read each of the dcm files\n",
    "        for i in range(32):\n",
    "            image = pydicom.dcmread(path_ti + '/' + id_ + '/' + str(cuts[i])+'.dcm').pixel_array\n",
    "            # resize image\n",
    "            image = np.array(cv2.resize(image, dsize=img_size))\n",
    "            # rescale image\n",
    "            image = (image - image.min())/image.max()\n",
    "            # add image to train_image\n",
    "            cas.append(image)\n",
    "           # print(np.array(cas).shape)\n",
    "            # add labels train_labels\n",
    "        train_images.append(cas)   \n",
    "        train_labels.append(labels)\n",
    "    return train_images, train_labels\n",
    "a=get_train_images_3D(train,6,6)\n",
    "(tf.convert_to_tensor(a[0],dtype=tf.float32)).shape"
   ]
  },
  {
   "cell_type": "code",
   "execution_count": 16,
   "id": "d36a7192",
   "metadata": {
    "execution": {
     "iopub.execute_input": "2022-09-22T14:16:52.064445Z",
     "iopub.status.busy": "2022-09-22T14:16:52.064157Z",
     "iopub.status.idle": "2022-09-22T14:19:34.424335Z",
     "shell.execute_reply": "2022-09-22T14:19:34.423253Z"
    },
    "papermill": {
     "duration": 162.374279,
     "end_time": "2022-09-22T14:19:34.427266",
     "exception": false,
     "start_time": "2022-09-22T14:16:52.052987",
     "status": "completed"
    },
    "tags": []
   },
   "outputs": [],
   "source": [
    "#tmp= get_train_images_3D(train,200,200) \n",
    "#X=tf.convert_to_tensor(tmp[0], dtype=tf.float32)\n",
    "#Y=tf.convert_to_tensor(tmp[1], dtype=tf.float32)\n",
    "from sklearn.model_selection import train_test_split\n",
    "X,Y = get_train_images_3D(train,300,300,(128,128))\n",
    "tmp2 = train_test_split(X, Y,test_size=0.05)#train_X, val_X, train_Y, val_Y = train_test_split(X, Y)\n",
    "\n",
    "train3D_X = (tf.convert_to_tensor(tmp2[0],dtype=tf.float32))\n",
    "val3D_X = (tf.convert_to_tensor(tmp2[1],dtype=tf.float32))\n",
    "\n",
    "train3D_Y = (tf.convert_to_tensor(tmp2[2],dtype=tf.float32))\n",
    "val3D_Y = (tf.convert_to_tensor(tmp2[3],dtype=tf.float32))\n",
    "#print(train_X.shape, train_Y.shape, val_X.shape, val_Y.shape)"
   ]
  },
  {
   "cell_type": "code",
   "execution_count": 17,
   "id": "2d697862",
   "metadata": {
    "execution": {
     "iopub.execute_input": "2022-09-22T14:19:34.448554Z",
     "iopub.status.busy": "2022-09-22T14:19:34.448253Z",
     "iopub.status.idle": "2022-09-22T14:19:34.455254Z",
     "shell.execute_reply": "2022-09-22T14:19:34.454210Z"
    },
    "papermill": {
     "duration": 0.019762,
     "end_time": "2022-09-22T14:19:34.457519",
     "exception": false,
     "start_time": "2022-09-22T14:19:34.437757",
     "status": "completed"
    },
    "tags": []
   },
   "outputs": [],
   "source": [
    "def get_model_3D(img_size=64):\n",
    "    \n",
    "    img_input = layers.Input(shape=(32,img_size,img_size,1))\n",
    "\n",
    "    # First convolution extracts 16 filters that are 3x3\n",
    "    # Convolution is followed by max-pooling layer with a 2x2 window\n",
    "    x = layers.Conv3D(32, 3, activation='relu')(img_input)\n",
    "   # x = layers.MaxPooling3D(2)(x)\n",
    "   \n",
    "    xt = layers.Conv3D(24, 3, activation='relu')(x)\n",
    "    \n",
    "    x2 = layers.Conv3D(16, 3, activation='relu')(xt)\n",
    "   # x2 = layers.MaxPooling3D(2)(x2)\n",
    "    \n",
    "    x3 = layers.Conv3D(8, 3, activation='relu')(x2)\n",
    "    x3 = layers.MaxPooling3D(2)(x3)\n",
    "    # Flatten feature map to a 1-dim tensor so we can add fully connected layers\n",
    "    x3 = layers.Flatten()(x3)\n",
    "\n",
    "    # Create output layer with a single node and sigmoid activation\n",
    "    output = layers.Dense(8, activation='sigmoid')(x3)\n",
    "\n",
    "\n",
    "    # Create model:\n",
    "    model = Model(img_input, output)\n",
    "    \n",
    "    return model"
   ]
  },
  {
   "cell_type": "code",
   "execution_count": 18,
   "id": "256aa498",
   "metadata": {
    "execution": {
     "iopub.execute_input": "2022-09-22T14:19:34.476775Z",
     "iopub.status.busy": "2022-09-22T14:19:34.476501Z",
     "iopub.status.idle": "2022-09-22T14:19:34.482491Z",
     "shell.execute_reply": "2022-09-22T14:19:34.481659Z"
    },
    "papermill": {
     "duration": 0.017838,
     "end_time": "2022-09-22T14:19:34.484551",
     "exception": false,
     "start_time": "2022-09-22T14:19:34.466713",
     "status": "completed"
    },
    "tags": []
   },
   "outputs": [],
   "source": [
    "def model_3D_getfit(A,B,img_size):\n",
    "    tf.keras.backend.clear_session()\n",
    "    model = get_model_3D(img_size)\n",
    "    model.summary()\n",
    "    model.compile( loss=CustomMSE , #competition_loss,\n",
    "                # loss=tf.keras.losses.BinaryCrossentropy(from_logits=True),\n",
    "              optimizer=RMSprop(learning_rate=0.00001),\n",
    "              metrics=['acc'])\n",
    "\n",
    "\n",
    "    history = model.fit(A,B, validation_split=0.25, epochs =11) #delete\n",
    "    return model, history"
   ]
  },
  {
   "cell_type": "code",
   "execution_count": 19,
   "id": "22ff9ec3",
   "metadata": {
    "execution": {
     "iopub.execute_input": "2022-09-22T14:19:34.503643Z",
     "iopub.status.busy": "2022-09-22T14:19:34.503378Z",
     "iopub.status.idle": "2022-09-22T14:21:45.888750Z",
     "shell.execute_reply": "2022-09-22T14:21:45.887467Z"
    },
    "papermill": {
     "duration": 131.398218,
     "end_time": "2022-09-22T14:21:45.891642",
     "exception": false,
     "start_time": "2022-09-22T14:19:34.493424",
     "status": "completed"
    },
    "tags": []
   },
   "outputs": [
    {
     "name": "stdout",
     "output_type": "stream",
     "text": [
      "Model: \"model\"\n",
      "_________________________________________________________________\n",
      "Layer (type)                 Output Shape              Param #   \n",
      "=================================================================\n",
      "input_1 (InputLayer)         [(None, 32, 128, 128, 1)] 0         \n",
      "_________________________________________________________________\n",
      "conv3d (Conv3D)              (None, 30, 126, 126, 32)  896       \n",
      "_________________________________________________________________\n",
      "conv3d_1 (Conv3D)            (None, 28, 124, 124, 24)  20760     \n",
      "_________________________________________________________________\n",
      "conv3d_2 (Conv3D)            (None, 26, 122, 122, 16)  10384     \n",
      "_________________________________________________________________\n",
      "conv3d_3 (Conv3D)            (None, 24, 120, 120, 8)   3464      \n",
      "_________________________________________________________________\n",
      "max_pooling3d (MaxPooling3D) (None, 12, 60, 60, 8)     0         \n",
      "_________________________________________________________________\n",
      "flatten (Flatten)            (None, 345600)            0         \n",
      "_________________________________________________________________\n",
      "dense (Dense)                (None, 8)                 2764808   \n",
      "=================================================================\n",
      "Total params: 2,800,312\n",
      "Trainable params: 2,800,312\n",
      "Non-trainable params: 0\n",
      "_________________________________________________________________\n"
     ]
    },
    {
     "name": "stderr",
     "output_type": "stream",
     "text": [
      "2022-09-22 14:19:35.013546: I tensorflow/compiler/mlir/mlir_graph_optimization_pass.cc:185] None of the MLIR Optimization Passes are enabled (registered 2)\n"
     ]
    },
    {
     "name": "stdout",
     "output_type": "stream",
     "text": [
      "Epoch 1/11\n"
     ]
    },
    {
     "name": "stderr",
     "output_type": "stream",
     "text": [
      "2022-09-22 14:19:36.877767: I tensorflow/stream_executor/cuda/cuda_dnn.cc:369] Loaded cuDNN version 8005\n"
     ]
    },
    {
     "name": "stdout",
     "output_type": "stream",
     "text": [
      "7/7 [==============================] - 29s 2s/step - loss: 0.6023 - acc: 0.8498 - val_loss: 0.5416 - val_acc: 1.0000\n",
      "Epoch 2/11\n",
      "7/7 [==============================] - 10s 1s/step - loss: 0.5156 - acc: 1.0000 - val_loss: 0.5172 - val_acc: 1.0000\n",
      "Epoch 3/11\n",
      "7/7 [==============================] - 10s 1s/step - loss: 0.5005 - acc: 1.0000 - val_loss: 0.5131 - val_acc: 1.0000\n",
      "Epoch 4/11\n",
      "7/7 [==============================] - 10s 1s/step - loss: 0.4945 - acc: 1.0000 - val_loss: 0.5107 - val_acc: 1.0000\n",
      "Epoch 5/11\n",
      "7/7 [==============================] - 10s 1s/step - loss: 0.4923 - acc: 1.0000 - val_loss: 0.5100 - val_acc: 1.0000\n",
      "Epoch 6/11\n",
      "7/7 [==============================] - 10s 1s/step - loss: 0.4889 - acc: 1.0000 - val_loss: 0.5139 - val_acc: 1.0000\n",
      "Epoch 7/11\n",
      "7/7 [==============================] - 10s 1s/step - loss: 0.4893 - acc: 1.0000 - val_loss: 0.5129 - val_acc: 1.0000\n",
      "Epoch 8/11\n",
      "7/7 [==============================] - 10s 1s/step - loss: 0.4860 - acc: 1.0000 - val_loss: 0.5107 - val_acc: 1.0000\n",
      "Epoch 9/11\n",
      "7/7 [==============================] - 10s 1s/step - loss: 0.4815 - acc: 1.0000 - val_loss: 0.5103 - val_acc: 1.0000\n",
      "Epoch 10/11\n",
      "7/7 [==============================] - 10s 1s/step - loss: 0.4815 - acc: 1.0000 - val_loss: 0.5110 - val_acc: 1.0000\n",
      "Epoch 11/11\n",
      "7/7 [==============================] - 10s 1s/step - loss: 0.4778 - acc: 1.0000 - val_loss: 0.5116 - val_acc: 1.0000\n",
      "loss for validation data = \n",
      "tf.Tensor(0.4174095, shape=(), dtype=float32)\n"
     ]
    }
   ],
   "source": [
    "model_3D, history_3D = model_3D_getfit(train3D_X,train3D_Y,128)\n",
    "print(\"loss for validation data = \")\n",
    "val3D_prediction=model_3D.predict(val3D_X)\n",
    "val_3D_loss = tf.reduce_mean(CustomMSE(val3D_Y,val3D_prediction),keepdims=False)\n",
    "print(val_3D_loss)"
   ]
  },
  {
   "cell_type": "code",
   "execution_count": 20,
   "id": "564030db",
   "metadata": {
    "execution": {
     "iopub.execute_input": "2022-09-22T14:21:45.921922Z",
     "iopub.status.busy": "2022-09-22T14:21:45.921584Z",
     "iopub.status.idle": "2022-09-22T14:21:46.170620Z",
     "shell.execute_reply": "2022-09-22T14:21:46.169601Z"
    },
    "papermill": {
     "duration": 0.266282,
     "end_time": "2022-09-22T14:21:46.172821",
     "exception": false,
     "start_time": "2022-09-22T14:21:45.906539",
     "status": "completed"
    },
    "tags": []
   },
   "outputs": [
    {
     "data": {
      "image/png": "[encoded data removed]",
      "text/plain": [
       "<Figure size 216x216 with 1 Axes>"
      ]
     },
     "metadata": {},
     "output_type": "display_data"
    }
   ],
   "source": [
    "#Define figure and axes\n",
    "fig, ax = plt.subplots(1,1, figsize=(3,3))\n",
    "#ax.set_ylim(ymin=0)\n",
    "plt.xlabel(\"epochs\")\n",
    "plt.ylabel(\"weighted log loss\")\n",
    "\n",
    "# add the image\n",
    "#print(history_3D.history )\n",
    "plt.plot(history_3D.history['loss'])\n",
    "\n",
    "plt.plot(history_3D.history['val_loss'])\n",
    "plt.scatter(len(history_3D.history['val_loss']),val_3D_loss)\n",
    "#plt.scatter(10,history_3D.history['loss'][0])\n",
    "# Add the boxe\n",
    "#res=[]\n",
    "#res.append([300,history_3D.history['loss'],(history_3D.history['val_loss'])])\n",
    "# diplay\n",
    "plt.show()"
   ]
  },
  {
   "cell_type": "markdown",
   "id": "bfcfd072",
   "metadata": {
    "papermill": {
     "duration": 0.014964,
     "end_time": "2022-09-22T14:21:46.202876",
     "exception": false,
     "start_time": "2022-09-22T14:21:46.187912",
     "status": "completed"
    },
    "tags": []
   },
   "source": [
    "# x 3D images, 10% for evaluation, 75%(25%) of the rest images for train(validation).\n",
    "# One can see over fitting >10 epochs"
   ]
  },
  {
   "attachments": {
    "0ad8bbca-e0ff-4b90-88c2-5ba7a0caf5bb.png": {
     "image/png": "[encoded data removed]"
    }
   },
   "cell_type": "markdown",
   "id": "6a646d2c",
   "metadata": {
    "papermill": {
     "duration": 0.015392,
     "end_time": "2022-09-22T14:21:46.233755",
     "exception": false,
     "start_time": "2022-09-22T14:21:46.218363",
     "status": "completed"
    },
    "tags": []
   },
   "source": [
    "x = 300 3D images, ![1.png](attachment:0ad8bbca-e0ff-4b90-88c2-5ba7a0caf5bb.png)"
   ]
  },
  {
   "attachments": {
    "a5a174b7-65fd-4586-9882-42be563f21c5.png": {
     "image/png": "[encoded data removed]"
    }
   },
   "cell_type": "markdown",
   "id": "ce3a3d00",
   "metadata": {
    "papermill": {
     "duration": 0.014032,
     "end_time": "2022-09-22T14:21:46.262329",
     "exception": false,
     "start_time": "2022-09-22T14:21:46.248297",
     "status": "completed"
    },
    "tags": []
   },
   "source": [
    "x = 400 3D images![image.png](attachment:a5a174b7-65fd-4586-9882-42be563f21c5.png)"
   ]
  },
  {
   "attachments": {
    "b0cc6472-8adf-4a5a-b524-8a6192a5ac2a.png": {
     "image/png": "[encoded data removed]"
    }
   },
   "cell_type": "markdown",
   "id": "b62778a6",
   "metadata": {
    "papermill": {
     "duration": 0.014268,
     "end_time": "2022-09-22T14:21:46.290826",
     "exception": false,
     "start_time": "2022-09-22T14:21:46.276558",
     "status": "completed"
    },
    "tags": []
   },
   "source": [
    "x = 500 3D images\n",
    "![image.png](attachment:b0cc6472-8adf-4a5a-b524-8a6192a5ac2a.png)"
   ]
  },
  {
   "cell_type": "markdown",
   "id": "98f7b055",
   "metadata": {
    "papermill": {
     "duration": 0.014028,
     "end_time": "2022-09-22T14:21:46.319445",
     "exception": false,
     "start_time": "2022-09-22T14:21:46.305417",
     "status": "completed"
    },
    "tags": []
   },
   "source": [
    "# x = 300 images & 10 epochs work best for unoptimized 3D CNN model"
   ]
  },
  {
   "cell_type": "code",
   "execution_count": 21,
   "id": "2b816f71",
   "metadata": {
    "execution": {
     "iopub.execute_input": "2022-09-22T14:21:46.349954Z",
     "iopub.status.busy": "2022-09-22T14:21:46.349599Z",
     "iopub.status.idle": "2022-09-22T14:21:46.779296Z",
     "shell.execute_reply": "2022-09-22T14:21:46.778323Z"
    },
    "papermill": {
     "duration": 0.447848,
     "end_time": "2022-09-22T14:21:46.781922",
     "exception": false,
     "start_time": "2022-09-22T14:21:46.334074",
     "status": "completed"
    },
    "tags": []
   },
   "outputs": [
    {
     "name": "stdout",
     "output_type": "stream",
     "text": [
      "(32, 128, 128)\n"
     ]
    },
    {
     "data": {
      "image/png": "[encoded data removed]",
      "text/plain": [
       "<Figure size 720x720 with 3 Axes>"
      ]
     },
     "metadata": {},
     "output_type": "display_data"
    }
   ],
   "source": [
    "\n",
    "fig, ax = plt.subplots(1,3, figsize=(10,10))\n",
    "print(np.array(X[1]).shape)\n",
    "ax[0].imshow(X[137][10], cmap=plt.cm.bone)\n",
    "ax[1].imshow(X[137][20], cmap=plt.cm.bone)\n",
    "ax[2].imshow(X[137][30], cmap=plt.cm.bone)\n",
    "\n",
    "plt.show()"
   ]
  },
  {
   "cell_type": "code",
   "execution_count": 22,
   "id": "b4cd0f58",
   "metadata": {
    "execution": {
     "iopub.execute_input": "2022-09-22T14:21:46.815565Z",
     "iopub.status.busy": "2022-09-22T14:21:46.815258Z",
     "iopub.status.idle": "2022-09-22T14:21:46.822994Z",
     "shell.execute_reply": "2022-09-22T14:21:46.821990Z"
    },
    "papermill": {
     "duration": 0.026661,
     "end_time": "2022-09-22T14:21:46.824970",
     "exception": false,
     "start_time": "2022-09-22T14:21:46.798309",
     "status": "completed"
    },
    "tags": []
   },
   "outputs": [],
   "source": [
    " \n",
    "def get_test_images_3D( img_size = (128,128)):\n",
    "    \n",
    "    path = '../input/rsna-2022-cervical-spine-fracture-detection/test_images'\n",
    "    test_images = []\n",
    "    test_ids = []\n",
    "     \n",
    "    \n",
    "    ids = os.listdir('../input/rsna-2022-cervical-spine-fracture-detection/test_images')\n",
    "    print(\"test images\")\n",
    "    print(ids)\n",
    "    for id_ in ids: \n",
    "        # label C1-C7 fracture or not, print(labels)\n",
    "        # file names of that id_\n",
    "        id_files = os.listdir(path + '/' + id_)\n",
    "         \n",
    "            \n",
    "        cuts = get_cut(id_files,32)  # index of 32 cuts\n",
    "       \n",
    "            \n",
    "        cas = []\n",
    "        # read each of the dcm files\n",
    "        \n",
    "        for i in range(32):\n",
    "            \n",
    "            image = pydicom.dcmread(path + '/' + id_ + '/' +str(cuts[i])+'.dcm').pixel_array\n",
    "        \n",
    "                # resize image\n",
    "            image = np.array(cv2.resize(image, dsize=img_size))\n",
    "            # rescale image\n",
    "            image = (image - image.min())/image.max()\n",
    "            # add image to train_image\n",
    "            cas.append(image)\n",
    "           # print(np.array(cas).shape)\n",
    "            # add labels train_labels\n",
    "        test_images.append(cas)    \n",
    "        test_ids.append(id_)\n",
    "    return test_images, test_ids\n",
    "#try it out\n",
    "#a=get_test_images_3D()\n",
    "#(tf.convert_to_tensor(a[0],dtype=tf.float32)).shape\n",
    "\n",
    "    "
   ]
  },
  {
   "cell_type": "code",
   "execution_count": 23,
   "id": "28833948",
   "metadata": {
    "execution": {
     "iopub.execute_input": "2022-09-22T14:21:46.857666Z",
     "iopub.status.busy": "2022-09-22T14:21:46.857357Z",
     "iopub.status.idle": "2022-09-22T14:21:49.117565Z",
     "shell.execute_reply": "2022-09-22T14:21:49.116520Z"
    },
    "papermill": {
     "duration": 2.279524,
     "end_time": "2022-09-22T14:21:49.120052",
     "exception": false,
     "start_time": "2022-09-22T14:21:46.840528",
     "status": "completed"
    },
    "tags": []
   },
   "outputs": [
    {
     "name": "stdout",
     "output_type": "stream",
     "text": [
      "test images\n",
      "['1.2.826.0.1.3680043.22327', '1.2.826.0.1.3680043.25399', '1.2.826.0.1.3680043.5876']\n"
     ]
    }
   ],
   "source": [
    "# test the function\n",
    "test_images_3D, test_ids_3D = get_test_images_3D()\n",
    "X_test=tf.convert_to_tensor(test_images_3D, dtype=tf.float32)\n",
    "\n",
    "results_3D = model_3D.predict(X_test)\n",
    " "
   ]
  },
  {
   "cell_type": "markdown",
   "id": "cb746af2",
   "metadata": {
    "papermill": {
     "duration": 0.016551,
     "end_time": "2022-09-22T14:21:49.153814",
     "exception": false,
     "start_time": "2022-09-22T14:21:49.137263",
     "status": "completed"
    },
    "tags": []
   },
   "source": [
    "#### Prepare the submission file"
   ]
  },
  {
   "cell_type": "code",
   "execution_count": 24,
   "id": "bdef0375",
   "metadata": {
    "execution": {
     "iopub.execute_input": "2022-09-22T14:21:49.186856Z",
     "iopub.status.busy": "2022-09-22T14:21:49.186524Z",
     "iopub.status.idle": "2022-09-22T14:21:49.214825Z",
     "shell.execute_reply": "2022-09-22T14:21:49.213699Z"
    },
    "papermill": {
     "duration": 0.047648,
     "end_time": "2022-09-22T14:21:49.217209",
     "exception": false,
     "start_time": "2022-09-22T14:21:49.169561",
     "status": "completed"
    },
    "tags": []
   },
   "outputs": [
    {
     "data": {
      "text/html": [
       "<div>\n",
       "<style scoped>\n",
       "    .dataframe tbody tr th:only-of-type {\n",
       "        vertical-align: middle;\n",
       "    }\n",
       "\n",
       "    .dataframe tbody tr th {\n",
       "        vertical-align: top;\n",
       "    }\n",
       "\n",
       "    .dataframe thead th {\n",
       "        text-align: right;\n",
       "    }\n",
       "</style>\n",
       "<table border=\"1\" class=\"dataframe\">\n",
       "  <thead>\n",
       "    <tr style=\"text-align: right;\">\n",
       "      <th></th>\n",
       "      <th>row_id</th>\n",
       "      <th>fractured</th>\n",
       "    </tr>\n",
       "  </thead>\n",
       "  <tbody>\n",
       "    <tr>\n",
       "      <th>0</th>\n",
       "      <td>1.2.826.0.1.3680043.22327_C1</td>\n",
       "      <td>0.182103</td>\n",
       "    </tr>\n",
       "    <tr>\n",
       "      <th>1</th>\n",
       "      <td>1.2.826.0.1.3680043.22327_C2</td>\n",
       "      <td>0.242328</td>\n",
       "    </tr>\n",
       "    <tr>\n",
       "      <th>2</th>\n",
       "      <td>1.2.826.0.1.3680043.22327_C3</td>\n",
       "      <td>0.036497</td>\n",
       "    </tr>\n",
       "    <tr>\n",
       "      <th>3</th>\n",
       "      <td>1.2.826.0.1.3680043.22327_C4</td>\n",
       "      <td>0.135348</td>\n",
       "    </tr>\n",
       "    <tr>\n",
       "      <th>4</th>\n",
       "      <td>1.2.826.0.1.3680043.22327_C5</td>\n",
       "      <td>0.141127</td>\n",
       "    </tr>\n",
       "    <tr>\n",
       "      <th>5</th>\n",
       "      <td>1.2.826.0.1.3680043.22327_C6</td>\n",
       "      <td>0.211673</td>\n",
       "    </tr>\n",
       "    <tr>\n",
       "      <th>6</th>\n",
       "      <td>1.2.826.0.1.3680043.22327_C7</td>\n",
       "      <td>0.270004</td>\n",
       "    </tr>\n",
       "    <tr>\n",
       "      <th>7</th>\n",
       "      <td>1.2.826.0.1.3680043.22327_patient_overall</td>\n",
       "      <td>0.500791</td>\n",
       "    </tr>\n",
       "    <tr>\n",
       "      <th>8</th>\n",
       "      <td>1.2.826.0.1.3680043.25399_C1</td>\n",
       "      <td>0.200367</td>\n",
       "    </tr>\n",
       "    <tr>\n",
       "      <th>9</th>\n",
       "      <td>1.2.826.0.1.3680043.25399_C2</td>\n",
       "      <td>0.249946</td>\n",
       "    </tr>\n",
       "    <tr>\n",
       "      <th>10</th>\n",
       "      <td>1.2.826.0.1.3680043.25399_C3</td>\n",
       "      <td>0.068948</td>\n",
       "    </tr>\n",
       "    <tr>\n",
       "      <th>11</th>\n",
       "      <td>1.2.826.0.1.3680043.25399_C4</td>\n",
       "      <td>0.176848</td>\n",
       "    </tr>\n",
       "    <tr>\n",
       "      <th>12</th>\n",
       "      <td>1.2.826.0.1.3680043.25399_C5</td>\n",
       "      <td>0.173530</td>\n",
       "    </tr>\n",
       "    <tr>\n",
       "      <th>13</th>\n",
       "      <td>1.2.826.0.1.3680043.25399_C6</td>\n",
       "      <td>0.225496</td>\n",
       "    </tr>\n",
       "    <tr>\n",
       "      <th>14</th>\n",
       "      <td>1.2.826.0.1.3680043.25399_C7</td>\n",
       "      <td>0.301641</td>\n",
       "    </tr>\n",
       "    <tr>\n",
       "      <th>15</th>\n",
       "      <td>1.2.826.0.1.3680043.25399_patient_overall</td>\n",
       "      <td>0.474474</td>\n",
       "    </tr>\n",
       "    <tr>\n",
       "      <th>16</th>\n",
       "      <td>1.2.826.0.1.3680043.5876_C1</td>\n",
       "      <td>0.080181</td>\n",
       "    </tr>\n",
       "    <tr>\n",
       "      <th>17</th>\n",
       "      <td>1.2.826.0.1.3680043.5876_C2</td>\n",
       "      <td>0.138384</td>\n",
       "    </tr>\n",
       "    <tr>\n",
       "      <th>18</th>\n",
       "      <td>1.2.826.0.1.3680043.5876_C3</td>\n",
       "      <td>0.006016</td>\n",
       "    </tr>\n",
       "    <tr>\n",
       "      <th>19</th>\n",
       "      <td>1.2.826.0.1.3680043.5876_C4</td>\n",
       "      <td>0.055233</td>\n",
       "    </tr>\n",
       "    <tr>\n",
       "      <th>20</th>\n",
       "      <td>1.2.826.0.1.3680043.5876_C5</td>\n",
       "      <td>0.051448</td>\n",
       "    </tr>\n",
       "    <tr>\n",
       "      <th>21</th>\n",
       "      <td>1.2.826.0.1.3680043.5876_C6</td>\n",
       "      <td>0.100837</td>\n",
       "    </tr>\n",
       "    <tr>\n",
       "      <th>22</th>\n",
       "      <td>1.2.826.0.1.3680043.5876_C7</td>\n",
       "      <td>0.175529</td>\n",
       "    </tr>\n",
       "    <tr>\n",
       "      <th>23</th>\n",
       "      <td>1.2.826.0.1.3680043.5876_patient_overall</td>\n",
       "      <td>0.481136</td>\n",
       "    </tr>\n",
       "  </tbody>\n",
       "</table>\n",
       "</div>"
      ],
      "text/plain": [
       "                                       row_id  fractured\n",
       "0                1.2.826.0.1.3680043.22327_C1   0.182103\n",
       "1                1.2.826.0.1.3680043.22327_C2   0.242328\n",
       "2                1.2.826.0.1.3680043.22327_C3   0.036497\n",
       "3                1.2.826.0.1.3680043.22327_C4   0.135348\n",
       "4                1.2.826.0.1.3680043.22327_C5   0.141127\n",
       "5                1.2.826.0.1.3680043.22327_C6   0.211673\n",
       "6                1.2.826.0.1.3680043.22327_C7   0.270004\n",
       "7   1.2.826.0.1.3680043.22327_patient_overall   0.500791\n",
       "8                1.2.826.0.1.3680043.25399_C1   0.200367\n",
       "9                1.2.826.0.1.3680043.25399_C2   0.249946\n",
       "10               1.2.826.0.1.3680043.25399_C3   0.068948\n",
       "11               1.2.826.0.1.3680043.25399_C4   0.176848\n",
       "12               1.2.826.0.1.3680043.25399_C5   0.173530\n",
       "13               1.2.826.0.1.3680043.25399_C6   0.225496\n",
       "14               1.2.826.0.1.3680043.25399_C7   0.301641\n",
       "15  1.2.826.0.1.3680043.25399_patient_overall   0.474474\n",
       "16                1.2.826.0.1.3680043.5876_C1   0.080181\n",
       "17                1.2.826.0.1.3680043.5876_C2   0.138384\n",
       "18                1.2.826.0.1.3680043.5876_C3   0.006016\n",
       "19                1.2.826.0.1.3680043.5876_C4   0.055233\n",
       "20                1.2.826.0.1.3680043.5876_C5   0.051448\n",
       "21                1.2.826.0.1.3680043.5876_C6   0.100837\n",
       "22                1.2.826.0.1.3680043.5876_C7   0.175529\n",
       "23   1.2.826.0.1.3680043.5876_patient_overall   0.481136"
      ]
     },
     "execution_count": 24,
     "metadata": {},
     "output_type": "execute_result"
    }
   ],
   "source": [
    "results_df_3D = pd.DataFrame(data=results_3D, columns=cols)\n",
    "results_df_3D.insert(0, 'patient_id', np.array(test_ids_3D))\n",
    "results_df_3D = results_df_3D.melt(id_vars='patient_id', value_vars=cols, var_name='bone', value_name='fractured')\n",
    "results_df_3D.insert(0, 'row_id', results_df_3D.patient_id + '_' + results_df_3D.bone)\n",
    "results_df_3D.drop(['patient_id', 'bone'], axis=1, inplace=True)\n",
    "results_df_3D = pd.DataFrame(results_df_3D.groupby(['row_id']).max().reset_index())\n",
    "results_df_3D.head(30)"
   ]
  },
  {
   "cell_type": "code",
   "execution_count": 25,
   "id": "70e469ba",
   "metadata": {
    "execution": {
     "iopub.execute_input": "2022-09-22T14:21:49.250544Z",
     "iopub.status.busy": "2022-09-22T14:21:49.250267Z",
     "iopub.status.idle": "2022-09-22T14:21:49.258382Z",
     "shell.execute_reply": "2022-09-22T14:21:49.257478Z"
    },
    "papermill": {
     "duration": 0.027394,
     "end_time": "2022-09-22T14:21:49.260645",
     "exception": false,
     "start_time": "2022-09-22T14:21:49.233251",
     "status": "completed"
    },
    "tags": []
   },
   "outputs": [],
   "source": [
    "results_df_3D.to_csv('submission.csv', index=False)"
   ]
  }
 ],
 "metadata": {
  "kernelspec": {
   "display_name": "Python 3",
   "language": "python",
   "name": "python3"
  },
  "language_info": {
   "codemirror_mode": {
    "name": "ipython",
    "version": 3
   },
   "file_extension": ".py",
   "mimetype": "text/x-python",
   "name": "python",
   "nbconvert_exporter": "python",
   "pygments_lexer": "ipython3",
   "version": "3.7.12"
  },
  "papermill": {
   "default_parameters": {},
   "duration": 342.56038,
   "end_time": "2022-09-22T14:21:52.438265",
   "environment_variables": {},
   "exception": null,
   "input_path": "__notebook__.ipynb",
   "output_path": "__notebook__.ipynb",
   "parameters": {},
   "start_time": "2022-09-22T14:16:09.877885",
   "version": "2.3.4"
  }
 },
 "nbformat": 4,
 "nbformat_minor": 5
}
