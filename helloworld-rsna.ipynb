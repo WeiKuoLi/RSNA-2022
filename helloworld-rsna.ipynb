{
 "cells": [
  {
   "cell_type": "markdown",
   "id": "20a3b363",
   "metadata": {
    "papermill": {
     "duration": 0.017627,
     "end_time": "2022-09-22T12:47:29.949568",
     "exception": false,
     "start_time": "2022-09-22T12:47:29.931941",
     "status": "completed"
    },
    "tags": []
   },
   "source": [
    "# As the data is intimedataing for new people to images analysis (like me !) I created this notebook which aims to understand data and make a first submission"
   ]
  },
  {
   "cell_type": "markdown",
   "id": "077a690d",
   "metadata": {
    "execution": {
     "iopub.execute_input": "2022-09-08T10:30:53.35868Z",
     "iopub.status.busy": "2022-09-08T10:30:53.357779Z",
     "iopub.status.idle": "2022-09-08T10:30:53.381486Z",
     "shell.execute_reply": "2022-09-08T10:30:53.380449Z",
     "shell.execute_reply.started": "2022-09-08T10:30:53.358571Z"
    },
    "papermill": {
     "duration": 0.015777,
     "end_time": "2022-09-22T12:47:29.981538",
     "exception": false,
     "start_time": "2022-09-22T12:47:29.965761",
     "status": "completed"
    },
    "tags": []
   },
   "source": [
    "### 1. Install this packages for correctly reading images (credit : [this notebook of @samuelcortinhas](https://www.kaggle.com/code/samuelcortinhas/rsna-fracture-detection-in-depth-eda))\n",
    "## BUT BEFORE YOU HAVE TO ADD pydicom utility : Add Data menu --> search for Pydicom Utility --> add the data"
   ]
  },
  {
   "cell_type": "code",
   "execution_count": 1,
   "id": "ebf0772a",
   "metadata": {
    "execution": {
     "iopub.execute_input": "2022-09-22T12:47:30.015675Z",
     "iopub.status.busy": "2022-09-22T12:47:30.015137Z",
     "iopub.status.idle": "2022-09-22T12:47:41.065911Z",
     "shell.execute_reply": "2022-09-22T12:47:41.064722Z"
    },
    "papermill": {
     "duration": 11.071453,
     "end_time": "2022-09-22T12:47:41.068961",
     "exception": false,
     "start_time": "2022-09-22T12:47:29.997508",
     "status": "completed"
    },
    "tags": []
   },
   "outputs": [
    {
     "name": "stdout",
     "output_type": "stream",
     "text": [
      "\u001b[33mWARNING: Running pip as the 'root' user can result in broken permissions and conflicting behaviour with the system package manager. It is recommended to use a virtual environment instead: https://pip.pypa.io/warnings/venv\u001b[0m\u001b[33m\r\n",
      "\u001b[0m"
     ]
    }
   ],
   "source": [
    "!pip install -qU '../input/for-pydicom/python_gdcm-3.0.14-cp37-cp37m-manylinux_2_17_x86_64.manylinux2014_x86_64.whl' --find-links frozen_packages --no-index\n"
   ]
  },
  {
   "cell_type": "code",
   "execution_count": 2,
   "id": "45f6a3d7",
   "metadata": {
    "execution": {
     "iopub.execute_input": "2022-09-22T12:47:41.104349Z",
     "iopub.status.busy": "2022-09-22T12:47:41.103982Z",
     "iopub.status.idle": "2022-09-22T12:47:50.457317Z",
     "shell.execute_reply": "2022-09-22T12:47:50.456108Z"
    },
    "papermill": {
     "duration": 9.373563,
     "end_time": "2022-09-22T12:47:50.459939",
     "exception": false,
     "start_time": "2022-09-22T12:47:41.086376",
     "status": "completed"
    },
    "tags": []
   },
   "outputs": [
    {
     "name": "stdout",
     "output_type": "stream",
     "text": [
      "\u001b[33mWARNING: Running pip as the 'root' user can result in broken permissions and conflicting behaviour with the system package manager. It is recommended to use a virtual environment instead: https://pip.pypa.io/warnings/venv\u001b[0m\u001b[33m\r\n",
      "\u001b[0m"
     ]
    }
   ],
   "source": [
    "!pip install -qU '../input/for-pydicom/pylibjpeg-1.4.0-py3-none-any.whl' --find-links frozen_packages --no-index"
   ]
  },
  {
   "cell_type": "code",
   "execution_count": 3,
   "id": "20c75927",
   "metadata": {
    "execution": {
     "iopub.execute_input": "2022-09-22T12:47:50.494077Z",
     "iopub.status.busy": "2022-09-22T12:47:50.493712Z",
     "iopub.status.idle": "2022-09-22T12:47:51.433975Z",
     "shell.execute_reply": "2022-09-22T12:47:51.432803Z"
    },
    "papermill": {
     "duration": 0.96008,
     "end_time": "2022-09-22T12:47:51.436541",
     "exception": false,
     "start_time": "2022-09-22T12:47:50.476461",
     "status": "completed"
    },
    "tags": []
   },
   "outputs": [
    {
     "name": "stdout",
     "output_type": "stream",
     "text": [
      "StudyInstanceUID,patient_overall,C1,C2,C3,C4,C5,C6,C7\r\n",
      "1.2.826.0.1.3680043.6200,1,1,1,0,0,0,0,0\r\n",
      "1.2.826.0.1.3680043.27262,1,0,1,0,0,0,0,0\r\n",
      "1.2.826.0.1.3680043.21561,1,0,1,0,0,0,0,0\r\n",
      "1.2.826.0.1.3680043.12351,0,0,0,0,0,0,0,0\r\n",
      "1.2.826.0.1.3680043.1363,1,0,0,0,0,1,0,0\r\n",
      "1.2.826.0.1.3680043.4859,1,0,0,0,0,0,1,0\r\n",
      "1.2.826.0.1.3680043.18659,1,0,0,0,1,0,0,1\r\n",
      "1.2.826.0.1.3680043.17364,0,0,0,0,0,0,0,0\r\n",
      "1.2.826.0.1.3680043.849,0,0,0,0,0,0,0,0\r\n"
     ]
    }
   ],
   "source": [
    "!head ../input/rsna*/train.csv\n",
    "\n"
   ]
  },
  {
   "cell_type": "markdown",
   "id": "f894764e",
   "metadata": {
    "execution": {
     "iopub.execute_input": "2022-09-08T10:37:36.908029Z",
     "iopub.status.busy": "2022-09-08T10:37:36.90759Z",
     "iopub.status.idle": "2022-09-08T10:37:36.913197Z",
     "shell.execute_reply": "2022-09-08T10:37:36.912168Z",
     "shell.execute_reply.started": "2022-09-08T10:37:36.907986Z"
    },
    "papermill": {
     "duration": 0.01591,
     "end_time": "2022-09-22T12:47:51.468644",
     "exception": false,
     "start_time": "2022-09-22T12:47:51.452734",
     "status": "completed"
    },
    "tags": []
   },
   "source": [
    "### 2. Import the necessary packages"
   ]
  },
  {
   "cell_type": "code",
   "execution_count": 4,
   "id": "a2ccc3c4",
   "metadata": {
    "execution": {
     "iopub.execute_input": "2022-09-22T12:47:51.502269Z",
     "iopub.status.busy": "2022-09-22T12:47:51.501932Z",
     "iopub.status.idle": "2022-09-22T12:47:52.769324Z",
     "shell.execute_reply": "2022-09-22T12:47:52.768350Z"
    },
    "papermill": {
     "duration": 1.286735,
     "end_time": "2022-09-22T12:47:52.771709",
     "exception": false,
     "start_time": "2022-09-22T12:47:51.484974",
     "status": "completed"
    },
    "tags": []
   },
   "outputs": [],
   "source": [
    "import numpy as np\n",
    "import pandas as pd\n",
    "import os\n",
    "import matplotlib.pyplot as plt\n",
    "import matplotlib.patches as patches\n",
    "import seaborn as sns\n",
    "sns.set(style='darkgrid', font_scale=1.6)\n",
    "import cv2\n",
    "from os import listdir\n",
    "import re\n",
    "import gc\n",
    "import pydicom\n",
    "from pydicom.pixel_data_handlers.util import apply_voi_lut\n",
    "from tqdm import tqdm\n",
    "import nibabel as nib\n",
    "import random"
   ]
  },
  {
   "cell_type": "markdown",
   "id": "b3ee5c5a",
   "metadata": {
    "papermill": {
     "duration": 0.015727,
     "end_time": "2022-09-22T12:47:52.803960",
     "exception": false,
     "start_time": "2022-09-22T12:47:52.788233",
     "status": "completed"
    },
    "tags": []
   },
   "source": [
    "### 3. Explore the csv files : train.csv and train_bounding_boxes"
   ]
  },
  {
   "cell_type": "markdown",
   "id": "c7c08f4d",
   "metadata": {
    "papermill": {
     "duration": 0.015572,
     "end_time": "2022-09-22T12:47:52.835441",
     "exception": false,
     "start_time": "2022-09-22T12:47:52.819869",
     "status": "completed"
    },
    "tags": []
   },
   "source": [
    "#### Read train.csv"
   ]
  },
  {
   "cell_type": "code",
   "execution_count": 5,
   "id": "122af816",
   "metadata": {
    "execution": {
     "iopub.execute_input": "2022-09-22T12:47:52.869843Z",
     "iopub.status.busy": "2022-09-22T12:47:52.868806Z",
     "iopub.status.idle": "2022-09-22T12:47:52.917630Z",
     "shell.execute_reply": "2022-09-22T12:47:52.916626Z"
    },
    "papermill": {
     "duration": 0.068133,
     "end_time": "2022-09-22T12:47:52.919830",
     "exception": false,
     "start_time": "2022-09-22T12:47:52.851697",
     "status": "completed"
    },
    "tags": []
   },
   "outputs": [
    {
     "name": "stdout",
     "output_type": "stream",
     "text": [
      "<class 'pandas.core.frame.DataFrame'>\n",
      "RangeIndex: 2019 entries, 0 to 2018\n",
      "Data columns (total 9 columns):\n",
      " #   Column            Non-Null Count  Dtype \n",
      "---  ------            --------------  ----- \n",
      " 0   StudyInstanceUID  2019 non-null   object\n",
      " 1   patient_overall   2019 non-null   int64 \n",
      " 2   C1                2019 non-null   int64 \n",
      " 3   C2                2019 non-null   int64 \n",
      " 4   C3                2019 non-null   int64 \n",
      " 5   C4                2019 non-null   int64 \n",
      " 6   C5                2019 non-null   int64 \n",
      " 7   C6                2019 non-null   int64 \n",
      " 8   C7                2019 non-null   int64 \n",
      "dtypes: int64(8), object(1)\n",
      "memory usage: 142.1+ KB\n",
      "None\n"
     ]
    },
    {
     "data": {
      "text/html": [
       "<div>\n",
       "<style scoped>\n",
       "    .dataframe tbody tr th:only-of-type {\n",
       "        vertical-align: middle;\n",
       "    }\n",
       "\n",
       "    .dataframe tbody tr th {\n",
       "        vertical-align: top;\n",
       "    }\n",
       "\n",
       "    .dataframe thead th {\n",
       "        text-align: right;\n",
       "    }\n",
       "</style>\n",
       "<table border=\"1\" class=\"dataframe\">\n",
       "  <thead>\n",
       "    <tr style=\"text-align: right;\">\n",
       "      <th></th>\n",
       "      <th>StudyInstanceUID</th>\n",
       "      <th>patient_overall</th>\n",
       "      <th>C1</th>\n",
       "      <th>C2</th>\n",
       "      <th>C3</th>\n",
       "      <th>C4</th>\n",
       "      <th>C5</th>\n",
       "      <th>C6</th>\n",
       "      <th>C7</th>\n",
       "    </tr>\n",
       "  </thead>\n",
       "  <tbody>\n",
       "    <tr>\n",
       "      <th>0</th>\n",
       "      <td>1.2.826.0.1.3680043.6200</td>\n",
       "      <td>1</td>\n",
       "      <td>1</td>\n",
       "      <td>1</td>\n",
       "      <td>0</td>\n",
       "      <td>0</td>\n",
       "      <td>0</td>\n",
       "      <td>0</td>\n",
       "      <td>0</td>\n",
       "    </tr>\n",
       "    <tr>\n",
       "      <th>1</th>\n",
       "      <td>1.2.826.0.1.3680043.27262</td>\n",
       "      <td>1</td>\n",
       "      <td>0</td>\n",
       "      <td>1</td>\n",
       "      <td>0</td>\n",
       "      <td>0</td>\n",
       "      <td>0</td>\n",
       "      <td>0</td>\n",
       "      <td>0</td>\n",
       "    </tr>\n",
       "    <tr>\n",
       "      <th>2</th>\n",
       "      <td>1.2.826.0.1.3680043.21561</td>\n",
       "      <td>1</td>\n",
       "      <td>0</td>\n",
       "      <td>1</td>\n",
       "      <td>0</td>\n",
       "      <td>0</td>\n",
       "      <td>0</td>\n",
       "      <td>0</td>\n",
       "      <td>0</td>\n",
       "    </tr>\n",
       "    <tr>\n",
       "      <th>3</th>\n",
       "      <td>1.2.826.0.1.3680043.12351</td>\n",
       "      <td>0</td>\n",
       "      <td>0</td>\n",
       "      <td>0</td>\n",
       "      <td>0</td>\n",
       "      <td>0</td>\n",
       "      <td>0</td>\n",
       "      <td>0</td>\n",
       "      <td>0</td>\n",
       "    </tr>\n",
       "    <tr>\n",
       "      <th>4</th>\n",
       "      <td>1.2.826.0.1.3680043.1363</td>\n",
       "      <td>1</td>\n",
       "      <td>0</td>\n",
       "      <td>0</td>\n",
       "      <td>0</td>\n",
       "      <td>0</td>\n",
       "      <td>1</td>\n",
       "      <td>0</td>\n",
       "      <td>0</td>\n",
       "    </tr>\n",
       "    <tr>\n",
       "      <th>5</th>\n",
       "      <td>1.2.826.0.1.3680043.4859</td>\n",
       "      <td>1</td>\n",
       "      <td>0</td>\n",
       "      <td>0</td>\n",
       "      <td>0</td>\n",
       "      <td>0</td>\n",
       "      <td>0</td>\n",
       "      <td>1</td>\n",
       "      <td>0</td>\n",
       "    </tr>\n",
       "    <tr>\n",
       "      <th>6</th>\n",
       "      <td>1.2.826.0.1.3680043.18659</td>\n",
       "      <td>1</td>\n",
       "      <td>0</td>\n",
       "      <td>0</td>\n",
       "      <td>0</td>\n",
       "      <td>1</td>\n",
       "      <td>0</td>\n",
       "      <td>0</td>\n",
       "      <td>1</td>\n",
       "    </tr>\n",
       "    <tr>\n",
       "      <th>7</th>\n",
       "      <td>1.2.826.0.1.3680043.17364</td>\n",
       "      <td>0</td>\n",
       "      <td>0</td>\n",
       "      <td>0</td>\n",
       "      <td>0</td>\n",
       "      <td>0</td>\n",
       "      <td>0</td>\n",
       "      <td>0</td>\n",
       "      <td>0</td>\n",
       "    </tr>\n",
       "    <tr>\n",
       "      <th>8</th>\n",
       "      <td>1.2.826.0.1.3680043.849</td>\n",
       "      <td>0</td>\n",
       "      <td>0</td>\n",
       "      <td>0</td>\n",
       "      <td>0</td>\n",
       "      <td>0</td>\n",
       "      <td>0</td>\n",
       "      <td>0</td>\n",
       "      <td>0</td>\n",
       "    </tr>\n",
       "    <tr>\n",
       "      <th>9</th>\n",
       "      <td>1.2.826.0.1.3680043.24045</td>\n",
       "      <td>1</td>\n",
       "      <td>0</td>\n",
       "      <td>0</td>\n",
       "      <td>0</td>\n",
       "      <td>0</td>\n",
       "      <td>0</td>\n",
       "      <td>0</td>\n",
       "      <td>1</td>\n",
       "    </tr>\n",
       "  </tbody>\n",
       "</table>\n",
       "</div>"
      ],
      "text/plain": [
       "            StudyInstanceUID  patient_overall  C1  C2  C3  C4  C5  C6  C7\n",
       "0   1.2.826.0.1.3680043.6200                1   1   1   0   0   0   0   0\n",
       "1  1.2.826.0.1.3680043.27262                1   0   1   0   0   0   0   0\n",
       "2  1.2.826.0.1.3680043.21561                1   0   1   0   0   0   0   0\n",
       "3  1.2.826.0.1.3680043.12351                0   0   0   0   0   0   0   0\n",
       "4   1.2.826.0.1.3680043.1363                1   0   0   0   0   1   0   0\n",
       "5   1.2.826.0.1.3680043.4859                1   0   0   0   0   0   1   0\n",
       "6  1.2.826.0.1.3680043.18659                1   0   0   0   1   0   0   1\n",
       "7  1.2.826.0.1.3680043.17364                0   0   0   0   0   0   0   0\n",
       "8    1.2.826.0.1.3680043.849                0   0   0   0   0   0   0   0\n",
       "9  1.2.826.0.1.3680043.24045                1   0   0   0   0   0   0   1"
      ]
     },
     "execution_count": 5,
     "metadata": {},
     "output_type": "execute_result"
    }
   ],
   "source": [
    "train = pd.read_csv('../input/rsna-2022-cervical-spine-fracture-detection/train.csv')\n",
    "print(train.info())\n",
    "train.head(10)"
   ]
  },
  {
   "cell_type": "markdown",
   "id": "c80fcb9e",
   "metadata": {
    "papermill": {
     "duration": 0.01678,
     "end_time": "2022-09-22T12:47:52.953144",
     "exception": false,
     "start_time": "2022-09-22T12:47:52.936364",
     "status": "completed"
    },
    "tags": []
   },
   "source": [
    "#### Let's create a function that returns a list of the fractured bones of a given id. We may need it later"
   ]
  },
  {
   "cell_type": "code",
   "execution_count": 6,
   "id": "93ce5678",
   "metadata": {
    "execution": {
     "iopub.execute_input": "2022-09-22T12:47:52.987638Z",
     "iopub.status.busy": "2022-09-22T12:47:52.987259Z",
     "iopub.status.idle": "2022-09-22T12:47:52.993438Z",
     "shell.execute_reply": "2022-09-22T12:47:52.992429Z"
    },
    "papermill": {
     "duration": 0.026068,
     "end_time": "2022-09-22T12:47:52.995528",
     "exception": false,
     "start_time": "2022-09-22T12:47:52.969460",
     "status": "completed"
    },
    "tags": []
   },
   "outputs": [],
   "source": [
    "def get_fractured_bones(patient_id):\n",
    "    fractured_bones = []\n",
    "    temp = train.loc[train.StudyInstanceUID == patient_id,['C1','C2', 'C3', 'C4', 'C5', 'C6', 'C7']]\n",
    "    temp = list(temp.values[0]) # there is one row per id\n",
    "    for i in range(len(temp)):\n",
    "        if temp[i] == 1:\n",
    "            fractured_bones.append('C' + str(i+1))\n",
    "    return fractured_bones"
   ]
  },
  {
   "cell_type": "code",
   "execution_count": 7,
   "id": "18ade01d",
   "metadata": {
    "execution": {
     "iopub.execute_input": "2022-09-22T12:47:53.029724Z",
     "iopub.status.busy": "2022-09-22T12:47:53.029006Z",
     "iopub.status.idle": "2022-09-22T12:47:53.037480Z",
     "shell.execute_reply": "2022-09-22T12:47:53.036602Z"
    },
    "papermill": {
     "duration": 0.027565,
     "end_time": "2022-09-22T12:47:53.039483",
     "exception": false,
     "start_time": "2022-09-22T12:47:53.011918",
     "status": "completed"
    },
    "tags": []
   },
   "outputs": [
    {
     "data": {
      "text/plain": [
       "['C1', 'C2']"
      ]
     },
     "execution_count": 7,
     "metadata": {},
     "output_type": "execute_result"
    }
   ],
   "source": [
    "# Test the function\n",
    "get_fractured_bones('1.2.826.0.1.3680043.6200')"
   ]
  },
  {
   "cell_type": "markdown",
   "id": "cacdf52c",
   "metadata": {
    "papermill": {
     "duration": 0.015861,
     "end_time": "2022-09-22T12:47:53.071516",
     "exception": false,
     "start_time": "2022-09-22T12:47:53.055655",
     "status": "completed"
    },
    "tags": []
   },
   "source": [
    "#### Read train_bounding_boxes"
   ]
  },
  {
   "cell_type": "code",
   "execution_count": 8,
   "id": "d0e9625b",
   "metadata": {
    "execution": {
     "iopub.execute_input": "2022-09-22T12:47:53.106486Z",
     "iopub.status.busy": "2022-09-22T12:47:53.105413Z",
     "iopub.status.idle": "2022-09-22T12:47:53.146595Z",
     "shell.execute_reply": "2022-09-22T12:47:53.145492Z"
    },
    "papermill": {
     "duration": 0.061136,
     "end_time": "2022-09-22T12:47:53.148873",
     "exception": false,
     "start_time": "2022-09-22T12:47:53.087737",
     "status": "completed"
    },
    "tags": []
   },
   "outputs": [
    {
     "name": "stdout",
     "output_type": "stream",
     "text": [
      "<class 'pandas.core.frame.DataFrame'>\n",
      "RangeIndex: 7217 entries, 0 to 7216\n",
      "Data columns (total 6 columns):\n",
      " #   Column            Non-Null Count  Dtype  \n",
      "---  ------            --------------  -----  \n",
      " 0   StudyInstanceUID  7217 non-null   object \n",
      " 1   x                 7217 non-null   float64\n",
      " 2   y                 7217 non-null   float64\n",
      " 3   width             7217 non-null   float64\n",
      " 4   height            7217 non-null   float64\n",
      " 5   slice_number      7217 non-null   int64  \n",
      "dtypes: float64(4), int64(1), object(1)\n",
      "memory usage: 338.4+ KB\n",
      "None\n"
     ]
    },
    {
     "data": {
      "text/html": [
       "<div>\n",
       "<style scoped>\n",
       "    .dataframe tbody tr th:only-of-type {\n",
       "        vertical-align: middle;\n",
       "    }\n",
       "\n",
       "    .dataframe tbody tr th {\n",
       "        vertical-align: top;\n",
       "    }\n",
       "\n",
       "    .dataframe thead th {\n",
       "        text-align: right;\n",
       "    }\n",
       "</style>\n",
       "<table border=\"1\" class=\"dataframe\">\n",
       "  <thead>\n",
       "    <tr style=\"text-align: right;\">\n",
       "      <th></th>\n",
       "      <th>StudyInstanceUID</th>\n",
       "      <th>x</th>\n",
       "      <th>y</th>\n",
       "      <th>width</th>\n",
       "      <th>height</th>\n",
       "      <th>slice_number</th>\n",
       "    </tr>\n",
       "  </thead>\n",
       "  <tbody>\n",
       "    <tr>\n",
       "      <th>0</th>\n",
       "      <td>1.2.826.0.1.3680043.10051</td>\n",
       "      <td>219.27715</td>\n",
       "      <td>216.71419</td>\n",
       "      <td>17.30440</td>\n",
       "      <td>20.38517</td>\n",
       "      <td>133</td>\n",
       "    </tr>\n",
       "    <tr>\n",
       "      <th>1</th>\n",
       "      <td>1.2.826.0.1.3680043.10051</td>\n",
       "      <td>221.56460</td>\n",
       "      <td>216.71419</td>\n",
       "      <td>17.87844</td>\n",
       "      <td>25.24362</td>\n",
       "      <td>134</td>\n",
       "    </tr>\n",
       "    <tr>\n",
       "      <th>2</th>\n",
       "      <td>1.2.826.0.1.3680043.10051</td>\n",
       "      <td>216.82151</td>\n",
       "      <td>221.62546</td>\n",
       "      <td>27.00959</td>\n",
       "      <td>26.37454</td>\n",
       "      <td>135</td>\n",
       "    </tr>\n",
       "    <tr>\n",
       "      <th>3</th>\n",
       "      <td>1.2.826.0.1.3680043.10051</td>\n",
       "      <td>214.49455</td>\n",
       "      <td>215.48637</td>\n",
       "      <td>27.92726</td>\n",
       "      <td>37.51363</td>\n",
       "      <td>136</td>\n",
       "    </tr>\n",
       "    <tr>\n",
       "      <th>4</th>\n",
       "      <td>1.2.826.0.1.3680043.10051</td>\n",
       "      <td>214.00000</td>\n",
       "      <td>215.48637</td>\n",
       "      <td>27.00000</td>\n",
       "      <td>43.51363</td>\n",
       "      <td>137</td>\n",
       "    </tr>\n",
       "    <tr>\n",
       "      <th>5</th>\n",
       "      <td>1.2.826.0.1.3680043.10051</td>\n",
       "      <td>213.56364</td>\n",
       "      <td>216.71419</td>\n",
       "      <td>25.13455</td>\n",
       "      <td>47.92717</td>\n",
       "      <td>138</td>\n",
       "    </tr>\n",
       "    <tr>\n",
       "      <th>6</th>\n",
       "      <td>1.2.826.0.1.3680043.10051</td>\n",
       "      <td>209.00000</td>\n",
       "      <td>214.57591</td>\n",
       "      <td>36.06131</td>\n",
       "      <td>51.56834</td>\n",
       "      <td>139</td>\n",
       "    </tr>\n",
       "    <tr>\n",
       "      <th>7</th>\n",
       "      <td>1.2.826.0.1.3680043.10051</td>\n",
       "      <td>204.25455</td>\n",
       "      <td>212.24727</td>\n",
       "      <td>47.47636</td>\n",
       "      <td>57.71635</td>\n",
       "      <td>140</td>\n",
       "    </tr>\n",
       "    <tr>\n",
       "      <th>8</th>\n",
       "      <td>1.2.826.0.1.3680043.10051</td>\n",
       "      <td>205.00000</td>\n",
       "      <td>213.87342</td>\n",
       "      <td>45.00000</td>\n",
       "      <td>59.12658</td>\n",
       "      <td>141</td>\n",
       "    </tr>\n",
       "    <tr>\n",
       "      <th>9</th>\n",
       "      <td>1.2.826.0.1.3680043.10051</td>\n",
       "      <td>205.18545</td>\n",
       "      <td>214.76814</td>\n",
       "      <td>42.89892</td>\n",
       "      <td>63.43364</td>\n",
       "      <td>142</td>\n",
       "    </tr>\n",
       "  </tbody>\n",
       "</table>\n",
       "</div>"
      ],
      "text/plain": [
       "            StudyInstanceUID          x          y     width    height  \\\n",
       "0  1.2.826.0.1.3680043.10051  219.27715  216.71419  17.30440  20.38517   \n",
       "1  1.2.826.0.1.3680043.10051  221.56460  216.71419  17.87844  25.24362   \n",
       "2  1.2.826.0.1.3680043.10051  216.82151  221.62546  27.00959  26.37454   \n",
       "3  1.2.826.0.1.3680043.10051  214.49455  215.48637  27.92726  37.51363   \n",
       "4  1.2.826.0.1.3680043.10051  214.00000  215.48637  27.00000  43.51363   \n",
       "5  1.2.826.0.1.3680043.10051  213.56364  216.71419  25.13455  47.92717   \n",
       "6  1.2.826.0.1.3680043.10051  209.00000  214.57591  36.06131  51.56834   \n",
       "7  1.2.826.0.1.3680043.10051  204.25455  212.24727  47.47636  57.71635   \n",
       "8  1.2.826.0.1.3680043.10051  205.00000  213.87342  45.00000  59.12658   \n",
       "9  1.2.826.0.1.3680043.10051  205.18545  214.76814  42.89892  63.43364   \n",
       "\n",
       "   slice_number  \n",
       "0           133  \n",
       "1           134  \n",
       "2           135  \n",
       "3           136  \n",
       "4           137  \n",
       "5           138  \n",
       "6           139  \n",
       "7           140  \n",
       "8           141  \n",
       "9           142  "
      ]
     },
     "execution_count": 8,
     "metadata": {},
     "output_type": "execute_result"
    }
   ],
   "source": [
    "#!ls ../input/rsna*/*\n",
    "train_bb = pd.read_csv('../input/rsna-2022-cervical-spine-fracture-detection/train_bounding_boxes.csv')\n",
    "print(train_bb.info())\n",
    "train_bb.head(10)"
   ]
  },
  {
   "cell_type": "markdown",
   "id": "8381b54b",
   "metadata": {
    "papermill": {
     "duration": 0.016629,
     "end_time": "2022-09-22T12:47:53.182829",
     "exception": false,
     "start_time": "2022-09-22T12:47:53.166200",
     "status": "completed"
    },
    "tags": []
   },
   "source": [
    "#### What's the link with train.csv ?<br>\n",
    "First, the StudyInstanceUID column is present in both files (later on we will call it id)<br> \n",
    "But, not all ids present in train are also present in train_bb, because train_bb contains only fractured bones.<br>\n",
    "Let's check that :"
   ]
  },
  {
   "cell_type": "code",
   "execution_count": 9,
   "id": "079e76fd",
   "metadata": {
    "execution": {
     "iopub.execute_input": "2022-09-22T12:47:53.219472Z",
     "iopub.status.busy": "2022-09-22T12:47:53.217807Z",
     "iopub.status.idle": "2022-09-22T12:47:53.262191Z",
     "shell.execute_reply": "2022-09-22T12:47:53.260858Z"
    },
    "papermill": {
     "duration": 0.064836,
     "end_time": "2022-09-22T12:47:53.264365",
     "exception": false,
     "start_time": "2022-09-22T12:47:53.199529",
     "status": "completed"
    },
    "tags": []
   },
   "outputs": [
    {
     "name": "stdout",
     "output_type": "stream",
     "text": [
      "Number of ids from train :  2019\n",
      "Number of unfractured ids from train :  1058\n",
      "Number of fractured ids from train :  961\n",
      "Number of ids in train_bb :  235\n",
      "Number of ids not in train_bb :  1784\n",
      "Number of unfractered ids not in train_bb :  1058\n",
      "Number of fractered ids not in train_bb :  726\n"
     ]
    }
   ],
   "source": [
    "# get fractured and unfractured ids from train\n",
    "fractured_ids = list(train.loc[train['patient_overall']==1,:]['StudyInstanceUID'])\n",
    "unfractured_ids = list(train.loc[train['patient_overall']==0,:]['StudyInstanceUID'])\n",
    "train_ids = fractured_ids + unfractured_ids\n",
    "print('Number of ids from train : ', len(train_ids))\n",
    "print('Number of unfractured ids from train : ', len(unfractured_ids))\n",
    "print('Number of fractured ids from train : ', len(fractured_ids))\n",
    "\n",
    "# get ids from train_bb\n",
    "ids_bb = train_bb['StudyInstanceUID'].unique()\n",
    "print('Number of ids in train_bb : ', len(ids_bb))\n",
    "\n",
    "# print ids not in train_bb\n",
    "ids_not_in_train_bb = [i for i in train_ids  if not i in ids_bb]\n",
    "unfr_ids_not_in_train_bb = [i for i in unfractured_ids  if not i in ids_bb]\n",
    "fr_ids_not_in_train_bb = [i for i in fractured_ids  if not i in ids_bb]\n",
    "print('Number of ids not in train_bb : ', len(ids_not_in_train_bb))\n",
    "print('Number of unfractered ids not in train_bb : ', len(unfr_ids_not_in_train_bb))\n",
    "print('Number of fractered ids not in train_bb : ', len(fr_ids_not_in_train_bb))"
   ]
  },
  {
   "cell_type": "code",
   "execution_count": 10,
   "id": "2d19b6d6",
   "metadata": {
    "execution": {
     "iopub.execute_input": "2022-09-22T12:47:53.299896Z",
     "iopub.status.busy": "2022-09-22T12:47:53.299029Z",
     "iopub.status.idle": "2022-09-22T12:47:53.306052Z",
     "shell.execute_reply": "2022-09-22T12:47:53.305204Z"
    },
    "papermill": {
     "duration": 0.026995,
     "end_time": "2022-09-22T12:47:53.308042",
     "exception": false,
     "start_time": "2022-09-22T12:47:53.281047",
     "status": "completed"
    },
    "tags": []
   },
   "outputs": [],
   "source": [
    "for x in ids_bb:\n",
    "    if not x in  fractured_ids:\n",
    "        print(\"ERR\")\n",
    "    #else:\n",
    "        #print (\"OK\")"
   ]
  },
  {
   "cell_type": "markdown",
   "id": "6b0994ef",
   "metadata": {
    "papermill": {
     "duration": 0.016522,
     "end_time": "2022-09-22T12:47:53.341617",
     "exception": false,
     "start_time": "2022-09-22T12:47:53.325095",
     "status": "completed"
    },
    "tags": []
   },
   "source": [
    "#### From line 2 and line 6, we can conclude that train_bb concerns only fractured bones.\n",
    "#### But from a total of 961 fractured bones (line 3), train_bb contains only 235 (line 4)"
   ]
  },
  {
   "cell_type": "markdown",
   "id": "3cdea539",
   "metadata": {
    "papermill": {
     "duration": 0.016334,
     "end_time": "2022-09-22T12:47:53.374664",
     "exception": false,
     "start_time": "2022-09-22T12:47:53.358330",
     "status": "completed"
    },
    "tags": []
   },
   "source": [
    "Second, slice number refers to a dcm file present in the folder with the same name as the coressponding id. For example for the first line of train_bb with id = '1.2.826.0.1.3680043.10051' and slice_number = 133, we can check that there is a 133.dcm file in **'../input/rsna-2022-cervical-spine-fracture-detection/train_images/1.2.826.0.1.3680043.10051'**<br>\n",
    "This file is an image that we can read like this : "
   ]
  },
  {
   "cell_type": "code",
   "execution_count": 11,
   "id": "7a20937c",
   "metadata": {
    "execution": {
     "iopub.execute_input": "2022-09-22T12:47:53.410221Z",
     "iopub.status.busy": "2022-09-22T12:47:53.409289Z",
     "iopub.status.idle": "2022-09-22T12:47:54.470284Z",
     "shell.execute_reply": "2022-09-22T12:47:54.469136Z"
    },
    "papermill": {
     "duration": 1.081125,
     "end_time": "2022-09-22T12:47:54.472747",
     "exception": false,
     "start_time": "2022-09-22T12:47:53.391622",
     "status": "completed"
    },
    "tags": []
   },
   "outputs": [
    {
     "name": "stdout",
     "output_type": "stream",
     "text": [
      "1.dcm\t 127.dcm  155.dcm  183.dcm  210.dcm  239.dcm  267.dcm  5.dcm   78.dcm\r\n",
      "10.dcm\t 128.dcm  156.dcm  184.dcm  211.dcm  24.dcm   268.dcm  50.dcm  79.dcm\r\n",
      "100.dcm  129.dcm  157.dcm  185.dcm  212.dcm  240.dcm  269.dcm  51.dcm  8.dcm\r\n",
      "101.dcm  13.dcm   158.dcm  186.dcm  213.dcm  241.dcm  27.dcm   52.dcm  80.dcm\r\n",
      "102.dcm  130.dcm  159.dcm  187.dcm  214.dcm  242.dcm  270.dcm  53.dcm  81.dcm\r\n",
      "103.dcm  131.dcm  16.dcm   188.dcm  215.dcm  243.dcm  271.dcm  54.dcm  82.dcm\r\n",
      "104.dcm  132.dcm  160.dcm  189.dcm  216.dcm  244.dcm  272.dcm  55.dcm  83.dcm\r\n",
      "105.dcm  133.dcm  161.dcm  19.dcm   217.dcm  245.dcm  28.dcm   56.dcm  84.dcm\r\n",
      "106.dcm  134.dcm  162.dcm  190.dcm  218.dcm  246.dcm  29.dcm   57.dcm  85.dcm\r\n",
      "107.dcm  135.dcm  163.dcm  191.dcm  219.dcm  247.dcm  3.dcm    58.dcm  86.dcm\r\n",
      "108.dcm  136.dcm  164.dcm  192.dcm  22.dcm   248.dcm  30.dcm   59.dcm  87.dcm\r\n",
      "109.dcm  137.dcm  165.dcm  193.dcm  220.dcm  249.dcm  31.dcm   6.dcm   88.dcm\r\n",
      "11.dcm\t 138.dcm  166.dcm  194.dcm  221.dcm  25.dcm   32.dcm   60.dcm  89.dcm\r\n",
      "110.dcm  139.dcm  167.dcm  195.dcm  222.dcm  250.dcm  33.dcm   61.dcm  9.dcm\r\n",
      "111.dcm  14.dcm   168.dcm  196.dcm  223.dcm  251.dcm  34.dcm   62.dcm  90.dcm\r\n",
      "112.dcm  140.dcm  169.dcm  197.dcm  224.dcm  252.dcm  35.dcm   63.dcm  91.dcm\r\n",
      "113.dcm  141.dcm  17.dcm   198.dcm  225.dcm  253.dcm  36.dcm   64.dcm  92.dcm\r\n",
      "114.dcm  142.dcm  170.dcm  199.dcm  226.dcm  254.dcm  37.dcm   65.dcm  93.dcm\r\n",
      "115.dcm  143.dcm  171.dcm  2.dcm    227.dcm  255.dcm  38.dcm   66.dcm  94.dcm\r\n",
      "116.dcm  144.dcm  172.dcm  20.dcm   228.dcm  256.dcm  39.dcm   67.dcm  95.dcm\r\n",
      "117.dcm  145.dcm  173.dcm  200.dcm  229.dcm  257.dcm  4.dcm    68.dcm  96.dcm\r\n",
      "118.dcm  146.dcm  174.dcm  201.dcm  23.dcm   258.dcm  40.dcm   69.dcm  97.dcm\r\n",
      "119.dcm  147.dcm  175.dcm  202.dcm  230.dcm  259.dcm  41.dcm   7.dcm   98.dcm\r\n",
      "12.dcm\t 148.dcm  176.dcm  203.dcm  231.dcm  26.dcm   42.dcm   70.dcm  99.dcm\r\n",
      "120.dcm  149.dcm  177.dcm  204.dcm  232.dcm  260.dcm  43.dcm   71.dcm\r\n",
      "121.dcm  15.dcm   178.dcm  205.dcm  233.dcm  261.dcm  44.dcm   72.dcm\r\n",
      "122.dcm  150.dcm  179.dcm  206.dcm  234.dcm  262.dcm  45.dcm   73.dcm\r\n",
      "123.dcm  151.dcm  18.dcm   207.dcm  235.dcm  263.dcm  46.dcm   74.dcm\r\n",
      "124.dcm  152.dcm  180.dcm  208.dcm  236.dcm  264.dcm  47.dcm   75.dcm\r\n",
      "125.dcm  153.dcm  181.dcm  209.dcm  237.dcm  265.dcm  48.dcm   76.dcm\r\n",
      "126.dcm  154.dcm  182.dcm  21.dcm   238.dcm  266.dcm  49.dcm   77.dcm\r\n"
     ]
    }
   ],
   "source": [
    "!ls ../input/rs*/tra*ges/*10051"
   ]
  },
  {
   "cell_type": "code",
   "execution_count": 12,
   "id": "b694fc92",
   "metadata": {
    "execution": {
     "iopub.execute_input": "2022-09-22T12:47:54.508280Z",
     "iopub.status.busy": "2022-09-22T12:47:54.507954Z",
     "iopub.status.idle": "2022-09-22T12:47:54.526393Z",
     "shell.execute_reply": "2022-09-22T12:47:54.524714Z"
    },
    "papermill": {
     "duration": 0.03909,
     "end_time": "2022-09-22T12:47:54.529050",
     "exception": false,
     "start_time": "2022-09-22T12:47:54.489960",
     "status": "completed"
    },
    "tags": []
   },
   "outputs": [
    {
     "name": "stdout",
     "output_type": "stream",
     "text": [
      "Dataset.file_meta -------------------------------\n",
      "(0002, 0001) File Meta Information Version       OB: b'\\x00\\x01'\n",
      "(0002, 0002) Media Storage SOP Class UID         UI: CT Image Storage\n",
      "(0002, 0003) Media Storage SOP Instance UID      UI: 1.2.826.0.1.3680043.10051.1.142\n",
      "(0002, 0010) Transfer Syntax UID                 UI: Explicit VR Little Endian\n",
      "(0002, 0012) Implementation Class UID            UI: 1.2.40.0.13.1.1.1\n",
      "(0002, 0013) Implementation Version Name         SH: 'PYDICOM 2.3.0'\n",
      "-------------------------------------------------\n",
      "(0008, 0018) SOP Instance UID                    UI: 1.2.826.0.1.3680043.10051.1.142\n",
      "(0008, 0023) Content Date                        DA: '20220727'\n",
      "(0008, 0033) Content Time                        TM: '183727.596747'\n",
      "(0010, 0010) Patient's Name                      PN: '10051'\n",
      "(0010, 0020) Patient ID                          LO: '10051'\n",
      "(0018, 0050) Slice Thickness                     DS: '0.625'\n",
      "(0020, 000d) Study Instance UID                  UI: 1.2.826.0.1.3680043.10051\n",
      "(0020, 000e) Series Instance UID                 UI: 1.2.826.0.1.3680043.10051.1\n",
      "(0020, 0013) Instance Number                     IS: '142'\n",
      "(0020, 0032) Image Position (Patient)            DS: [-75.600, -39.900, -110.375]\n",
      "(0020, 0037) Image Orientation (Patient)         DS: [1.000000, 0.000000, 0.000000, 0.000000, 1.000000, 0.000000]\n",
      "(0028, 0002) Samples per Pixel                   US: 1\n",
      "(0028, 0004) Photometric Interpretation          CS: 'MONOCHROME2'\n",
      "(0028, 0010) Rows                                US: 512\n",
      "(0028, 0011) Columns                             US: 512\n",
      "(0028, 0030) Pixel Spacing                       DS: [0.253906, 0.253906]\n",
      "(0028, 0100) Bits Allocated                      US: 16\n",
      "(0028, 0101) Bits Stored                         US: 16\n",
      "(0028, 0102) High Bit                            US: 15\n",
      "(0028, 0103) Pixel Representation                US: 1\n",
      "(0028, 1050) Window Center                       DS: '400.0'\n",
      "(0028, 1051) Window Width                        DS: '2500.0'\n",
      "(0028, 1052) Rescale Intercept                   DS: '-1024.0'\n",
      "(0028, 1053) Rescale Slope                       DS: '1.0'\n",
      "(7fe0, 0010) Pixel Data                          OW: Array of 524288 elements\n"
     ]
    }
   ],
   "source": [
    "# path of train images\n",
    "path_ti = '/kaggle/input/rsna-2022-cervical-spine-fracture-detection/train_images'\n",
    "# some id\n",
    "id1 = '1.2.826.0.1.3680043.10051'\n",
    "# some slice of that id\n",
    "slice_number = 142\n",
    "# Read the file of that id and that slice number\n",
    "dicom_file = pydicom.dcmread(path_ti + '/' + id1 + '/' + str(slice_number) + '.dcm')\n",
    "# print dicome_file\n",
    "print(dicom_file)"
   ]
  },
  {
   "cell_type": "markdown",
   "id": "46239031",
   "metadata": {
    "papermill": {
     "duration": 0.016514,
     "end_time": "2022-09-22T12:47:54.563117",
     "exception": false,
     "start_time": "2022-09-22T12:47:54.546603",
     "status": "completed"
    },
    "tags": []
   },
   "source": [
    "#### We can plot the image from the pixel_array field like this :"
   ]
  },
  {
   "cell_type": "code",
   "execution_count": 13,
   "id": "f454d147",
   "metadata": {
    "execution": {
     "iopub.execute_input": "2022-09-22T12:47:54.598665Z",
     "iopub.status.busy": "2022-09-22T12:47:54.597787Z",
     "iopub.status.idle": "2022-09-22T12:47:54.604573Z",
     "shell.execute_reply": "2022-09-22T12:47:54.603183Z"
    },
    "papermill": {
     "duration": 0.027181,
     "end_time": "2022-09-22T12:47:54.607070",
     "exception": false,
     "start_time": "2022-09-22T12:47:54.579889",
     "status": "completed"
    },
    "tags": []
   },
   "outputs": [
    {
     "name": "stdout",
     "output_type": "stream",
     "text": [
      "sahpe of array image :  (512, 512)\n"
     ]
    }
   ],
   "source": [
    "# get the image as an array\n",
    "dicom_file_arr = dicom_file.pixel_array\n",
    "print('sahpe of array image : ', dicom_file_arr.shape)\n",
    "#dicom_file_arr[0][0]"
   ]
  },
  {
   "cell_type": "markdown",
   "id": "196c6e1f",
   "metadata": {
    "papermill": {
     "duration": 0.016632,
     "end_time": "2022-09-22T12:47:54.641216",
     "exception": false,
     "start_time": "2022-09-22T12:47:54.624584",
     "status": "completed"
    },
    "tags": []
   },
   "source": [
    "##### Plot the image and the bounding boxe :"
   ]
  },
  {
   "cell_type": "code",
   "execution_count": 14,
   "id": "8c77e5af",
   "metadata": {
    "execution": {
     "iopub.execute_input": "2022-09-22T12:47:54.677058Z",
     "iopub.status.busy": "2022-09-22T12:47:54.676132Z",
     "iopub.status.idle": "2022-09-22T12:47:54.688408Z",
     "shell.execute_reply": "2022-09-22T12:47:54.687363Z"
    },
    "papermill": {
     "duration": 0.032482,
     "end_time": "2022-09-22T12:47:54.690413",
     "exception": false,
     "start_time": "2022-09-22T12:47:54.657931",
     "status": "completed"
    },
    "tags": []
   },
   "outputs": [
    {
     "name": "stdout",
     "output_type": "stream",
     "text": [
      "id1 in ids_bb\n"
     ]
    }
   ],
   "source": [
    "# get bounding box for id1 and slice_number as a list\n",
    "if id1 in ids_bb:\n",
    "    print(\"id1 in ids_bb\")\n",
    "bounding_boxe = train_bb.loc[(train_bb.StudyInstanceUID == id1) & (train_bb.slice_number == slice_number), :]\n",
    "bounding_boxe = list(bounding_boxe.values[0])\n",
    "x = bounding_boxe[1] # x-coordinate of the top left of the boxe\n",
    "y = bounding_boxe[2] # y-coordinate of the top left of the boxe\n",
    "w = bounding_boxe[3] # width of the boxe\n",
    "h = bounding_boxe[4] # height of the boxe\n",
    "# Create a Rectangle patch to add later to the figure\n",
    "rect = patches.Rectangle((x, y), w, h, linewidth=2, edgecolor='r', facecolor=\"none\") # (x, y), width, height\n",
    "\n",
    "#Define figure and axes\n",
    "#fig, ax = plt.subplots(1,1, figsize=(10,10))\n",
    "# add the image\n",
    "#ax.imshow(dicom_file_arr, cmap=plt.cm.bone)\n",
    "# Add the boxe\n",
    "#ax.add_patch(rect)\n",
    "# diplay\n",
    "#plt.show()\n"
   ]
  },
  {
   "cell_type": "markdown",
   "id": "4d48b5fc",
   "metadata": {
    "papermill": {
     "duration": 0.016704,
     "end_time": "2022-09-22T12:47:54.724232",
     "exception": false,
     "start_time": "2022-09-22T12:47:54.707528",
     "status": "completed"
    },
    "tags": []
   },
   "source": [
    "##### From train.csv we can get fractured bones for that id :"
   ]
  },
  {
   "cell_type": "code",
   "execution_count": 15,
   "id": "b1940228",
   "metadata": {
    "execution": {
     "iopub.execute_input": "2022-09-22T12:47:54.759780Z",
     "iopub.status.busy": "2022-09-22T12:47:54.758954Z",
     "iopub.status.idle": "2022-09-22T12:47:54.767460Z",
     "shell.execute_reply": "2022-09-22T12:47:54.766467Z"
    },
    "papermill": {
     "duration": 0.028218,
     "end_time": "2022-09-22T12:47:54.769391",
     "exception": false,
     "start_time": "2022-09-22T12:47:54.741173",
     "status": "completed"
    },
    "tags": []
   },
   "outputs": [
    {
     "data": {
      "text/plain": [
       "\"['C4']\""
      ]
     },
     "execution_count": 15,
     "metadata": {},
     "output_type": "execute_result"
    }
   ],
   "source": [
    "str(get_fractured_bones(id1))"
   ]
  },
  {
   "cell_type": "markdown",
   "id": "01f2cee2",
   "metadata": {
    "papermill": {
     "duration": 0.016716,
     "end_time": "2022-09-22T12:47:54.803179",
     "exception": false,
     "start_time": "2022-09-22T12:47:54.786463",
     "status": "completed"
    },
    "tags": []
   },
   "source": [
    "##### We have only one fractured bone (C4) but we have 16 bounding boxes !! :"
   ]
  },
  {
   "cell_type": "code",
   "execution_count": 16,
   "id": "79eb5699",
   "metadata": {
    "execution": {
     "iopub.execute_input": "2022-09-22T12:47:54.838694Z",
     "iopub.status.busy": "2022-09-22T12:47:54.838357Z",
     "iopub.status.idle": "2022-09-22T12:47:55.806696Z",
     "shell.execute_reply": "2022-09-22T12:47:55.805472Z"
    },
    "papermill": {
     "duration": 0.989164,
     "end_time": "2022-09-22T12:47:55.809210",
     "exception": false,
     "start_time": "2022-09-22T12:47:54.820046",
     "status": "completed"
    },
    "tags": []
   },
   "outputs": [
    {
     "name": "stdout",
     "output_type": "stream",
     "text": [
      "row_id,StudyInstanceUID,prediction_type\r\n",
      "1.2.826.0.1.3680043.10197_C1,1.2.826.0.1.3680043.10197,C1\r\n",
      "1.2.826.0.1.3680043.10454_C1,1.2.826.0.1.3680043.10454,C1\r\n",
      "1.2.826.0.1.3680043.10690_C1,1.2.826.0.1.3680043.10690,C1\r\n"
     ]
    }
   ],
   "source": [
    "!head ../input/rs*/test.csv"
   ]
  },
  {
   "cell_type": "code",
   "execution_count": 17,
   "id": "1ba0254b",
   "metadata": {
    "execution": {
     "iopub.execute_input": "2022-09-22T12:47:55.852650Z",
     "iopub.status.busy": "2022-09-22T12:47:55.850631Z",
     "iopub.status.idle": "2022-09-22T12:47:55.888522Z",
     "shell.execute_reply": "2022-09-22T12:47:55.887174Z"
    },
    "papermill": {
     "duration": 0.066973,
     "end_time": "2022-09-22T12:47:55.894071",
     "exception": false,
     "start_time": "2022-09-22T12:47:55.827098",
     "status": "completed"
    },
    "tags": []
   },
   "outputs": [
    {
     "data": {
      "text/html": [
       "<div>\n",
       "<style scoped>\n",
       "    .dataframe tbody tr th:only-of-type {\n",
       "        vertical-align: middle;\n",
       "    }\n",
       "\n",
       "    .dataframe tbody tr th {\n",
       "        vertical-align: top;\n",
       "    }\n",
       "\n",
       "    .dataframe thead th {\n",
       "        text-align: right;\n",
       "    }\n",
       "</style>\n",
       "<table border=\"1\" class=\"dataframe\">\n",
       "  <thead>\n",
       "    <tr style=\"text-align: right;\">\n",
       "      <th></th>\n",
       "      <th>StudyInstanceUID</th>\n",
       "      <th>x</th>\n",
       "      <th>y</th>\n",
       "      <th>width</th>\n",
       "      <th>height</th>\n",
       "      <th>slice_number</th>\n",
       "    </tr>\n",
       "  </thead>\n",
       "  <tbody>\n",
       "    <tr>\n",
       "      <th>0</th>\n",
       "      <td>1.2.826.0.1.3680043.10051</td>\n",
       "      <td>219.27715</td>\n",
       "      <td>216.71419</td>\n",
       "      <td>17.30440</td>\n",
       "      <td>20.38517</td>\n",
       "      <td>133</td>\n",
       "    </tr>\n",
       "    <tr>\n",
       "      <th>1</th>\n",
       "      <td>1.2.826.0.1.3680043.10051</td>\n",
       "      <td>221.56460</td>\n",
       "      <td>216.71419</td>\n",
       "      <td>17.87844</td>\n",
       "      <td>25.24362</td>\n",
       "      <td>134</td>\n",
       "    </tr>\n",
       "    <tr>\n",
       "      <th>2</th>\n",
       "      <td>1.2.826.0.1.3680043.10051</td>\n",
       "      <td>216.82151</td>\n",
       "      <td>221.62546</td>\n",
       "      <td>27.00959</td>\n",
       "      <td>26.37454</td>\n",
       "      <td>135</td>\n",
       "    </tr>\n",
       "    <tr>\n",
       "      <th>3</th>\n",
       "      <td>1.2.826.0.1.3680043.10051</td>\n",
       "      <td>214.49455</td>\n",
       "      <td>215.48637</td>\n",
       "      <td>27.92726</td>\n",
       "      <td>37.51363</td>\n",
       "      <td>136</td>\n",
       "    </tr>\n",
       "    <tr>\n",
       "      <th>4</th>\n",
       "      <td>1.2.826.0.1.3680043.10051</td>\n",
       "      <td>214.00000</td>\n",
       "      <td>215.48637</td>\n",
       "      <td>27.00000</td>\n",
       "      <td>43.51363</td>\n",
       "      <td>137</td>\n",
       "    </tr>\n",
       "    <tr>\n",
       "      <th>5</th>\n",
       "      <td>1.2.826.0.1.3680043.10051</td>\n",
       "      <td>213.56364</td>\n",
       "      <td>216.71419</td>\n",
       "      <td>25.13455</td>\n",
       "      <td>47.92717</td>\n",
       "      <td>138</td>\n",
       "    </tr>\n",
       "    <tr>\n",
       "      <th>6</th>\n",
       "      <td>1.2.826.0.1.3680043.10051</td>\n",
       "      <td>209.00000</td>\n",
       "      <td>214.57591</td>\n",
       "      <td>36.06131</td>\n",
       "      <td>51.56834</td>\n",
       "      <td>139</td>\n",
       "    </tr>\n",
       "    <tr>\n",
       "      <th>7</th>\n",
       "      <td>1.2.826.0.1.3680043.10051</td>\n",
       "      <td>204.25455</td>\n",
       "      <td>212.24727</td>\n",
       "      <td>47.47636</td>\n",
       "      <td>57.71635</td>\n",
       "      <td>140</td>\n",
       "    </tr>\n",
       "    <tr>\n",
       "      <th>8</th>\n",
       "      <td>1.2.826.0.1.3680043.10051</td>\n",
       "      <td>205.00000</td>\n",
       "      <td>213.87342</td>\n",
       "      <td>45.00000</td>\n",
       "      <td>59.12658</td>\n",
       "      <td>141</td>\n",
       "    </tr>\n",
       "    <tr>\n",
       "      <th>9</th>\n",
       "      <td>1.2.826.0.1.3680043.10051</td>\n",
       "      <td>205.18545</td>\n",
       "      <td>214.76814</td>\n",
       "      <td>42.89892</td>\n",
       "      <td>63.43364</td>\n",
       "      <td>142</td>\n",
       "    </tr>\n",
       "    <tr>\n",
       "      <th>10</th>\n",
       "      <td>1.2.826.0.1.3680043.10051</td>\n",
       "      <td>203.00000</td>\n",
       "      <td>217.00000</td>\n",
       "      <td>42.00000</td>\n",
       "      <td>62.07843</td>\n",
       "      <td>143</td>\n",
       "    </tr>\n",
       "    <tr>\n",
       "      <th>11</th>\n",
       "      <td>1.2.826.0.1.3680043.10051</td>\n",
       "      <td>201.00000</td>\n",
       "      <td>219.00000</td>\n",
       "      <td>41.00000</td>\n",
       "      <td>58.00000</td>\n",
       "      <td>144</td>\n",
       "    </tr>\n",
       "    <tr>\n",
       "      <th>12</th>\n",
       "      <td>1.2.826.0.1.3680043.10051</td>\n",
       "      <td>199.60000</td>\n",
       "      <td>220.62545</td>\n",
       "      <td>40.02908</td>\n",
       "      <td>56.78546</td>\n",
       "      <td>145</td>\n",
       "    </tr>\n",
       "    <tr>\n",
       "      <th>13</th>\n",
       "      <td>1.2.826.0.1.3680043.10051</td>\n",
       "      <td>195.00000</td>\n",
       "      <td>221.00000</td>\n",
       "      <td>51.00000</td>\n",
       "      <td>58.00000</td>\n",
       "      <td>146</td>\n",
       "    </tr>\n",
       "    <tr>\n",
       "      <th>14</th>\n",
       "      <td>1.2.826.0.1.3680043.10051</td>\n",
       "      <td>191.22182</td>\n",
       "      <td>221.43460</td>\n",
       "      <td>61.44000</td>\n",
       "      <td>60.63086</td>\n",
       "      <td>147</td>\n",
       "    </tr>\n",
       "    <tr>\n",
       "      <th>15</th>\n",
       "      <td>1.2.826.0.1.3680043.10051</td>\n",
       "      <td>200.16292</td>\n",
       "      <td>232.42136</td>\n",
       "      <td>23.32854</td>\n",
       "      <td>31.92325</td>\n",
       "      <td>148</td>\n",
       "    </tr>\n",
       "  </tbody>\n",
       "</table>\n",
       "</div>"
      ],
      "text/plain": [
       "             StudyInstanceUID          x          y     width    height  \\\n",
       "0   1.2.826.0.1.3680043.10051  219.27715  216.71419  17.30440  20.38517   \n",
       "1   1.2.826.0.1.3680043.10051  221.56460  216.71419  17.87844  25.24362   \n",
       "2   1.2.826.0.1.3680043.10051  216.82151  221.62546  27.00959  26.37454   \n",
       "3   1.2.826.0.1.3680043.10051  214.49455  215.48637  27.92726  37.51363   \n",
       "4   1.2.826.0.1.3680043.10051  214.00000  215.48637  27.00000  43.51363   \n",
       "5   1.2.826.0.1.3680043.10051  213.56364  216.71419  25.13455  47.92717   \n",
       "6   1.2.826.0.1.3680043.10051  209.00000  214.57591  36.06131  51.56834   \n",
       "7   1.2.826.0.1.3680043.10051  204.25455  212.24727  47.47636  57.71635   \n",
       "8   1.2.826.0.1.3680043.10051  205.00000  213.87342  45.00000  59.12658   \n",
       "9   1.2.826.0.1.3680043.10051  205.18545  214.76814  42.89892  63.43364   \n",
       "10  1.2.826.0.1.3680043.10051  203.00000  217.00000  42.00000  62.07843   \n",
       "11  1.2.826.0.1.3680043.10051  201.00000  219.00000  41.00000  58.00000   \n",
       "12  1.2.826.0.1.3680043.10051  199.60000  220.62545  40.02908  56.78546   \n",
       "13  1.2.826.0.1.3680043.10051  195.00000  221.00000  51.00000  58.00000   \n",
       "14  1.2.826.0.1.3680043.10051  191.22182  221.43460  61.44000  60.63086   \n",
       "15  1.2.826.0.1.3680043.10051  200.16292  232.42136  23.32854  31.92325   \n",
       "\n",
       "    slice_number  \n",
       "0            133  \n",
       "1            134  \n",
       "2            135  \n",
       "3            136  \n",
       "4            137  \n",
       "5            138  \n",
       "6            139  \n",
       "7            140  \n",
       "8            141  \n",
       "9            142  \n",
       "10           143  \n",
       "11           144  \n",
       "12           145  \n",
       "13           146  \n",
       "14           147  \n",
       "15           148  "
      ]
     },
     "execution_count": 17,
     "metadata": {},
     "output_type": "execute_result"
    }
   ],
   "source": [
    "bounding_boxes_id1_df = train_bb.loc[(train_bb.StudyInstanceUID == id1) , :]\n",
    "bounding_boxes_id1_df"
   ]
  },
  {
   "cell_type": "markdown",
   "id": "0914585b",
   "metadata": {
    "papermill": {
     "duration": 0.02698,
     "end_time": "2022-09-22T12:47:55.961681",
     "exception": false,
     "start_time": "2022-09-22T12:47:55.934701",
     "status": "completed"
    },
    "tags": []
   },
   "source": [
    "##### So let's plot all of these, but by defining a function that we can use later :"
   ]
  },
  {
   "cell_type": "code",
   "execution_count": 18,
   "id": "4adf1634",
   "metadata": {
    "execution": {
     "iopub.execute_input": "2022-09-22T12:47:56.015818Z",
     "iopub.status.busy": "2022-09-22T12:47:56.015366Z",
     "iopub.status.idle": "2022-09-22T12:47:56.031015Z",
     "shell.execute_reply": "2022-09-22T12:47:56.030015Z"
    },
    "papermill": {
     "duration": 0.04586,
     "end_time": "2022-09-22T12:47:56.033711",
     "exception": false,
     "start_time": "2022-09-22T12:47:55.987851",
     "status": "completed"
    },
    "tags": []
   },
   "outputs": [],
   "source": [
    "def plot_16_first_slices(patient_id, MAX_PLOTS = 16, plot_size = (20, 20)):\n",
    "    \n",
    "    # get bounding boxes for that id (it may be empty !)\n",
    "    bounding_boxes_df = train_bb.loc[(train_bb.StudyInstanceUID == patient_id) , :].head(MAX_PLOTS).reset_index() # reset_index to get indexes starting from 0\n",
    "    \n",
    "    # number of slices\n",
    "    n = len(bounding_boxes_df)\n",
    "    \n",
    "    if n == 0:\n",
    "        return\n",
    "    \n",
    "    # number of rows and columns for the fig\n",
    "    n_rows = int(np.sqrt(n))\n",
    "    n_cols = n // n_rows\n",
    "    \n",
    "    if n_rows * n_cols < n:\n",
    "        n_cols = n_cols + 1\n",
    "        \n",
    "    # define the subplots\n",
    "    fig, ax = plt.subplots(n_rows, n_cols, figsize=plot_size)\n",
    "    fig.suptitle('ID : '+ patient_id + ' - Fractured bones : ' + str(get_fractured_bones(patient_id)), fontsize=16)\n",
    "    \n",
    "    \n",
    "\n",
    "    for row_index,row in bounding_boxes_df.iterrows():\n",
    "        # Create a Rectangle patch to add later to the figure\n",
    "        rect = patches.Rectangle((row.x, row.y), row.width, row.height, linewidth=2, edgecolor='r', facecolor=\"none\") # (x, y), width, height\n",
    "        # read the image\n",
    "        dicom_file = pydicom.dcmread(path_ti + '/' + row.StudyInstanceUID + '/' + str(row.slice_number) + '.dcm')\n",
    "        dicom_file_arr = dicom_file.pixel_array\n",
    "        # add the image\n",
    "        i = row_index // n_cols\n",
    "        j = row_index % n_cols\n",
    "        ax[i, j].imshow(dicom_file_arr, cmap=plt.cm.bone)\n",
    "        # Add the boxe\n",
    "        ax[i, j].add_patch(rect)\n",
    "        #title\n",
    "        ax[i, j].set_title('Slice : {}'.format(str(row.slice_number)), fontsize = 14)\n",
    "        \n",
    "    # diplay\n",
    "    plt.show()"
   ]
  },
  {
   "cell_type": "code",
   "execution_count": 19,
   "id": "d0b1e6e4",
   "metadata": {
    "execution": {
     "iopub.execute_input": "2022-09-22T12:47:56.087899Z",
     "iopub.status.busy": "2022-09-22T12:47:56.087509Z",
     "iopub.status.idle": "2022-09-22T12:47:56.091651Z",
     "shell.execute_reply": "2022-09-22T12:47:56.090778Z"
    },
    "papermill": {
     "duration": 0.035908,
     "end_time": "2022-09-22T12:47:56.095917",
     "exception": false,
     "start_time": "2022-09-22T12:47:56.060009",
     "status": "completed"
    },
    "tags": []
   },
   "outputs": [],
   "source": [
    "# plot for id1\n",
    "#plot_16_first_slices(id1)"
   ]
  },
  {
   "cell_type": "code",
   "execution_count": 20,
   "id": "823edddd",
   "metadata": {
    "execution": {
     "iopub.execute_input": "2022-09-22T12:47:56.154960Z",
     "iopub.status.busy": "2022-09-22T12:47:56.154519Z",
     "iopub.status.idle": "2022-09-22T12:47:56.160117Z",
     "shell.execute_reply": "2022-09-22T12:47:56.158649Z"
    },
    "papermill": {
     "duration": 0.043856,
     "end_time": "2022-09-22T12:47:56.164936",
     "exception": false,
     "start_time": "2022-09-22T12:47:56.121080",
     "status": "completed"
    },
    "tags": []
   },
   "outputs": [],
   "source": [
    "# plot for another id where fractured bones are C4 and C5\n",
    "id2 = '1.2.826.0.1.3680043.9940'\n",
    "#plot_16_first_slices(id2)"
   ]
  },
  {
   "cell_type": "markdown",
   "id": "9d0c6ffa",
   "metadata": {
    "papermill": {
     "duration": 0.030444,
     "end_time": "2022-09-22T12:47:56.233003",
     "exception": false,
     "start_time": "2022-09-22T12:47:56.202559",
     "status": "completed"
    },
    "tags": []
   },
   "source": [
    "##### Now, what about segmentation ?<br>\n",
    "##### These files are very special as they contain many images. We can get data from them as array like this :"
   ]
  },
  {
   "cell_type": "code",
   "execution_count": 21,
   "id": "890a58a0",
   "metadata": {
    "execution": {
     "iopub.execute_input": "2022-09-22T12:47:56.311867Z",
     "iopub.status.busy": "2022-09-22T12:47:56.311460Z",
     "iopub.status.idle": "2022-09-22T12:47:57.946150Z",
     "shell.execute_reply": "2022-09-22T12:47:57.945121Z"
    },
    "papermill": {
     "duration": 1.675464,
     "end_time": "2022-09-22T12:47:57.948516",
     "exception": false,
     "start_time": "2022-09-22T12:47:56.273052",
     "status": "completed"
    },
    "tags": []
   },
   "outputs": [],
   "source": [
    "path = '../input/rsna-2022-cervical-spine-fracture-detection/segmentations/'\n",
    "id3 = '1.2.826.0.1.3680043.10633'\n",
    "segmentations = nib.load( path + id3 + '.nii').get_fdata()"
   ]
  },
  {
   "cell_type": "code",
   "execution_count": 22,
   "id": "a3a27423",
   "metadata": {
    "execution": {
     "iopub.execute_input": "2022-09-22T12:47:57.986473Z",
     "iopub.status.busy": "2022-09-22T12:47:57.985615Z",
     "iopub.status.idle": "2022-09-22T12:47:57.992243Z",
     "shell.execute_reply": "2022-09-22T12:47:57.991244Z"
    },
    "papermill": {
     "duration": 0.02733,
     "end_time": "2022-09-22T12:47:57.994355",
     "exception": false,
     "start_time": "2022-09-22T12:47:57.967025",
     "status": "completed"
    },
    "tags": []
   },
   "outputs": [
    {
     "data": {
      "text/plain": [
       "(512, 512, 429)"
      ]
     },
     "execution_count": 22,
     "metadata": {},
     "output_type": "execute_result"
    }
   ],
   "source": [
    "segmentations.shape"
   ]
  },
  {
   "cell_type": "markdown",
   "id": "1da80e6e",
   "metadata": {
    "papermill": {
     "duration": 0.016983,
     "end_time": "2022-09-22T12:47:58.028515",
     "exception": false,
     "start_time": "2022-09-22T12:47:58.011532",
     "status": "completed"
    },
    "tags": []
   },
   "source": [
    "##### But to get the right orientation of the image we must do this transformation :\n",
    "[See this discution of Harshit Sheoran.](https://www.kaggle.com/competitions/rsna-2022-cervical-spine-fracture-detection/discussion/340612)"
   ]
  },
  {
   "cell_type": "code",
   "execution_count": 23,
   "id": "535ea9d1",
   "metadata": {
    "execution": {
     "iopub.execute_input": "2022-09-22T12:47:58.064364Z",
     "iopub.status.busy": "2022-09-22T12:47:58.064025Z",
     "iopub.status.idle": "2022-09-22T12:47:58.069928Z",
     "shell.execute_reply": "2022-09-22T12:47:58.068985Z"
    },
    "papermill": {
     "duration": 0.026587,
     "end_time": "2022-09-22T12:47:58.072317",
     "exception": false,
     "start_time": "2022-09-22T12:47:58.045730",
     "status": "completed"
    },
    "tags": []
   },
   "outputs": [
    {
     "name": "stdout",
     "output_type": "stream",
     "text": [
      "(429, 512, 512)\n"
     ]
    }
   ],
   "source": [
    "segmentations = segmentations[:, ::-1, ::-1] # invserse orientation of dim 1 and 2\n",
    "\n",
    "segmentations = segmentations.transpose(2, 1, 0) # then switch dim 0 with dim 2\n",
    "\n",
    "print(segmentations.shape)"
   ]
  },
  {
   "cell_type": "markdown",
   "id": "9a4a239a",
   "metadata": {
    "papermill": {
     "duration": 0.01703,
     "end_time": "2022-09-22T12:47:58.106735",
     "exception": false,
     "start_time": "2022-09-22T12:47:58.089705",
     "status": "completed"
    },
    "tags": []
   },
   "source": [
    "[](http://)"
   ]
  },
  {
   "cell_type": "code",
   "execution_count": 24,
   "id": "a8770979",
   "metadata": {
    "execution": {
     "iopub.execute_input": "2022-09-22T12:47:58.143229Z",
     "iopub.status.busy": "2022-09-22T12:47:58.142563Z",
     "iopub.status.idle": "2022-09-22T12:47:58.147367Z",
     "shell.execute_reply": "2022-09-22T12:47:58.145874Z"
    },
    "papermill": {
     "duration": 0.025262,
     "end_time": "2022-09-22T12:47:58.149331",
     "exception": false,
     "start_time": "2022-09-22T12:47:58.124069",
     "status": "completed"
    },
    "tags": []
   },
   "outputs": [],
   "source": [
    "#fig, ax = plt.subplots(1,1, figsize=(8,8))\n",
    "#ax.imshow(segmentations[0], cmap=plt.cm.bone)\n",
    "#plt.show()"
   ]
  },
  {
   "cell_type": "markdown",
   "id": "d86ea60d",
   "metadata": {
    "execution": {
     "iopub.execute_input": "2022-09-09T14:21:17.08992Z",
     "iopub.status.busy": "2022-09-09T14:21:17.087063Z",
     "iopub.status.idle": "2022-09-09T14:21:17.099795Z",
     "shell.execute_reply": "2022-09-09T14:21:17.098516Z",
     "shell.execute_reply.started": "2022-09-09T14:21:17.089871Z"
    },
    "papermill": {
     "duration": 0.017183,
     "end_time": "2022-09-22T12:47:58.183625",
     "exception": false,
     "start_time": "2022-09-22T12:47:58.166442",
     "status": "completed"
    },
    "tags": []
   },
   "source": [
    "##### There is noting in this image ! \n",
    "##### and we can see that many of the first images contains nothing\n",
    "##### Let's plot other ones at random begining from position 200:"
   ]
  },
  {
   "cell_type": "code",
   "execution_count": 25,
   "id": "6b65b620",
   "metadata": {
    "execution": {
     "iopub.execute_input": "2022-09-22T12:47:58.220406Z",
     "iopub.status.busy": "2022-09-22T12:47:58.219416Z",
     "iopub.status.idle": "2022-09-22T12:47:58.224893Z",
     "shell.execute_reply": "2022-09-22T12:47:58.223780Z"
    },
    "papermill": {
     "duration": 0.026365,
     "end_time": "2022-09-22T12:47:58.227394",
     "exception": false,
     "start_time": "2022-09-22T12:47:58.201029",
     "status": "completed"
    },
    "tags": []
   },
   "outputs": [],
   "source": [
    "seg = [i for i in range(200, 300)]  #random.sample(range(200,300), 16)\n",
    "\n",
    "#fig, ax = plt.subplots(4,4, figsize=(20,20))\n",
    "\n",
    "for i in range(16):\n",
    "    r = i // 4\n",
    "    c = i % 4\n",
    "    #ax[r, c].imshow(segmentations[seg[i],:,:], cmap=plt.cm.bone)\n",
    "    \n",
    "#plt.show()"
   ]
  },
  {
   "cell_type": "markdown",
   "id": "29b56931",
   "metadata": {
    "papermill": {
     "duration": 0.01715,
     "end_time": "2022-09-22T12:47:58.261960",
     "exception": false,
     "start_time": "2022-09-22T12:47:58.244810",
     "status": "completed"
    },
    "tags": []
   },
   "source": [
    "#### What we'll see if we sum up all these sementations :"
   ]
  },
  {
   "cell_type": "code",
   "execution_count": 26,
   "id": "7ce905fa",
   "metadata": {
    "execution": {
     "iopub.execute_input": "2022-09-22T12:47:58.299474Z",
     "iopub.status.busy": "2022-09-22T12:47:58.298271Z",
     "iopub.status.idle": "2022-09-22T12:47:58.476546Z",
     "shell.execute_reply": "2022-09-22T12:47:58.475541Z"
    },
    "papermill": {
     "duration": 0.199515,
     "end_time": "2022-09-22T12:47:58.479063",
     "exception": false,
     "start_time": "2022-09-22T12:47:58.279548",
     "status": "completed"
    },
    "tags": []
   },
   "outputs": [],
   "source": [
    "temp = segmentations[0,:,:]\n",
    "for i in range(segmentations.shape[0]):\n",
    "    temp = temp + segmentations[i,:,:]\n",
    "\n",
    "\n",
    "#fig, ax = plt.subplots(1,1, figsize=(10,10))\n",
    "#ax.imshow(temp, cmap=plt.cm.bone)\n",
    "\n",
    "\n",
    "#plt.show()"
   ]
  },
  {
   "cell_type": "markdown",
   "id": "06547e69",
   "metadata": {
    "papermill": {
     "duration": 0.017407,
     "end_time": "2022-09-22T12:47:58.514697",
     "exception": false,
     "start_time": "2022-09-22T12:47:58.497290",
     "status": "completed"
    },
    "tags": []
   },
   "source": [
    "##### Let's define a function so we can try another ids"
   ]
  },
  {
   "cell_type": "code",
   "execution_count": 27,
   "id": "96c3abd3",
   "metadata": {
    "execution": {
     "iopub.execute_input": "2022-09-22T12:47:58.551006Z",
     "iopub.status.busy": "2022-09-22T12:47:58.550677Z",
     "iopub.status.idle": "2022-09-22T12:47:58.557804Z",
     "shell.execute_reply": "2022-09-22T12:47:58.556785Z"
    },
    "papermill": {
     "duration": 0.027983,
     "end_time": "2022-09-22T12:47:58.560156",
     "exception": false,
     "start_time": "2022-09-22T12:47:58.532173",
     "status": "completed"
    },
    "tags": []
   },
   "outputs": [],
   "source": [
    "def plot_nii_files(patient_id, seg_order = None, plot = True):\n",
    "    path = '../input/rsna-2022-cervical-spine-fracture-detection/segmentations/'\n",
    "    segmentations = nib.load( path + patient_id + '.nii').get_fdata()[:, ::-1, ::-1].transpose(2, 1, 0)\n",
    "    \n",
    "    if seg_order == None:\n",
    "        img = segmentations[0,:,:]\n",
    "        for i in range(segmentations.shape[0]):\n",
    "            img = img + segmentations[i,:,:]\n",
    "    else:\n",
    "        img = segmentations[seg_order,:,:]\n",
    "        \n",
    "    if plot :\n",
    "        # plot the image\n",
    "        fig, ax = plt.subplots(1,1, figsize=(8,8))\n",
    "        ax.imshow(img, cmap=plt.cm.bone)\n",
    "        plt.show()\n",
    "    else:\n",
    "        return img\n",
    "    \n",
    "    "
   ]
  },
  {
   "cell_type": "code",
   "execution_count": 28,
   "id": "b4050ae6",
   "metadata": {
    "execution": {
     "iopub.execute_input": "2022-09-22T12:47:58.595591Z",
     "iopub.status.busy": "2022-09-22T12:47:58.595293Z",
     "iopub.status.idle": "2022-09-22T12:47:58.600458Z",
     "shell.execute_reply": "2022-09-22T12:47:58.599658Z"
    },
    "papermill": {
     "duration": 0.025067,
     "end_time": "2022-09-22T12:47:58.602413",
     "exception": false,
     "start_time": "2022-09-22T12:47:58.577346",
     "status": "completed"
    },
    "tags": []
   },
   "outputs": [],
   "source": [
    "id4 = '1.2.826.0.1.3680043.19333'\n",
    "#plot_nii_files(id4)"
   ]
  },
  {
   "cell_type": "markdown",
   "id": "798df3e9",
   "metadata": {
    "papermill": {
     "duration": 0.017506,
     "end_time": "2022-09-22T12:47:58.637025",
     "exception": false,
     "start_time": "2022-09-22T12:47:58.619519",
     "status": "completed"
    },
    "tags": []
   },
   "source": [
    "### Let's prepare data for a Conv2D model"
   ]
  },
  {
   "cell_type": "markdown",
   "id": "97a86963",
   "metadata": {
    "papermill": {
     "duration": 0.017004,
     "end_time": "2022-09-22T12:47:58.671431",
     "exception": false,
     "start_time": "2022-09-22T12:47:58.654427",
     "status": "completed"
    },
    "tags": []
   },
   "source": [
    "##### First define a function that return a number of image for a number of ids and there labels :"
   ]
  },
  {
   "cell_type": "code",
   "execution_count": 29,
   "id": "3ad852a3",
   "metadata": {
    "execution": {
     "iopub.execute_input": "2022-09-22T12:47:58.707938Z",
     "iopub.status.busy": "2022-09-22T12:47:58.707596Z",
     "iopub.status.idle": "2022-09-22T12:47:58.716038Z",
     "shell.execute_reply": "2022-09-22T12:47:58.715081Z"
    },
    "papermill": {
     "duration": 0.028945,
     "end_time": "2022-09-22T12:47:58.718058",
     "exception": false,
     "start_time": "2022-09-22T12:47:58.689113",
     "status": "completed"
    },
    "tags": []
   },
   "outputs": [],
   "source": [
    "cols = ['patient_overall', 'C1', 'C2', 'C3', 'C4', 'C5', 'C6', 'C7'] # for labels\n",
    "\n",
    "def get_train_images(train_df, n_ids = 10, n_img = 10, img_size = (32,32)):\n",
    "    \n",
    "    train_images = []\n",
    "    train_labels = []\n",
    "    \n",
    "    # get n_ids ids at random\n",
    "    ids = random.sample(list(train_df['StudyInstanceUID'].values), n_ids)\n",
    "    \n",
    "    \n",
    "    for id_ in ids:\n",
    "        # get labels for tha id_\n",
    "        labels = train_df.loc[train_df['StudyInstanceUID'] == id_, cols].values[0]\n",
    "        # label C1-C7 fracture or not, print(labels)\n",
    "        # file names of that id_\n",
    "        id_files = os.listdir(path_ti + '/' + id_)\n",
    "         \n",
    "        # read each of the dcm files\n",
    "        for i in range(min(len(id_files), n_ids)):\n",
    "            image = pydicom.dcmread(path_ti + '/' + id_ + '/' + id_files[i]).pixel_array\n",
    "            # resize image\n",
    "            image = np.array(cv2.resize(image, dsize=img_size))\n",
    "            # rescale image\n",
    "            image = (image - image.min())/image.max()\n",
    "            # add image to train_image\n",
    "            train_images.append(image)\n",
    "            # add labels train_labels\n",
    "            train_labels.append(labels)\n",
    "    return np.array(train_images), np.array(train_labels)\n",
    "\n",
    "            \n",
    "            "
   ]
  },
  {
   "cell_type": "markdown",
   "id": "b3226407",
   "metadata": {
    "papermill": {
     "duration": 0.016962,
     "end_time": "2022-09-22T12:47:58.752329",
     "exception": false,
     "start_time": "2022-09-22T12:47:58.735367",
     "status": "completed"
    },
    "tags": []
   },
   "source": [
    "##### Now a function that yields this images (will be needed later)"
   ]
  },
  {
   "cell_type": "code",
   "execution_count": 30,
   "id": "cc82465c",
   "metadata": {
    "execution": {
     "iopub.execute_input": "2022-09-22T12:47:58.788113Z",
     "iopub.status.busy": "2022-09-22T12:47:58.787782Z",
     "iopub.status.idle": "2022-09-22T12:47:58.792817Z",
     "shell.execute_reply": "2022-09-22T12:47:58.791801Z"
    },
    "papermill": {
     "duration": 0.025932,
     "end_time": "2022-09-22T12:47:58.795343",
     "exception": false,
     "start_time": "2022-09-22T12:47:58.769411",
     "status": "completed"
    },
    "tags": []
   },
   "outputs": [],
   "source": [
    "def generate_train_images(train_df, n_ids = 10, n_img = 10, img_size = (32, 32)):\n",
    "    while 1:\n",
    "        yield get_train_images(train_df, n_ids , n_img , img_size )"
   ]
  },
  {
   "cell_type": "markdown",
   "id": "456710ef",
   "metadata": {
    "papermill": {
     "duration": 0.017289,
     "end_time": "2022-09-22T12:47:58.829716",
     "exception": false,
     "start_time": "2022-09-22T12:47:58.812427",
     "status": "completed"
    },
    "tags": []
   },
   "source": [
    "#### The Model (a simple one !) "
   ]
  },
  {
   "cell_type": "code",
   "execution_count": 31,
   "id": "c2cda6b0",
   "metadata": {
    "execution": {
     "iopub.execute_input": "2022-09-22T12:47:58.865477Z",
     "iopub.status.busy": "2022-09-22T12:47:58.865177Z",
     "iopub.status.idle": "2022-09-22T12:48:03.920853Z",
     "shell.execute_reply": "2022-09-22T12:48:03.919838Z"
    },
    "papermill": {
     "duration": 5.07652,
     "end_time": "2022-09-22T12:48:03.923602",
     "exception": false,
     "start_time": "2022-09-22T12:47:58.847082",
     "status": "completed"
    },
    "tags": []
   },
   "outputs": [],
   "source": [
    "# import libraries\n",
    "from tensorflow.keras import layers\n",
    "from tensorflow.keras import Model\n",
    "from tensorflow.keras.optimizers import RMSprop\n",
    "import tensorflow as tf\n",
    "from tensorflow import keras"
   ]
  },
  {
   "cell_type": "code",
   "execution_count": 32,
   "id": "b879907d",
   "metadata": {
    "execution": {
     "iopub.execute_input": "2022-09-22T12:48:03.961139Z",
     "iopub.status.busy": "2022-09-22T12:48:03.960488Z",
     "iopub.status.idle": "2022-09-22T12:48:04.140747Z",
     "shell.execute_reply": "2022-09-22T12:48:04.139146Z"
    },
    "papermill": {
     "duration": 0.200986,
     "end_time": "2022-09-22T12:48:04.142830",
     "exception": false,
     "start_time": "2022-09-22T12:48:03.941844",
     "status": "completed"
    },
    "tags": []
   },
   "outputs": [
    {
     "name": "stderr",
     "output_type": "stream",
     "text": [
      "2022-09-22 12:48:04.033400: I tensorflow/stream_executor/cuda/cuda_gpu_executor.cc:937] successful NUMA node read from SysFS had negative value (-1), but there must be at least one NUMA node, so returning NUMA node zero\n",
      "2022-09-22 12:48:04.131371: I tensorflow/stream_executor/cuda/cuda_gpu_executor.cc:937] successful NUMA node read from SysFS had negative value (-1), but there must be at least one NUMA node, so returning NUMA node zero\n",
      "2022-09-22 12:48:04.132195: I tensorflow/stream_executor/cuda/cuda_gpu_executor.cc:937] successful NUMA node read from SysFS had negative value (-1), but there must be at least one NUMA node, so returning NUMA node zero\n"
     ]
    }
   ],
   "source": [
    "#gpu related\n",
    "#os.environ['TFF_CPP_MIN_LOG_LEVEL']='2'\n",
    "physical_devices = tf.config.list_physical_devices('GPU')\n",
    "tf.config.experimental.set_memory_growth(physical_devices[0], True)"
   ]
  },
  {
   "cell_type": "code",
   "execution_count": 33,
   "id": "2a97ce92",
   "metadata": {
    "execution": {
     "iopub.execute_input": "2022-09-22T12:48:04.179653Z",
     "iopub.status.busy": "2022-09-22T12:48:04.179350Z",
     "iopub.status.idle": "2022-09-22T12:48:04.185212Z",
     "shell.execute_reply": "2022-09-22T12:48:04.184211Z"
    },
    "papermill": {
     "duration": 0.026304,
     "end_time": "2022-09-22T12:48:04.187185",
     "exception": false,
     "start_time": "2022-09-22T12:48:04.160881",
     "status": "completed"
    },
    "tags": []
   },
   "outputs": [],
   "source": [
    "def get_model():\n",
    "    \n",
    "    img_input = layers.Input(shape=(32, 32,1))\n",
    "\n",
    "    # First convolution extracts 16 filters that are 3x3\n",
    "    # Convolution is followed by max-pooling layer with a 2x2 window\n",
    "    x = layers.Conv2D(16, 3, activation='relu')(img_input)\n",
    "    x = layers.MaxPooling2D(2)(x)\n",
    "\n",
    "    # Flatten feature map to a 1-dim tensor so we can add fully connected layers\n",
    "    x = layers.Flatten()(x)\n",
    "\n",
    "    # Create output layer with a single node and sigmoid activation\n",
    "    output = layers.Dense(8, activation='sigmoid')(x)\n",
    "\n",
    "\n",
    "    # Create model:\n",
    "    model = Model(img_input, output)\n",
    "    \n",
    "    return model"
   ]
  },
  {
   "cell_type": "code",
   "execution_count": 34,
   "id": "4aec991b",
   "metadata": {
    "execution": {
     "iopub.execute_input": "2022-09-22T12:48:04.223791Z",
     "iopub.status.busy": "2022-09-22T12:48:04.222980Z",
     "iopub.status.idle": "2022-09-22T12:48:04.227444Z",
     "shell.execute_reply": "2022-09-22T12:48:04.226617Z"
    },
    "papermill": {
     "duration": 0.024483,
     "end_time": "2022-09-22T12:48:04.229224",
     "exception": false,
     "start_time": "2022-09-22T12:48:04.204741",
     "status": "completed"
    },
    "tags": []
   },
   "outputs": [],
   "source": [
    "#model = get_model()"
   ]
  },
  {
   "cell_type": "code",
   "execution_count": 35,
   "id": "2a0875da",
   "metadata": {
    "execution": {
     "iopub.execute_input": "2022-09-22T12:48:04.265744Z",
     "iopub.status.busy": "2022-09-22T12:48:04.265030Z",
     "iopub.status.idle": "2022-09-22T12:48:04.269383Z",
     "shell.execute_reply": "2022-09-22T12:48:04.268538Z"
    },
    "papermill": {
     "duration": 0.024616,
     "end_time": "2022-09-22T12:48:04.271318",
     "exception": false,
     "start_time": "2022-09-22T12:48:04.246702",
     "status": "completed"
    },
    "tags": []
   },
   "outputs": [],
   "source": [
    "#model.summary()"
   ]
  },
  {
   "cell_type": "markdown",
   "id": "1b740869",
   "metadata": {
    "papermill": {
     "duration": 0.017094,
     "end_time": "2022-09-22T12:48:04.305743",
     "exception": false,
     "start_time": "2022-09-22T12:48:04.288649",
     "status": "completed"
    },
    "tags": []
   },
   "source": [
    "Loss function for competition.\n"
   ]
  },
  {
   "cell_type": "code",
   "execution_count": 36,
   "id": "2a0c2ebe",
   "metadata": {
    "execution": {
     "iopub.execute_input": "2022-09-22T12:48:04.342184Z",
     "iopub.status.busy": "2022-09-22T12:48:04.341232Z",
     "iopub.status.idle": "2022-09-22T12:48:04.348849Z",
     "shell.execute_reply": "2022-09-22T12:48:04.348024Z"
    },
    "papermill": {
     "duration": 0.027858,
     "end_time": "2022-09-22T12:48:04.350855",
     "exception": false,
     "start_time": "2022-09-22T12:48:04.322997",
     "status": "completed"
    },
    "tags": []
   },
   "outputs": [],
   "source": [
    "def CustomMSE(y_true, y_pred):\n",
    "    neg = tf.constant([[1, 1, 1, 1, 1, 1, 1, 7]],dtype=tf.float32)\n",
    "    pos = neg*2\n",
    "    eps=1E-8 \n",
    "    \n",
    "    #y_true=tf.cast(y_true,tf.float32)\n",
    "    #y_pred=tf.cast( y_pred,tf.float32)\n",
    "    \n",
    "    y_pred=tf.math.maximum(eps,tf.math.minimum(1-eps, y_pred))\n",
    "    \n",
    "   \n",
    "    \n",
    "    L=tf.cast(y_true,tf.float32)*tf.math.log( y_pred)+(1.0-tf.cast(y_true,tf.float32))*tf.math.log(1- y_pred)\n",
    "        \n",
    "        #print(y_true.shape)\n",
    "        #pos=tf.broadcast_to(pos,y_true)\n",
    "        #neg=tf.broadcast_to(neg,y_true)\n",
    "        \n",
    "    w=pos*tf.cast(y_true,tf.float32)+neg*(1-tf.cast(y_true,tf.float32))\n",
    "        #print(tf.reduce_sum(L*w,1))\n",
    "        #print(tf.reduce_sum(w,1))\n",
    "    return -( tf.reduce_sum(L*w,1)/tf.reduce_sum(w,1) ) \n"
   ]
  },
  {
   "cell_type": "markdown",
   "id": "40ffdbde",
   "metadata": {
    "papermill": {
     "duration": 0.017397,
     "end_time": "2022-09-22T12:48:04.385801",
     "exception": false,
     "start_time": "2022-09-22T12:48:04.368404",
     "status": "completed"
    },
    "tags": []
   },
   "source": [
    "https://www.kaggle.com/code/vslaykovsky/train-pytorch-effnetv2-baseline-cv-0-49/notebook\n",
    "\n",
    "loss tensor([[2.3026, 0.1054, 0.1054, 0.1054, 0.1054, 0.1054, 0.1054, 0.1054],\n",
    "        [0.1054, 2.3026, 0.1054, 0.1054, 0.1054, 0.1054, 0.1054, 0.1054]],\n",
    "       device='cuda:0')\n",
    "       \n",
    "all weights tensor([[14.,  2.,  1.,  1.,  1.,  1.,  1.,  1.],\n",
    "        [ 7.,  1.,  1.,  1.,  1.,  1.,  1.,  1.]], device='cuda:0')\n",
    "        \n",
    "weighted loss tensor([[32.2362,  0.2107,  0.1054,  0.1054,  0.1054,  0.1054,  0.1054,  0.1054],\n",
    "        [ 0.7375,  2.3026,  0.1054,  0.1054,  0.1054,  0.1054,  0.1054,  0.1054]],\n",
    "       device='cuda:0')\n",
    "       \n",
    "normalization factors tensor([[22.],\n",
    "        [14.]], device='cuda:0')\n",
    "        \n",
    "normalized loss tensor([[1.4653, 0.0096, 0.0048, 0.0048, 0.0048, 0.0048, 0.0048, 0.0048],\n",
    "        [0.0527, 0.1645, 0.0075, 0.0075, 0.0075, 0.0075, 0.0075, 0.0075]],\n",
    "       device='cuda:0')\n",
    "       \n",
    "summed up over patient_overall-C1-C7 loss tensor([1.5036, 0.2623], device='cuda:0')"
   ]
  },
  {
   "cell_type": "code",
   "execution_count": 37,
   "id": "f532c013",
   "metadata": {
    "execution": {
     "iopub.execute_input": "2022-09-22T12:48:04.423882Z",
     "iopub.status.busy": "2022-09-22T12:48:04.422828Z",
     "iopub.status.idle": "2022-09-22T12:48:06.737963Z",
     "shell.execute_reply": "2022-09-22T12:48:06.736433Z"
    },
    "papermill": {
     "duration": 2.3377,
     "end_time": "2022-09-22T12:48:06.741658",
     "exception": false,
     "start_time": "2022-09-22T12:48:04.403958",
     "status": "completed"
    },
    "tags": []
   },
   "outputs": [
    {
     "name": "stderr",
     "output_type": "stream",
     "text": [
      "2022-09-22 12:48:04.428733: I tensorflow/core/platform/cpu_feature_guard.cc:142] This TensorFlow binary is optimized with oneAPI Deep Neural Network Library (oneDNN) to use the following CPU instructions in performance-critical operations:  AVX2 AVX512F FMA\n",
      "To enable them in other operations, rebuild TensorFlow with the appropriate compiler flags.\n",
      "2022-09-22 12:48:04.429276: I tensorflow/stream_executor/cuda/cuda_gpu_executor.cc:937] successful NUMA node read from SysFS had negative value (-1), but there must be at least one NUMA node, so returning NUMA node zero\n",
      "2022-09-22 12:48:04.430180: I tensorflow/stream_executor/cuda/cuda_gpu_executor.cc:937] successful NUMA node read from SysFS had negative value (-1), but there must be at least one NUMA node, so returning NUMA node zero\n",
      "2022-09-22 12:48:04.430866: I tensorflow/stream_executor/cuda/cuda_gpu_executor.cc:937] successful NUMA node read from SysFS had negative value (-1), but there must be at least one NUMA node, so returning NUMA node zero\n",
      "2022-09-22 12:48:06.680912: I tensorflow/stream_executor/cuda/cuda_gpu_executor.cc:937] successful NUMA node read from SysFS had negative value (-1), but there must be at least one NUMA node, so returning NUMA node zero\n",
      "2022-09-22 12:48:06.681793: I tensorflow/stream_executor/cuda/cuda_gpu_executor.cc:937] successful NUMA node read from SysFS had negative value (-1), but there must be at least one NUMA node, so returning NUMA node zero\n",
      "2022-09-22 12:48:06.682542: I tensorflow/stream_executor/cuda/cuda_gpu_executor.cc:937] successful NUMA node read from SysFS had negative value (-1), but there must be at least one NUMA node, so returning NUMA node zero\n",
      "2022-09-22 12:48:06.683155: I tensorflow/core/common_runtime/gpu/gpu_device.cc:1510] Created device /job:localhost/replica:0/task:0/device:GPU:0 with 15401 MB memory:  -> device: 0, name: Tesla P100-PCIE-16GB, pci bus id: 0000:00:04.0, compute capability: 6.0\n"
     ]
    },
    {
     "data": {
      "text/plain": [
       "<tf.Tensor: shape=(2,), dtype=float32, numpy=array([1.5035943, 0.2623051], dtype=float32)>"
      ]
     },
     "execution_count": 37,
     "metadata": {},
     "output_type": "execute_result"
    }
   ],
   "source": [
    "y_test1=[[ 0.9, 0.1, 0.1, 0.1, 0.1, 0.1, 0.1,0.1],\n",
    "        [0.9, 0.1, 0.1, 0.1, 0.1, 0.1, 0.1,0.1] ]\n",
    " \n",
    "y_true1=[\n",
    "        [1., 0., 0., 0., 0., 0., 0., 1.],\n",
    "        [0., 0, 0., 0., 0., 0., 0., 0.]\n",
    "    ]\n",
    "CustomMSE(y_true1,y_test1)"
   ]
  },
  {
   "cell_type": "markdown",
   "id": "adb3b725",
   "metadata": {
    "papermill": {
     "duration": 0.020445,
     "end_time": "2022-09-22T12:48:06.789360",
     "exception": false,
     "start_time": "2022-09-22T12:48:06.768915",
     "status": "completed"
    },
    "tags": []
   },
   "source": [
    "Our CustomMSE delivers competition metric! "
   ]
  },
  {
   "cell_type": "code",
   "execution_count": 38,
   "id": "16a0f464",
   "metadata": {
    "execution": {
     "iopub.execute_input": "2022-09-22T12:48:06.829123Z",
     "iopub.status.busy": "2022-09-22T12:48:06.828129Z",
     "iopub.status.idle": "2022-09-22T12:48:06.835337Z",
     "shell.execute_reply": "2022-09-22T12:48:06.834314Z"
    },
    "papermill": {
     "duration": 0.028995,
     "end_time": "2022-09-22T12:48:06.837436",
     "exception": false,
     "start_time": "2022-09-22T12:48:06.808441",
     "status": "completed"
    },
    "tags": []
   },
   "outputs": [
    {
     "data": {
      "text/plain": [
       "\"\\ntmp= get_train_images(train,10,10)\\nX=tmp[0]\\nY=tmp[1] \\n    \\nmodel = get_model()\\nmodel.summary()\\nmodel.compile( loss=CustomMSE , #competition_loss,\\n              optimizer=RMSprop(learning_rate=0.001),\\n              metrics=['acc'])\\n\""
      ]
     },
     "execution_count": 38,
     "metadata": {},
     "output_type": "execute_result"
    }
   ],
   "source": [
    "'''\n",
    "tmp= get_train_images(train,10,10)\n",
    "X=tmp[0]\n",
    "Y=tmp[1] \n",
    "    \n",
    "model = get_model()\n",
    "model.summary()\n",
    "model.compile( loss=CustomMSE , #competition_loss,\n",
    "              optimizer=RMSprop(learning_rate=0.001),\n",
    "              metrics=['acc'])\n",
    "'''"
   ]
  },
  {
   "cell_type": "code",
   "execution_count": 39,
   "id": "fb0249ba",
   "metadata": {
    "execution": {
     "iopub.execute_input": "2022-09-22T12:48:06.875663Z",
     "iopub.status.busy": "2022-09-22T12:48:06.874579Z",
     "iopub.status.idle": "2022-09-22T12:48:06.879387Z",
     "shell.execute_reply": "2022-09-22T12:48:06.878490Z"
    },
    "papermill": {
     "duration": 0.026033,
     "end_time": "2022-09-22T12:48:06.881347",
     "exception": false,
     "start_time": "2022-09-22T12:48:06.855314",
     "status": "completed"
    },
    "tags": []
   },
   "outputs": [],
   "source": [
    "#history = model.fit(X,Y, steps_per_epoch = 10, epochs = 1) #delete"
   ]
  },
  {
   "cell_type": "code",
   "execution_count": 40,
   "id": "3c0c1ddd",
   "metadata": {
    "execution": {
     "iopub.execute_input": "2022-09-22T12:48:06.920065Z",
     "iopub.status.busy": "2022-09-22T12:48:06.919183Z",
     "iopub.status.idle": "2022-09-22T12:48:06.923422Z",
     "shell.execute_reply": "2022-09-22T12:48:06.922471Z"
    },
    "papermill": {
     "duration": 0.025514,
     "end_time": "2022-09-22T12:48:06.925460",
     "exception": false,
     "start_time": "2022-09-22T12:48:06.899946",
     "status": "completed"
    },
    "tags": []
   },
   "outputs": [],
   "source": [
    "# count the total number of image\n",
    "#n_train_images = 0  \n",
    "#for id_ in train['StudyInstanceUID']:\n",
    "#  n_train_images = n_train_images + len(os.listdir(path_ti + '/' + id_))\n",
    "#print(n_train_images)\n",
    "\n",
    "#n_train_images = 711601"
   ]
  },
  {
   "cell_type": "code",
   "execution_count": 41,
   "id": "603e7d24",
   "metadata": {
    "execution": {
     "iopub.execute_input": "2022-09-22T12:48:06.963363Z",
     "iopub.status.busy": "2022-09-22T12:48:06.962492Z",
     "iopub.status.idle": "2022-09-22T12:48:06.967266Z",
     "shell.execute_reply": "2022-09-22T12:48:06.966471Z"
    },
    "papermill": {
     "duration": 0.025813,
     "end_time": "2022-09-22T12:48:06.969212",
     "exception": false,
     "start_time": "2022-09-22T12:48:06.943399",
     "status": "completed"
    },
    "tags": []
   },
   "outputs": [],
   "source": [
    "\n",
    "#history = model.fit(generate_train_images(train,3,3), steps_per_epoch = 6, epochs = 1)\n",
    "\n",
    "#bce(Y,model.predict(X)) \n",
    "\n",
    "#history = model.fit(generate_train_images(train,30,30), steps_per_epoch = 6, epochs = 1)#100 100"
   ]
  },
  {
   "cell_type": "code",
   "execution_count": 42,
   "id": "fae23da2",
   "metadata": {
    "execution": {
     "iopub.execute_input": "2022-09-22T12:48:07.007569Z",
     "iopub.status.busy": "2022-09-22T12:48:07.007207Z",
     "iopub.status.idle": "2022-09-22T12:48:07.015939Z",
     "shell.execute_reply": "2022-09-22T12:48:07.014998Z"
    },
    "papermill": {
     "duration": 0.030101,
     "end_time": "2022-09-22T12:48:07.017965",
     "exception": false,
     "start_time": "2022-09-22T12:48:06.987864",
     "status": "completed"
    },
    "tags": []
   },
   "outputs": [],
   "source": [
    "def get_test_images(img_size = (32, 32)):\n",
    "    path = '../input/rsna-2022-cervical-spine-fracture-detection/test_images'\n",
    "    test_images = []\n",
    "    test_ids = []\n",
    "    # test ids\n",
    "    ids = os.listdir('../input/rsna-2022-cervical-spine-fracture-detection/test_images')\n",
    "    print(ids)\n",
    "    \n",
    "    for id_ in ids:\n",
    "        # file names of that id_\n",
    "        id_files = os.listdir(path + '/' + id_)\n",
    "        # read each of the dcm files\n",
    "        for i in range(len(id_files)):\n",
    "            image = pydicom.dcmread(path + '/' + id_ + '/' + id_files[i]).pixel_array\n",
    "            # resize image\n",
    "            image = np.array(cv2.resize(image, dsize=img_size))\n",
    "            # rescale image\n",
    "            image = (image - image.min())/image.max()\n",
    "            # add image to train_image\n",
    "            test_images.append(image)\n",
    "            # add id_ to test_ids\n",
    "            test_ids.append(id_)\n",
    "    \n",
    "    return np.array(test_images), np.array(test_ids)\n",
    "    "
   ]
  },
  {
   "cell_type": "code",
   "execution_count": 43,
   "id": "e5177bf5",
   "metadata": {
    "execution": {
     "iopub.execute_input": "2022-09-22T12:48:07.057682Z",
     "iopub.status.busy": "2022-09-22T12:48:07.055813Z",
     "iopub.status.idle": "2022-09-22T12:48:07.061123Z",
     "shell.execute_reply": "2022-09-22T12:48:07.060171Z"
    },
    "papermill": {
     "duration": 0.026994,
     "end_time": "2022-09-22T12:48:07.063182",
     "exception": false,
     "start_time": "2022-09-22T12:48:07.036188",
     "status": "completed"
    },
    "tags": []
   },
   "outputs": [],
   "source": [
    "# test the function\n",
    "#test_images, test_ids = get_test_images()"
   ]
  },
  {
   "cell_type": "code",
   "execution_count": 44,
   "id": "536fb4a8",
   "metadata": {
    "execution": {
     "iopub.execute_input": "2022-09-22T12:48:07.101580Z",
     "iopub.status.busy": "2022-09-22T12:48:07.100693Z",
     "iopub.status.idle": "2022-09-22T12:48:07.105109Z",
     "shell.execute_reply": "2022-09-22T12:48:07.104084Z"
    },
    "papermill": {
     "duration": 0.025472,
     "end_time": "2022-09-22T12:48:07.107140",
     "exception": false,
     "start_time": "2022-09-22T12:48:07.081668",
     "status": "completed"
    },
    "tags": []
   },
   "outputs": [],
   "source": [
    "#results = model.predict(test_images)"
   ]
  },
  {
   "cell_type": "code",
   "execution_count": 45,
   "id": "bb90f173",
   "metadata": {
    "execution": {
     "iopub.execute_input": "2022-09-22T12:48:07.146213Z",
     "iopub.status.busy": "2022-09-22T12:48:07.145164Z",
     "iopub.status.idle": "2022-09-22T12:48:07.154087Z",
     "shell.execute_reply": "2022-09-22T12:48:07.149637Z"
    },
    "papermill": {
     "duration": 0.040679,
     "end_time": "2022-09-22T12:48:07.165942",
     "exception": false,
     "start_time": "2022-09-22T12:48:07.125263",
     "status": "completed"
    },
    "tags": []
   },
   "outputs": [],
   "source": [
    "#results_df = pd.DataFrame(data=results, columns=cols)\n",
    "#results_df.insert(0, 'patient_id', np.array(test_ids))\n",
    "#results_df = results_df.melt(id_vars='patient_id', value_vars=cols, var_name='bone', value_name='fractured')\n",
    "#results_df.insert(0, 'row_id', results_df.patient_id + '_' + results_df.bone)\n",
    "#results_df.drop(['patient_id', 'bone'], axis=1, inplace=True)\n",
    "#results_df = pd.DataFrame(results_df.groupby(['row_id']).max().reset_index())\n",
    "#results_df.head(30)"
   ]
  },
  {
   "cell_type": "markdown",
   "id": "19a02337",
   "metadata": {
    "papermill": {
     "duration": 0.038648,
     "end_time": "2022-09-22T12:48:07.240105",
     "exception": false,
     "start_time": "2022-09-22T12:48:07.201457",
     "status": "completed"
    },
    "tags": []
   },
   "source": [
    "# **3D CNN MODEL**"
   ]
  },
  {
   "cell_type": "code",
   "execution_count": 46,
   "id": "8863f0a6",
   "metadata": {
    "execution": {
     "iopub.execute_input": "2022-09-22T12:48:07.315188Z",
     "iopub.status.busy": "2022-09-22T12:48:07.314720Z",
     "iopub.status.idle": "2022-09-22T12:48:10.290346Z",
     "shell.execute_reply": "2022-09-22T12:48:10.289268Z"
    },
    "papermill": {
     "duration": 3.011322,
     "end_time": "2022-09-22T12:48:10.292612",
     "exception": false,
     "start_time": "2022-09-22T12:48:07.281290",
     "status": "completed"
    },
    "tags": []
   },
   "outputs": [
    {
     "data": {
      "text/plain": [
       "TensorShape([6, 32, 64, 64])"
      ]
     },
     "execution_count": 46,
     "metadata": {},
     "output_type": "execute_result"
    }
   ],
   "source": [
    "def get_cut(id_files, num=32):  #get appropriate 32 2D cuts for single patient\n",
    "    x = []\n",
    "    x_32 = []\n",
    "    \n",
    "    for nam in id_files:\n",
    "        x.append(int(nam.split('.')[0]))\n",
    "    x.sort()\n",
    "    x_len=len(x)\n",
    "    \n",
    "    # get 32 cut out of all cuts\n",
    "    for i in range(32):\n",
    "        x_32.append(x[ min(x_len-1,i*min(x_len/32,1))])\n",
    "    \n",
    "    return x_32\n",
    "\n",
    "def get_train_images_3D(train_df, n_ids = 10, n_img = 10, img_size = (64,64)):\n",
    "    \n",
    "    train_images = []\n",
    "    train_labels = []\n",
    "    \n",
    "    # get n_ids ids at random\n",
    "    ids = random.sample(list(train_df['StudyInstanceUID'].values), n_ids)\n",
    "    \n",
    "    \n",
    "    for id_ in ids:\n",
    "        # get labels for tha id_\n",
    "        labels = train_df.loc[train_df['StudyInstanceUID'] == id_, cols].values[0]\n",
    "        # label C1-C7 fracture or not, print(labels)\n",
    "        # file names of that id_\n",
    "        id_files = os.listdir(path_ti + '/' + id_) \n",
    "        cas = []  # a 3D tensor for a patient scan\n",
    "        cuts = get_cut(id_files,32)  # index of 32 cuts\n",
    "        \n",
    "        # read each of the dcm files\n",
    "        for i in range(32):\n",
    "            image = pydicom.dcmread(path_ti + '/' + id_ + '/' + str(cuts[i])+'.dcm').pixel_array\n",
    "            # resize image\n",
    "            image = np.array(cv2.resize(image, dsize=img_size))\n",
    "            # rescale image\n",
    "            image = (image - image.min())/image.max()\n",
    "            # add image to train_image\n",
    "            cas.append(image)\n",
    "           # print(np.array(cas).shape)\n",
    "            # add labels train_labels\n",
    "        train_images.append(cas)   \n",
    "        train_labels.append(labels)\n",
    "    return train_images, train_labels\n",
    "a=get_train_images_3D(train,6,6)\n",
    "(tf.convert_to_tensor(a[0],dtype=tf.float32)).shape\n"
   ]
  },
  {
   "cell_type": "code",
   "execution_count": 47,
   "id": "984e9479",
   "metadata": {
    "execution": {
     "iopub.execute_input": "2022-09-22T12:48:10.333155Z",
     "iopub.status.busy": "2022-09-22T12:48:10.331116Z",
     "iopub.status.idle": "2022-09-22T12:52:25.177345Z",
     "shell.execute_reply": "2022-09-22T12:52:25.176170Z"
    },
    "papermill": {
     "duration": 254.886361,
     "end_time": "2022-09-22T12:52:25.197474",
     "exception": false,
     "start_time": "2022-09-22T12:48:10.311113",
     "status": "completed"
    },
    "tags": []
   },
   "outputs": [
    {
     "name": "stderr",
     "output_type": "stream",
     "text": [
      "2022-09-22 12:52:08.725615: W tensorflow/core/framework/cpu_allocator_impl.cc:80] Allocation of 943718400 exceeds 10% of free system memory.\n"
     ]
    }
   ],
   "source": [
    "#tmp= get_train_images_3D(train,200,200) \n",
    "#X=tf.convert_to_tensor(tmp[0], dtype=tf.float32)\n",
    "#Y=tf.convert_to_tensor(tmp[1], dtype=tf.float32)\n",
    "from sklearn.model_selection import train_test_split\n",
    "X,Y = get_train_images_3D(train,500,500,(128,128))\n",
    "tmp2 = train_test_split(X, Y,test_size=0.1)#train_X, val_X, train_Y, val_Y = train_test_split(X, Y)\n",
    "\n",
    "train3D_X = (tf.convert_to_tensor(tmp2[0],dtype=tf.float32))\n",
    "val3D_X = (tf.convert_to_tensor(tmp2[1],dtype=tf.float32))\n",
    "\n",
    "train3D_Y = (tf.convert_to_tensor(tmp2[2],dtype=tf.float32))\n",
    "val3D_Y = (tf.convert_to_tensor(tmp2[3],dtype=tf.float32))\n",
    "#print(train_X.shape, train_Y.shape, val_X.shape, val_Y.shape)"
   ]
  },
  {
   "cell_type": "code",
   "execution_count": 48,
   "id": "8df16619",
   "metadata": {
    "execution": {
     "iopub.execute_input": "2022-09-22T12:52:25.236857Z",
     "iopub.status.busy": "2022-09-22T12:52:25.235829Z",
     "iopub.status.idle": "2022-09-22T12:52:25.243588Z",
     "shell.execute_reply": "2022-09-22T12:52:25.242723Z"
    },
    "papermill": {
     "duration": 0.028843,
     "end_time": "2022-09-22T12:52:25.245615",
     "exception": false,
     "start_time": "2022-09-22T12:52:25.216772",
     "status": "completed"
    },
    "tags": []
   },
   "outputs": [],
   "source": [
    "def get_model_3D(img_size=64):\n",
    "    \n",
    "    img_input = layers.Input(shape=(32,img_size,img_size,1))\n",
    "\n",
    "    # First convolution extracts 16 filters that are 3x3\n",
    "    # Convolution is followed by max-pooling layer with a 2x2 window\n",
    "    x = layers.Conv3D(32, 3, activation='relu')(img_input)\n",
    "   # x = layers.MaxPooling3D(2)(x)\n",
    "   \n",
    "    xt = layers.Conv3D(24, 3, activation='relu')(x)\n",
    "    \n",
    "    x2 = layers.Conv3D(16, 3, activation='relu')(xt)\n",
    "   # x2 = layers.MaxPooling3D(2)(x2)\n",
    "    \n",
    "    x3 = layers.Conv3D(8, 3, activation='relu')(x2)\n",
    "    x3 = layers.MaxPooling3D(2)(x3)\n",
    "    # Flatten feature map to a 1-dim tensor so we can add fully connected layers\n",
    "    x3 = layers.Flatten()(x3)\n",
    "\n",
    "    # Create output layer with a single node and sigmoid activation\n",
    "    output = layers.Dense(8, activation='sigmoid')(x3)\n",
    "\n",
    "\n",
    "    # Create model:\n",
    "    model = Model(img_input, output)\n",
    "    \n",
    "    return model"
   ]
  },
  {
   "cell_type": "code",
   "execution_count": 49,
   "id": "a781808c",
   "metadata": {
    "execution": {
     "iopub.execute_input": "2022-09-22T12:52:25.283922Z",
     "iopub.status.busy": "2022-09-22T12:52:25.283009Z",
     "iopub.status.idle": "2022-09-22T12:52:25.289168Z",
     "shell.execute_reply": "2022-09-22T12:52:25.288331Z"
    },
    "papermill": {
     "duration": 0.027055,
     "end_time": "2022-09-22T12:52:25.291191",
     "exception": false,
     "start_time": "2022-09-22T12:52:25.264136",
     "status": "completed"
    },
    "tags": []
   },
   "outputs": [],
   "source": [
    "def model_3D_getfit(A,B,img_size):\n",
    "    tf.keras.backend.clear_session()\n",
    "    model = get_model_3D(img_size)\n",
    "    model.summary()\n",
    "    model.compile( loss=CustomMSE , #competition_loss,\n",
    "                # loss=tf.keras.losses.BinaryCrossentropy(from_logits=True),\n",
    "              optimizer=RMSprop(learning_rate=0.00001),\n",
    "              metrics=['acc'])\n",
    "\n",
    "\n",
    "    history = model.fit(A,B, validation_split=0.25, epochs =11) #delete\n",
    "    return model, history"
   ]
  },
  {
   "cell_type": "code",
   "execution_count": 50,
   "id": "ae220b66",
   "metadata": {
    "execution": {
     "iopub.execute_input": "2022-09-22T12:52:25.328369Z",
     "iopub.status.busy": "2022-09-22T12:52:25.327705Z",
     "iopub.status.idle": "2022-09-22T12:55:41.654627Z",
     "shell.execute_reply": "2022-09-22T12:55:41.652906Z"
    },
    "papermill": {
     "duration": 196.348433,
     "end_time": "2022-09-22T12:55:41.657333",
     "exception": false,
     "start_time": "2022-09-22T12:52:25.308900",
     "status": "completed"
    },
    "tags": []
   },
   "outputs": [
    {
     "name": "stdout",
     "output_type": "stream",
     "text": [
      "Model: \"model\"\n",
      "_________________________________________________________________\n",
      "Layer (type)                 Output Shape              Param #   \n",
      "=================================================================\n",
      "input_1 (InputLayer)         [(None, 32, 128, 128, 1)] 0         \n",
      "_________________________________________________________________\n",
      "conv3d (Conv3D)              (None, 30, 126, 126, 32)  896       \n",
      "_________________________________________________________________\n",
      "conv3d_1 (Conv3D)            (None, 28, 124, 124, 24)  20760     \n",
      "_________________________________________________________________\n",
      "conv3d_2 (Conv3D)            (None, 26, 122, 122, 16)  10384     \n",
      "_________________________________________________________________\n",
      "conv3d_3 (Conv3D)            (None, 24, 120, 120, 8)   3464      \n",
      "_________________________________________________________________\n",
      "max_pooling3d (MaxPooling3D) (None, 12, 60, 60, 8)     0         \n",
      "_________________________________________________________________\n",
      "flatten (Flatten)            (None, 345600)            0         \n",
      "_________________________________________________________________\n",
      "dense (Dense)                (None, 8)                 2764808   \n",
      "=================================================================\n",
      "Total params: 2,800,312\n",
      "Trainable params: 2,800,312\n",
      "Non-trainable params: 0\n",
      "_________________________________________________________________\n"
     ]
    },
    {
     "name": "stderr",
     "output_type": "stream",
     "text": [
      "2022-09-22 12:52:26.077157: I tensorflow/compiler/mlir/mlir_graph_optimization_pass.cc:185] None of the MLIR Optimization Passes are enabled (registered 2)\n"
     ]
    },
    {
     "name": "stdout",
     "output_type": "stream",
     "text": [
      "Epoch 1/11\n"
     ]
    },
    {
     "name": "stderr",
     "output_type": "stream",
     "text": [
      "2022-09-22 12:52:27.857441: I tensorflow/stream_executor/cuda/cuda_dnn.cc:369] Loaded cuDNN version 8005\n"
     ]
    },
    {
     "name": "stdout",
     "output_type": "stream",
     "text": [
      "11/11 [==============================] - 34s 2s/step - loss: 0.5905 - acc: 0.9288 - val_loss: 0.5405 - val_acc: 1.0000\n",
      "Epoch 2/11\n",
      "11/11 [==============================] - 16s 1s/step - loss: 0.5575 - acc: 1.0000 - val_loss: 0.5432 - val_acc: 1.0000\n",
      "Epoch 3/11\n",
      "11/11 [==============================] - 16s 1s/step - loss: 0.5527 - acc: 1.0000 - val_loss: 0.5336 - val_acc: 1.0000\n",
      "Epoch 4/11\n",
      "11/11 [==============================] - 16s 1s/step - loss: 0.5507 - acc: 1.0000 - val_loss: 0.5353 - val_acc: 1.0000\n",
      "Epoch 5/11\n",
      "11/11 [==============================] - 16s 1s/step - loss: 0.5465 - acc: 1.0000 - val_loss: 0.5274 - val_acc: 1.0000\n",
      "Epoch 6/11\n",
      "11/11 [==============================] - 16s 1s/step - loss: 0.5454 - acc: 1.0000 - val_loss: 0.5380 - val_acc: 1.0000\n",
      "Epoch 7/11\n",
      "11/11 [==============================] - 16s 1s/step - loss: 0.5398 - acc: 1.0000 - val_loss: 0.5267 - val_acc: 1.0000\n",
      "Epoch 8/11\n",
      "11/11 [==============================] - 16s 1s/step - loss: 0.5381 - acc: 1.0000 - val_loss: 0.5247 - val_acc: 1.0000\n",
      "Epoch 9/11\n",
      "11/11 [==============================] - 16s 1s/step - loss: 0.5333 - acc: 1.0000 - val_loss: 0.5218 - val_acc: 1.0000\n",
      "Epoch 10/11\n",
      "11/11 [==============================] - 16s 1s/step - loss: 0.5274 - acc: 1.0000 - val_loss: 0.5356 - val_acc: 1.0000\n",
      "Epoch 11/11\n",
      "11/11 [==============================] - 16s 1s/step - loss: 0.5238 - acc: 1.0000 - val_loss: 0.5153 - val_acc: 1.0000\n",
      "loss for validation data = \n",
      "tf.Tensor(0.50117326, shape=(), dtype=float32)\n"
     ]
    }
   ],
   "source": [
    "model_3D, history_3D = model_3D_getfit(train3D_X,train3D_Y,128)\n",
    "print(\"loss for validation data = \")\n",
    "val3D_prediction=model_3D.predict(val3D_X)\n",
    "val_3D_loss = tf.reduce_mean(CustomMSE(val3D_Y,val3D_prediction),keepdims=False)\n",
    "print(val_3D_loss)"
   ]
  },
  {
   "cell_type": "code",
   "execution_count": 51,
   "id": "252eac03",
   "metadata": {
    "execution": {
     "iopub.execute_input": "2022-09-22T12:55:41.710659Z",
     "iopub.status.busy": "2022-09-22T12:55:41.710296Z",
     "iopub.status.idle": "2022-09-22T12:55:41.979116Z",
     "shell.execute_reply": "2022-09-22T12:55:41.978177Z"
    },
    "papermill": {
     "duration": 0.297385,
     "end_time": "2022-09-22T12:55:41.981207",
     "exception": false,
     "start_time": "2022-09-22T12:55:41.683822",
     "status": "completed"
    },
    "tags": []
   },
   "outputs": [
    {
     "data": {
      "image/png": "[encoded data removed]",
      "text/plain": [
       "<Figure size 216x216 with 1 Axes>"
      ]
     },
     "metadata": {},
     "output_type": "display_data"
    }
   ],
   "source": [
    "#Define figure and axes\n",
    "fig, ax = plt.subplots(1,1, figsize=(3,3))\n",
    "#ax.set_ylim(ymin=0)\n",
    "plt.xlabel(\"epochs\")\n",
    "plt.ylabel(\"weighted log loss\")\n",
    "\n",
    "# add the image\n",
    "#print(history_3D.history )\n",
    "plt.plot(history_3D.history['loss'])\n",
    "\n",
    "plt.plot(history_3D.history['val_loss'])\n",
    "plt.scatter(len(history_3D.history['val_loss']),val_3D_loss)\n",
    "#plt.scatter(10,history_3D.history['loss'][0])\n",
    "# Add the boxe\n",
    "#res=[]\n",
    "#res.append([300,history_3D.history['loss'],(history_3D.history['val_loss'])])\n",
    "# diplay\n",
    "plt.show()"
   ]
  },
  {
   "cell_type": "markdown",
   "id": "cee29c54",
   "metadata": {
    "papermill": {
     "duration": 0.026142,
     "end_time": "2022-09-22T12:55:42.033410",
     "exception": false,
     "start_time": "2022-09-22T12:55:42.007268",
     "status": "completed"
    },
    "tags": []
   },
   "source": [
    "# x 3D images, 10% for evaluation, 75%(25%) of the rest images for train(validation).\n",
    "# One can see over fitting >10 epochs"
   ]
  },
  {
   "attachments": {
    "0ad8bbca-e0ff-4b90-88c2-5ba7a0caf5bb.png": {
     "image/png": "[encoded data removed]"
    }
   },
   "cell_type": "markdown",
   "id": "5d15459d",
   "metadata": {
    "papermill": {
     "duration": 0.025458,
     "end_time": "2022-09-22T12:55:42.084729",
     "exception": false,
     "start_time": "2022-09-22T12:55:42.059271",
     "status": "completed"
    },
    "tags": []
   },
   "source": [
    "x = 300 3D images, ![1.png](attachment:0ad8bbca-e0ff-4b90-88c2-5ba7a0caf5bb.png)"
   ]
  },
  {
   "attachments": {
    "a5a174b7-65fd-4586-9882-42be563f21c5.png": {
     "image/png": "[encoded data removed]"
    }
   },
   "cell_type": "markdown",
   "id": "129b49c0",
   "metadata": {
    "papermill": {
     "duration": 0.025578,
     "end_time": "2022-09-22T12:55:42.136203",
     "exception": false,
     "start_time": "2022-09-22T12:55:42.110625",
     "status": "completed"
    },
    "tags": []
   },
   "source": [
    "x = 400 3D images![image.png](attachment:a5a174b7-65fd-4586-9882-42be563f21c5.png)"
   ]
  },
  {
   "attachments": {
    "b0cc6472-8adf-4a5a-b524-8a6192a5ac2a.png": {
     "image/png": "[encoded data removed]"
    }
   },
   "cell_type": "markdown",
   "id": "9844a0f6",
   "metadata": {
    "papermill": {
     "duration": 0.027479,
     "end_time": "2022-09-22T12:55:42.208626",
     "exception": false,
     "start_time": "2022-09-22T12:55:42.181147",
     "status": "completed"
    },
    "tags": []
   },
   "source": [
    "x = 500 3D images\n",
    "![image.png](attachment:b0cc6472-8adf-4a5a-b524-8a6192a5ac2a.png)"
   ]
  },
  {
   "cell_type": "markdown",
   "id": "8315b01f",
   "metadata": {
    "papermill": {
     "duration": 0.02545,
     "end_time": "2022-09-22T12:55:42.261834",
     "exception": false,
     "start_time": "2022-09-22T12:55:42.236384",
     "status": "completed"
    },
    "tags": []
   },
   "source": [
    "# x = 300 images & 10 epochs work best for unoptimized 3D CNN model"
   ]
  },
  {
   "cell_type": "code",
   "execution_count": 52,
   "id": "e77bc3f3",
   "metadata": {
    "execution": {
     "iopub.execute_input": "2022-09-22T12:55:42.315916Z",
     "iopub.status.busy": "2022-09-22T12:55:42.315550Z",
     "iopub.status.idle": "2022-09-22T12:55:42.744616Z",
     "shell.execute_reply": "2022-09-22T12:55:42.743695Z"
    },
    "papermill": {
     "duration": 0.459739,
     "end_time": "2022-09-22T12:55:42.747599",
     "exception": false,
     "start_time": "2022-09-22T12:55:42.287860",
     "status": "completed"
    },
    "tags": []
   },
   "outputs": [
    {
     "name": "stdout",
     "output_type": "stream",
     "text": [
      "(32, 128, 128)\n"
     ]
    },
    {
     "data": {
      "image/png": "[encoded data removed]",
      "text/plain": [
       "<Figure size 720x720 with 3 Axes>"
      ]
     },
     "metadata": {},
     "output_type": "display_data"
    }
   ],
   "source": [
    "\n",
    "fig, ax = plt.subplots(1,3, figsize=(10,10))\n",
    "print(np.array(X[1]).shape)\n",
    "ax[0].imshow(X[137][10], cmap=plt.cm.bone)\n",
    "ax[1].imshow(X[137][20], cmap=plt.cm.bone)\n",
    "ax[2].imshow(X[137][30], cmap=plt.cm.bone)\n",
    "\n",
    "plt.show()"
   ]
  },
  {
   "cell_type": "code",
   "execution_count": 53,
   "id": "63ed8d57",
   "metadata": {
    "execution": {
     "iopub.execute_input": "2022-09-22T12:55:42.805408Z",
     "iopub.status.busy": "2022-09-22T12:55:42.805070Z",
     "iopub.status.idle": "2022-09-22T12:55:42.812957Z",
     "shell.execute_reply": "2022-09-22T12:55:42.812069Z"
    },
    "papermill": {
     "duration": 0.038342,
     "end_time": "2022-09-22T12:55:42.814869",
     "exception": false,
     "start_time": "2022-09-22T12:55:42.776527",
     "status": "completed"
    },
    "tags": []
   },
   "outputs": [],
   "source": [
    " \n",
    "def get_test_images_3D( img_size = (128,128)):\n",
    "    \n",
    "    path = '../input/rsna-2022-cervical-spine-fracture-detection/test_images'\n",
    "    test_images = []\n",
    "    test_ids = []\n",
    "     \n",
    "    \n",
    "    ids = os.listdir('../input/rsna-2022-cervical-spine-fracture-detection/test_images')\n",
    "    print(\"test images\")\n",
    "    print(ids)\n",
    "    for id_ in ids: \n",
    "        # label C1-C7 fracture or not, print(labels)\n",
    "        # file names of that id_\n",
    "        id_files = os.listdir(path + '/' + id_)\n",
    "         \n",
    "            \n",
    "        cuts = get_cut(id_files,32)  # index of 32 cuts\n",
    "       \n",
    "            \n",
    "        cas = []\n",
    "        # read each of the dcm files\n",
    "        \n",
    "        for i in range(32):\n",
    "            \n",
    "            image = pydicom.dcmread(path + '/' + id_ + '/' +str(cuts[i])+'.dcm').pixel_array\n",
    "        \n",
    "                # resize image\n",
    "            image = np.array(cv2.resize(image, dsize=img_size))\n",
    "            # rescale image\n",
    "            image = (image - image.min())/image.max()\n",
    "            # add image to train_image\n",
    "            cas.append(image)\n",
    "           # print(np.array(cas).shape)\n",
    "            # add labels train_labels\n",
    "        test_images.append(cas)    \n",
    "        test_ids.append(id_)\n",
    "    return test_images, test_ids\n",
    "#try it out\n",
    "#a=get_test_images_3D()\n",
    "#(tf.convert_to_tensor(a[0],dtype=tf.float32)).shape\n",
    "\n",
    "    "
   ]
  },
  {
   "cell_type": "code",
   "execution_count": 54,
   "id": "053058b6",
   "metadata": {
    "execution": {
     "iopub.execute_input": "2022-09-22T12:55:42.870925Z",
     "iopub.status.busy": "2022-09-22T12:55:42.870031Z",
     "iopub.status.idle": "2022-09-22T12:55:45.111746Z",
     "shell.execute_reply": "2022-09-22T12:55:45.110764Z"
    },
    "papermill": {
     "duration": 2.272141,
     "end_time": "2022-09-22T12:55:45.114205",
     "exception": false,
     "start_time": "2022-09-22T12:55:42.842064",
     "status": "completed"
    },
    "tags": []
   },
   "outputs": [
    {
     "name": "stdout",
     "output_type": "stream",
     "text": [
      "test images\n",
      "['1.2.826.0.1.3680043.22327', '1.2.826.0.1.3680043.25399', '1.2.826.0.1.3680043.5876']\n"
     ]
    }
   ],
   "source": [
    "# test the function\n",
    "test_images_3D, test_ids_3D = get_test_images_3D()\n",
    "X_test=tf.convert_to_tensor(test_images_3D, dtype=tf.float32)\n",
    "\n",
    "results_3D = model_3D.predict(X_test)\n",
    " "
   ]
  },
  {
   "cell_type": "markdown",
   "id": "558a71e0",
   "metadata": {
    "papermill": {
     "duration": 0.02688,
     "end_time": "2022-09-22T12:55:45.168926",
     "exception": false,
     "start_time": "2022-09-22T12:55:45.142046",
     "status": "completed"
    },
    "tags": []
   },
   "source": [
    "#### Prepare the submission file"
   ]
  },
  {
   "cell_type": "code",
   "execution_count": 55,
   "id": "fee5875b",
   "metadata": {
    "execution": {
     "iopub.execute_input": "2022-09-22T12:55:45.225039Z",
     "iopub.status.busy": "2022-09-22T12:55:45.224161Z",
     "iopub.status.idle": "2022-09-22T12:55:45.249567Z",
     "shell.execute_reply": "2022-09-22T12:55:45.248360Z"
    },
    "papermill": {
     "duration": 0.056046,
     "end_time": "2022-09-22T12:55:45.252039",
     "exception": false,
     "start_time": "2022-09-22T12:55:45.195993",
     "status": "completed"
    },
    "tags": []
   },
   "outputs": [
    {
     "data": {
      "text/html": [
       "<div>\n",
       "<style scoped>\n",
       "    .dataframe tbody tr th:only-of-type {\n",
       "        vertical-align: middle;\n",
       "    }\n",
       "\n",
       "    .dataframe tbody tr th {\n",
       "        vertical-align: top;\n",
       "    }\n",
       "\n",
       "    .dataframe thead th {\n",
       "        text-align: right;\n",
       "    }\n",
       "</style>\n",
       "<table border=\"1\" class=\"dataframe\">\n",
       "  <thead>\n",
       "    <tr style=\"text-align: right;\">\n",
       "      <th></th>\n",
       "      <th>row_id</th>\n",
       "      <th>fractured</th>\n",
       "    </tr>\n",
       "  </thead>\n",
       "  <tbody>\n",
       "    <tr>\n",
       "      <th>0</th>\n",
       "      <td>1.2.826.0.1.3680043.22327_C1</td>\n",
       "      <td>0.108703</td>\n",
       "    </tr>\n",
       "    <tr>\n",
       "      <th>1</th>\n",
       "      <td>1.2.826.0.1.3680043.22327_C2</td>\n",
       "      <td>0.292675</td>\n",
       "    </tr>\n",
       "    <tr>\n",
       "      <th>2</th>\n",
       "      <td>1.2.826.0.1.3680043.22327_C3</td>\n",
       "      <td>0.122686</td>\n",
       "    </tr>\n",
       "    <tr>\n",
       "      <th>3</th>\n",
       "      <td>1.2.826.0.1.3680043.22327_C4</td>\n",
       "      <td>0.164192</td>\n",
       "    </tr>\n",
       "    <tr>\n",
       "      <th>4</th>\n",
       "      <td>1.2.826.0.1.3680043.22327_C5</td>\n",
       "      <td>0.217786</td>\n",
       "    </tr>\n",
       "    <tr>\n",
       "      <th>5</th>\n",
       "      <td>1.2.826.0.1.3680043.22327_C6</td>\n",
       "      <td>0.208194</td>\n",
       "    </tr>\n",
       "    <tr>\n",
       "      <th>6</th>\n",
       "      <td>1.2.826.0.1.3680043.22327_C7</td>\n",
       "      <td>0.270497</td>\n",
       "    </tr>\n",
       "    <tr>\n",
       "      <th>7</th>\n",
       "      <td>1.2.826.0.1.3680043.22327_patient_overall</td>\n",
       "      <td>0.588640</td>\n",
       "    </tr>\n",
       "    <tr>\n",
       "      <th>8</th>\n",
       "      <td>1.2.826.0.1.3680043.25399_C1</td>\n",
       "      <td>0.115261</td>\n",
       "    </tr>\n",
       "    <tr>\n",
       "      <th>9</th>\n",
       "      <td>1.2.826.0.1.3680043.25399_C2</td>\n",
       "      <td>0.231470</td>\n",
       "    </tr>\n",
       "    <tr>\n",
       "      <th>10</th>\n",
       "      <td>1.2.826.0.1.3680043.25399_C3</td>\n",
       "      <td>0.133444</td>\n",
       "    </tr>\n",
       "    <tr>\n",
       "      <th>11</th>\n",
       "      <td>1.2.826.0.1.3680043.25399_C4</td>\n",
       "      <td>0.168597</td>\n",
       "    </tr>\n",
       "    <tr>\n",
       "      <th>12</th>\n",
       "      <td>1.2.826.0.1.3680043.25399_C5</td>\n",
       "      <td>0.201730</td>\n",
       "    </tr>\n",
       "    <tr>\n",
       "      <th>13</th>\n",
       "      <td>1.2.826.0.1.3680043.25399_C6</td>\n",
       "      <td>0.186736</td>\n",
       "    </tr>\n",
       "    <tr>\n",
       "      <th>14</th>\n",
       "      <td>1.2.826.0.1.3680043.25399_C7</td>\n",
       "      <td>0.222943</td>\n",
       "    </tr>\n",
       "    <tr>\n",
       "      <th>15</th>\n",
       "      <td>1.2.826.0.1.3680043.25399_patient_overall</td>\n",
       "      <td>0.544013</td>\n",
       "    </tr>\n",
       "    <tr>\n",
       "      <th>16</th>\n",
       "      <td>1.2.826.0.1.3680043.5876_C1</td>\n",
       "      <td>0.039153</td>\n",
       "    </tr>\n",
       "    <tr>\n",
       "      <th>17</th>\n",
       "      <td>1.2.826.0.1.3680043.5876_C2</td>\n",
       "      <td>0.193115</td>\n",
       "    </tr>\n",
       "    <tr>\n",
       "      <th>18</th>\n",
       "      <td>1.2.826.0.1.3680043.5876_C3</td>\n",
       "      <td>0.047272</td>\n",
       "    </tr>\n",
       "    <tr>\n",
       "      <th>19</th>\n",
       "      <td>1.2.826.0.1.3680043.5876_C4</td>\n",
       "      <td>0.074728</td>\n",
       "    </tr>\n",
       "    <tr>\n",
       "      <th>20</th>\n",
       "      <td>1.2.826.0.1.3680043.5876_C5</td>\n",
       "      <td>0.113003</td>\n",
       "    </tr>\n",
       "    <tr>\n",
       "      <th>21</th>\n",
       "      <td>1.2.826.0.1.3680043.5876_C6</td>\n",
       "      <td>0.112554</td>\n",
       "    </tr>\n",
       "    <tr>\n",
       "      <th>22</th>\n",
       "      <td>1.2.826.0.1.3680043.5876_C7</td>\n",
       "      <td>0.176783</td>\n",
       "    </tr>\n",
       "    <tr>\n",
       "      <th>23</th>\n",
       "      <td>1.2.826.0.1.3680043.5876_patient_overall</td>\n",
       "      <td>0.615936</td>\n",
       "    </tr>\n",
       "  </tbody>\n",
       "</table>\n",
       "</div>"
      ],
      "text/plain": [
       "                                       row_id  fractured\n",
       "0                1.2.826.0.1.3680043.22327_C1   0.108703\n",
       "1                1.2.826.0.1.3680043.22327_C2   0.292675\n",
       "2                1.2.826.0.1.3680043.22327_C3   0.122686\n",
       "3                1.2.826.0.1.3680043.22327_C4   0.164192\n",
       "4                1.2.826.0.1.3680043.22327_C5   0.217786\n",
       "5                1.2.826.0.1.3680043.22327_C6   0.208194\n",
       "6                1.2.826.0.1.3680043.22327_C7   0.270497\n",
       "7   1.2.826.0.1.3680043.22327_patient_overall   0.588640\n",
       "8                1.2.826.0.1.3680043.25399_C1   0.115261\n",
       "9                1.2.826.0.1.3680043.25399_C2   0.231470\n",
       "10               1.2.826.0.1.3680043.25399_C3   0.133444\n",
       "11               1.2.826.0.1.3680043.25399_C4   0.168597\n",
       "12               1.2.826.0.1.3680043.25399_C5   0.201730\n",
       "13               1.2.826.0.1.3680043.25399_C6   0.186736\n",
       "14               1.2.826.0.1.3680043.25399_C7   0.222943\n",
       "15  1.2.826.0.1.3680043.25399_patient_overall   0.544013\n",
       "16                1.2.826.0.1.3680043.5876_C1   0.039153\n",
       "17                1.2.826.0.1.3680043.5876_C2   0.193115\n",
       "18                1.2.826.0.1.3680043.5876_C3   0.047272\n",
       "19                1.2.826.0.1.3680043.5876_C4   0.074728\n",
       "20                1.2.826.0.1.3680043.5876_C5   0.113003\n",
       "21                1.2.826.0.1.3680043.5876_C6   0.112554\n",
       "22                1.2.826.0.1.3680043.5876_C7   0.176783\n",
       "23   1.2.826.0.1.3680043.5876_patient_overall   0.615936"
      ]
     },
     "execution_count": 55,
     "metadata": {},
     "output_type": "execute_result"
    }
   ],
   "source": [
    "results_df_3D = pd.DataFrame(data=results_3D, columns=cols)\n",
    "results_df_3D.insert(0, 'patient_id', np.array(test_ids_3D))\n",
    "results_df_3D = results_df_3D.melt(id_vars='patient_id', value_vars=cols, var_name='bone', value_name='fractured')\n",
    "results_df_3D.insert(0, 'row_id', results_df_3D.patient_id + '_' + results_df_3D.bone)\n",
    "results_df_3D.drop(['patient_id', 'bone'], axis=1, inplace=True)\n",
    "results_df_3D = pd.DataFrame(results_df_3D.groupby(['row_id']).max().reset_index())\n",
    "results_df_3D.head(30)"
   ]
  },
  {
   "cell_type": "code",
   "execution_count": 56,
   "id": "2249d4fe",
   "metadata": {
    "execution": {
     "iopub.execute_input": "2022-09-22T12:55:45.307538Z",
     "iopub.status.busy": "2022-09-22T12:55:45.307218Z",
     "iopub.status.idle": "2022-09-22T12:55:45.315131Z",
     "shell.execute_reply": "2022-09-22T12:55:45.314342Z"
    },
    "papermill": {
     "duration": 0.03804,
     "end_time": "2022-09-22T12:55:45.317134",
     "exception": false,
     "start_time": "2022-09-22T12:55:45.279094",
     "status": "completed"
    },
    "tags": []
   },
   "outputs": [],
   "source": [
    "results_df_3D.to_csv('submission.csv', index=False)"
   ]
  }
 ],
 "metadata": {
  "kernelspec": {
   "display_name": "Python 3",
   "language": "python",
   "name": "python3"
  },
  "language_info": {
   "codemirror_mode": {
    "name": "ipython",
    "version": 3
   },
   "file_extension": ".py",
   "mimetype": "text/x-python",
   "name": "python",
   "nbconvert_exporter": "python",
   "pygments_lexer": "ipython3",
   "version": "3.7.12"
  },
  "papermill": {
   "default_parameters": {},
   "duration": 507.613548,
   "end_time": "2022-09-22T12:55:49.238830",
   "environment_variables": {},
   "exception": null,
   "input_path": "__notebook__.ipynb",
   "output_path": "__notebook__.ipynb",
   "parameters": {},
   "start_time": "2022-09-22T12:47:21.625282",
   "version": "2.3.4"
  }
 },
 "nbformat": 4,
 "nbformat_minor": 5
}
